{
 "cells": [
  {
   "cell_type": "code",
   "execution_count": 2,
   "metadata": {},
   "outputs": [],
   "source": [
    "import rqalpha as rqa\n",
    "import rqalpha_plus\n",
    "import rqdatac as rqd\n",
    "import pandas as pd\n",
    "import numpy as np\n",
    "import pickle\n",
    "import os\n",
    "from tqdm import tqdm\n",
    "import utils"
   ]
  },
  {
   "cell_type": "code",
   "execution_count": 3,
   "metadata": {},
   "outputs": [],
   "source": [
    "pd.set_option('display.width',200)\n",
    "pd.set_option('display.max_columns', 200)"
   ]
  },
  {
   "cell_type": "code",
   "execution_count": 4,
   "metadata": {},
   "outputs": [
    {
     "name": "stderr",
     "output_type": "stream",
     "text": [
      "F:\\anaconda\\envs\\ricequant\\lib\\site-packages\\rqdatac\\client.py:190: UserWarning: rqdatac is already inited. Settings will be changed.\n",
      "  warnings.warn(\"rqdatac is already inited. Settings will be changed.\", stacklevel=0)\n"
     ]
    }
   ],
   "source": [
    "rqd.init()"
   ]
  },
  {
   "cell_type": "markdown",
   "metadata": {},
   "source": [
    "# 1.获得因子数据"
   ]
  },
  {
   "cell_type": "code",
   "execution_count": 5,
   "metadata": {},
   "outputs": [],
   "source": [
    "start_date = '20140301'\n",
    "end_date = '20200929'"
   ]
  },
  {
   "cell_type": "code",
   "execution_count": 29,
   "metadata": {},
   "outputs": [],
   "source": [
    "category = ['业绩增长','业绩增长','业绩增长','投资回报率','投资回报率','规模增长','效率提升','效率提升','效率提升']\n",
    "factors_name_dict = {\n",
    "    '营收增长':'inc_revenue_ttm',\n",
    "    '毛利润增长':'gross_profit_growth_ratio_ttm',\n",
    "    '净利润增长':'net_profit_growth_ratio_ttm',\n",
    "    '投入资本回报率':'return_on_invested_capital_ttm',\n",
    "    '股权投资回报率':'return_on_equity_ttm',\n",
    "    '总资产增长':'total_asset_growth_ratio_ttm',\n",
    "    '毛利率':'gross_profit_margin_ttm',\n",
    "    '经营利润率':'net_profit_to_revenue_ttm',\n",
    "    '总资产周转率':'total_asset_turnover_ttm'\n",
    "}"
   ]
  },
  {
   "cell_type": "code",
   "execution_count": 30,
   "metadata": {},
   "outputs": [],
   "source": [
    "columns = pd.MultiIndex.from_arrays([category,factors_name_dict.keys()])"
   ]
  },
  {
   "cell_type": "code",
   "execution_count": 31,
   "metadata": {},
   "outputs": [],
   "source": [
    "dates = rqd.get_trading_dates(start_date,end_date)\n",
    "\n",
    "# 每月底交易日\n",
    "dates_monthly = []\n",
    "lastdate = None\n",
    "for date in dates:\n",
    "    if lastdate is None:\n",
    "        lastdate = date\n",
    "        continue\n",
    "    if lastdate.month != date.month:\n",
    "        dates_monthly.append(lastdate)\n",
    "    lastdate = date"
   ]
  },
  {
   "cell_type": "code",
   "execution_count": 43,
   "metadata": {},
   "outputs": [
    {
     "name": "stderr",
     "output_type": "stream",
     "text": [
      "100%|██████████████████████████████████████████████████████████████████████████████████| 78/78 [10:18<00:00,  7.92s/it]\n"
     ]
    }
   ],
   "source": [
    "df_list = []\n",
    "for date in tqdm(dates_monthly):\n",
    "    universe =  rqd.all_instruments(type='CS',date=date)['order_book_id'].tolist()\n",
    "    df = rqd.get_factor(universe,factors_name_dict.values(),start_date=date,end_date=date,expect_df=True)\n",
    "    df_list.append(df.dropna())\n",
    "data = pd.concat(df_list)\n",
    "data.columns = columns"
   ]
  },
  {
   "cell_type": "code",
   "execution_count": 45,
   "metadata": {},
   "outputs": [],
   "source": [
    "data = data.swaplevel(0,1).sort_index()"
   ]
  },
  {
   "cell_type": "code",
   "execution_count": 46,
   "metadata": {},
   "outputs": [
    {
     "name": "stdout",
     "output_type": "stream",
     "text": [
      "<class 'pandas.core.frame.DataFrame'>\n",
      "MultiIndex: 223285 entries, (Timestamp('2014-03-31 00:00:00'), '000002.XSHE') to (Timestamp('2020-08-31 00:00:00'), '603999.XSHG')\n",
      "Data columns (total 9 columns):\n",
      " #   Column            Non-Null Count   Dtype  \n",
      "---  ------            --------------   -----  \n",
      " 0   (业绩增长, 营收增长)      223285 non-null  float64\n",
      " 1   (业绩增长, 毛利润增长)     223285 non-null  float64\n",
      " 2   (业绩增长, 净利润增长)     223285 non-null  float64\n",
      " 3   (投资回报率, 投入资本回报率)  223285 non-null  float64\n",
      " 4   (投资回报率, 股权投资回报率)  223285 non-null  float64\n",
      " 5   (规模增长, 总资产增长)     223285 non-null  float64\n",
      " 6   (效率提升, 毛利率)       223285 non-null  float64\n",
      " 7   (效率提升, 经营利润率)     223285 non-null  float64\n",
      " 8   (效率提升, 总资产周转率)    223285 non-null  float64\n",
      "dtypes: float64(9)\n",
      "memory usage: 16.2+ MB\n"
     ]
    }
   ],
   "source": [
    "data.info()"
   ]
  },
  {
   "cell_type": "code",
   "execution_count": 47,
   "metadata": {},
   "outputs": [
    {
     "data": {
      "text/html": [
       "<div>\n",
       "<style scoped>\n",
       "    .dataframe tbody tr th:only-of-type {\n",
       "        vertical-align: middle;\n",
       "    }\n",
       "\n",
       "    .dataframe tbody tr th {\n",
       "        vertical-align: top;\n",
       "    }\n",
       "\n",
       "    .dataframe thead tr th {\n",
       "        text-align: left;\n",
       "    }\n",
       "\n",
       "    .dataframe thead tr:last-of-type th {\n",
       "        text-align: right;\n",
       "    }\n",
       "</style>\n",
       "<table border=\"1\" class=\"dataframe\">\n",
       "  <thead>\n",
       "    <tr>\n",
       "      <th></th>\n",
       "      <th></th>\n",
       "      <th colspan=\"3\" halign=\"left\">业绩增长</th>\n",
       "      <th colspan=\"2\" halign=\"left\">投资回报率</th>\n",
       "      <th>规模增长</th>\n",
       "      <th colspan=\"3\" halign=\"left\">效率提升</th>\n",
       "    </tr>\n",
       "    <tr>\n",
       "      <th></th>\n",
       "      <th></th>\n",
       "      <th>营收增长</th>\n",
       "      <th>毛利润增长</th>\n",
       "      <th>净利润增长</th>\n",
       "      <th>投入资本回报率</th>\n",
       "      <th>股权投资回报率</th>\n",
       "      <th>总资产增长</th>\n",
       "      <th>毛利率</th>\n",
       "      <th>经营利润率</th>\n",
       "      <th>总资产周转率</th>\n",
       "    </tr>\n",
       "    <tr>\n",
       "      <th>date</th>\n",
       "      <th>order_book_id</th>\n",
       "      <th></th>\n",
       "      <th></th>\n",
       "      <th></th>\n",
       "      <th></th>\n",
       "      <th></th>\n",
       "      <th></th>\n",
       "      <th></th>\n",
       "      <th></th>\n",
       "      <th></th>\n",
       "    </tr>\n",
       "  </thead>\n",
       "  <tbody>\n",
       "    <tr>\n",
       "      <th rowspan=\"5\" valign=\"top\">2014-03-31</th>\n",
       "      <th>000002.XSHE</th>\n",
       "      <td>0.313263</td>\n",
       "      <td>0.157450</td>\n",
       "      <td>0.168233</td>\n",
       "      <td>0.105831</td>\n",
       "      <td>0.223276</td>\n",
       "      <td>0.309391</td>\n",
       "      <td>0.314736</td>\n",
       "      <td>0.135118</td>\n",
       "      <td>0.302531</td>\n",
       "    </tr>\n",
       "    <tr>\n",
       "      <th>000004.XSHE</th>\n",
       "      <td>0.693459</td>\n",
       "      <td>0.320792</td>\n",
       "      <td>0.435734</td>\n",
       "      <td>0.073777</td>\n",
       "      <td>0.042768</td>\n",
       "      <td>0.011636</td>\n",
       "      <td>0.452795</td>\n",
       "      <td>0.112038</td>\n",
       "      <td>0.532575</td>\n",
       "    </tr>\n",
       "    <tr>\n",
       "      <th>000005.XSHE</th>\n",
       "      <td>0.279304</td>\n",
       "      <td>-0.655366</td>\n",
       "      <td>-1.410064</td>\n",
       "      <td>0.031939</td>\n",
       "      <td>0.009622</td>\n",
       "      <td>-0.034773</td>\n",
       "      <td>0.421057</td>\n",
       "      <td>0.075148</td>\n",
       "      <td>0.070897</td>\n",
       "    </tr>\n",
       "    <tr>\n",
       "      <th>000006.XSHE</th>\n",
       "      <td>0.498858</td>\n",
       "      <td>0.094756</td>\n",
       "      <td>0.108716</td>\n",
       "      <td>0.117094</td>\n",
       "      <td>0.188787</td>\n",
       "      <td>0.174016</td>\n",
       "      <td>0.332134</td>\n",
       "      <td>0.151384</td>\n",
       "      <td>0.448457</td>\n",
       "    </tr>\n",
       "    <tr>\n",
       "      <th>000007.XSHE</th>\n",
       "      <td>-0.232473</td>\n",
       "      <td>-1.796984</td>\n",
       "      <td>0.795274</td>\n",
       "      <td>0.081838</td>\n",
       "      <td>0.130923</td>\n",
       "      <td>0.348132</td>\n",
       "      <td>0.569055</td>\n",
       "      <td>0.151570</td>\n",
       "      <td>0.307858</td>\n",
       "    </tr>\n",
       "    <tr>\n",
       "      <th>...</th>\n",
       "      <th>...</th>\n",
       "      <td>...</td>\n",
       "      <td>...</td>\n",
       "      <td>...</td>\n",
       "      <td>...</td>\n",
       "      <td>...</td>\n",
       "      <td>...</td>\n",
       "      <td>...</td>\n",
       "      <td>...</td>\n",
       "      <td>...</td>\n",
       "    </tr>\n",
       "    <tr>\n",
       "      <th rowspan=\"5\" valign=\"top\">2020-08-31</th>\n",
       "      <th>603993.XSHG</th>\n",
       "      <td>3.818711</td>\n",
       "      <td>-1.894836</td>\n",
       "      <td>-0.141264</td>\n",
       "      <td>0.032201</td>\n",
       "      <td>0.050825</td>\n",
       "      <td>0.183162</td>\n",
       "      <td>0.014899</td>\n",
       "      <td>0.018916</td>\n",
       "      <td>0.869850</td>\n",
       "    </tr>\n",
       "    <tr>\n",
       "      <th>603996.XSHG</th>\n",
       "      <td>-0.967082</td>\n",
       "      <td>6.227532</td>\n",
       "      <td>8.869926</td>\n",
       "      <td>-1.246634</td>\n",
       "      <td>-27.718983</td>\n",
       "      <td>-0.436152</td>\n",
       "      <td>-0.169818</td>\n",
       "      <td>-18.623825</td>\n",
       "      <td>0.045809</td>\n",
       "    </tr>\n",
       "    <tr>\n",
       "      <th>603997.XSHG</th>\n",
       "      <td>0.016430</td>\n",
       "      <td>-2.345920</td>\n",
       "      <td>-2.403677</td>\n",
       "      <td>0.000954</td>\n",
       "      <td>-0.061536</td>\n",
       "      <td>1.199799</td>\n",
       "      <td>0.126242</td>\n",
       "      <td>-0.018506</td>\n",
       "      <td>1.158268</td>\n",
       "    </tr>\n",
       "    <tr>\n",
       "      <th>603998.XSHG</th>\n",
       "      <td>0.052172</td>\n",
       "      <td>-0.440156</td>\n",
       "      <td>-0.340400</td>\n",
       "      <td>0.041439</td>\n",
       "      <td>0.056087</td>\n",
       "      <td>0.169469</td>\n",
       "      <td>0.675234</td>\n",
       "      <td>0.049889</td>\n",
       "      <td>0.568743</td>\n",
       "    </tr>\n",
       "    <tr>\n",
       "      <th>603999.XSHG</th>\n",
       "      <td>0.520029</td>\n",
       "      <td>-0.596263</td>\n",
       "      <td>0.343742</td>\n",
       "      <td>0.030149</td>\n",
       "      <td>0.039515</td>\n",
       "      <td>0.035870</td>\n",
       "      <td>0.182527</td>\n",
       "      <td>0.061039</td>\n",
       "      <td>0.512110</td>\n",
       "    </tr>\n",
       "  </tbody>\n",
       "</table>\n",
       "<p>223285 rows × 9 columns</p>\n",
       "</div>"
      ],
      "text/plain": [
       "                              业绩增长                         投资回报率                 规模增长      效率提升                     \n",
       "                              营收增长     毛利润增长     净利润增长   投入资本回报率    股权投资回报率     总资产增长       毛利率      经营利润率    总资产周转率\n",
       "date       order_book_id                                                                                            \n",
       "2014-03-31 000002.XSHE    0.313263  0.157450  0.168233  0.105831   0.223276  0.309391  0.314736   0.135118  0.302531\n",
       "           000004.XSHE    0.693459  0.320792  0.435734  0.073777   0.042768  0.011636  0.452795   0.112038  0.532575\n",
       "           000005.XSHE    0.279304 -0.655366 -1.410064  0.031939   0.009622 -0.034773  0.421057   0.075148  0.070897\n",
       "           000006.XSHE    0.498858  0.094756  0.108716  0.117094   0.188787  0.174016  0.332134   0.151384  0.448457\n",
       "           000007.XSHE   -0.232473 -1.796984  0.795274  0.081838   0.130923  0.348132  0.569055   0.151570  0.307858\n",
       "...                            ...       ...       ...       ...        ...       ...       ...        ...       ...\n",
       "2020-08-31 603993.XSHG    3.818711 -1.894836 -0.141264  0.032201   0.050825  0.183162  0.014899   0.018916  0.869850\n",
       "           603996.XSHG   -0.967082  6.227532  8.869926 -1.246634 -27.718983 -0.436152 -0.169818 -18.623825  0.045809\n",
       "           603997.XSHG    0.016430 -2.345920 -2.403677  0.000954  -0.061536  1.199799  0.126242  -0.018506  1.158268\n",
       "           603998.XSHG    0.052172 -0.440156 -0.340400  0.041439   0.056087  0.169469  0.675234   0.049889  0.568743\n",
       "           603999.XSHG    0.520029 -0.596263  0.343742  0.030149   0.039515  0.035870  0.182527   0.061039  0.512110\n",
       "\n",
       "[223285 rows x 9 columns]"
      ]
     },
     "execution_count": 47,
     "metadata": {},
     "output_type": "execute_result"
    }
   ],
   "source": [
    "data"
   ]
  },
  {
   "cell_type": "code",
   "execution_count": 48,
   "metadata": {},
   "outputs": [],
   "source": [
    "data.to_csv('成长因子数据.csv')"
   ]
  },
  {
   "cell_type": "code",
   "execution_count": null,
   "metadata": {},
   "outputs": [],
   "source": []
  }
 ],
 "metadata": {
  "kernelspec": {
   "display_name": "Python [conda env:ricequant]",
   "language": "python",
   "name": "conda-env-ricequant-py"
  },
  "language_info": {
   "codemirror_mode": {
    "name": "ipython",
    "version": 3
   },
   "file_extension": ".py",
   "mimetype": "text/x-python",
   "name": "python",
   "nbconvert_exporter": "python",
   "pygments_lexer": "ipython3",
   "version": "3.7.7"
  },
  "toc": {
   "base_numbering": 1,
   "nav_menu": {},
   "number_sections": true,
   "sideBar": true,
   "skip_h1_title": false,
   "title_cell": "Table of Contents",
   "title_sidebar": "Contents",
   "toc_cell": false,
   "toc_position": {},
   "toc_section_display": true,
   "toc_window_display": false
  },
  "varInspector": {
   "cols": {
    "lenName": 16,
    "lenType": 16,
    "lenVar": 40
   },
   "kernels_config": {
    "python": {
     "delete_cmd_postfix": "",
     "delete_cmd_prefix": "del ",
     "library": "var_list.py",
     "varRefreshCmd": "print(var_dic_list())"
    },
    "r": {
     "delete_cmd_postfix": ") ",
     "delete_cmd_prefix": "rm(",
     "library": "var_list.r",
     "varRefreshCmd": "cat(var_dic_list()) "
    }
   },
   "types_to_exclude": [
    "module",
    "function",
    "builtin_function_or_method",
    "instance",
    "_Feature"
   ],
   "window_display": false
  }
 },
 "nbformat": 4,
 "nbformat_minor": 4
}

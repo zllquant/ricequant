{
 "cells": [
  {
   "cell_type": "code",
   "execution_count": 1,
   "metadata": {},
   "outputs": [],
   "source": [
    "import rqalpha as rqa\n",
    "import rqalpha_plus\n",
    "import rqoptimizer as rqo\n",
    "import rqdatac as rqd\n",
    "import pandas as pd\n",
    "import numpy as np\n",
    "from datetime import datetime,timedelta\n",
    "import pickle\n",
    "import os"
   ]
  },
  {
   "cell_type": "code",
   "execution_count": 2,
   "metadata": {},
   "outputs": [],
   "source": [
    "rqd.init()"
   ]
  },
  {
   "cell_type": "code",
   "execution_count": 3,
   "metadata": {},
   "outputs": [],
   "source": [
    "def get_best_size_fund(date,lower_limit,upper_limit):\n",
    "    \"\"\"获取某天基金规模在一定范围内的混合型和股票型基金代码\"\"\"\n",
    "    fund_df = rqd.fund.all_instruments(date=date)\n",
    "    fund_df = fund_df[fund_df['fund_type'].isin(['Hybrid','Stock'])].dropna()\n",
    "    # 取规模在20-100亿之间的基金\n",
    "    fund_df = fund_df[(fund_df['latest_size']>lower_limit) & (fund_df['latest_size']<upper_limit)]\n",
    "    return fund_df['order_book_id'].tolist()\n",
    "\n",
    "def get_best_profit_fund(fund_list,start_date,end_date,ratio):\n",
    "    \"\"\"获取基金业绩前10%的基金\"\"\"\n",
    "    net_value_df = rqd.fund.get_nav(fund_list, start_date=start_date, end_date=end_date,expect_df=True)\n",
    "    return_df = net_value_df.groupby(level=0).apply(lambda x:x.iloc[-1]/x.iloc[0]-1)\n",
    "    n = int(return_df.shape[0]*ratio)\n",
    "    return return_df.nlargest(n,'unit_net_value').index.tolist()\n",
    "\n",
    "def get_target_portfolio(best_fund,date,nlargest,method,benchmark):\n",
    "    \"\"\"获得业绩最好的基金重仓股\"\"\"\n",
    "    holdings_df = rqd.fund.get_holdings(best_fund, date=date)\n",
    "    holdings_df = holdings_df[holdings_df['type']=='Stock']\n",
    "    holdings_df = holdings_df.droplevel(1)[['order_book_id','weight']]\n",
    "    # 获得每个基金前权重股\n",
    "    max_weight_holdings = holdings_df.groupby(level=0).apply(lambda x:x.nlargest(nlargest,'weight'))\n",
    "    if method == 'tracking_error':\n",
    "        universe = np.unique(max_weight_holdings['order_book_id'].values)\n",
    "        target_portfolio = rqo.portfolio_optimize(\n",
    "            universe, date, rqo.MinTrackingError(),benchmark=benchmark\n",
    "        )\n",
    "    return target_portfolio.loc[lambda x: x != 0]"
   ]
  },
  {
   "cell_type": "code",
   "execution_count": 4,
   "metadata": {},
   "outputs": [],
   "source": [
    "def init(context):\n",
    "    pass\n",
    "\n",
    "def handle_bar(context, bar_dict):\n",
    "    # 如果是False(不是月初),直接返回\n",
    "    if not _should_rebalance(context):\n",
    "        return\n",
    "    start_date = context.now-timedelta(365)\n",
    "    end_date = context.now\n",
    "    best_size = get_best_size_fund(context.now,context.lower_limit,context.upper_limit)\n",
    "    best_profit = get_best_profit_fund(best_size,start_date,end_date,context.ratio)\n",
    "    context.target_portfolio = get_target_portfolio(best_profit,context.now,**context.portfolio_args)\n",
    "    rebalance(context, bar_dict)\n",
    "    print(\"现有持仓数:\", len(context.portfolio.positions))\n",
    "\n",
    "\n",
    "def _should_rebalance(context):\n",
    "    \"\"\"判断今天是否调仓\"\"\"\n",
    "    # 获得下一个交易日\n",
    "    pre_trading_day = rqd.get_previous_trading_date(context.now)\n",
    "    # 判断是否是月初, 是月初返回True\n",
    "    is_rebalance = (pre_trading_day.month != context.now.month) and (context.now.month in [4,7,10,1])\n",
    "    return is_rebalance\n",
    "\n",
    "\n",
    "def rebalance(context, bar_dict):\n",
    "    positions = context.portfolio.positions\n",
    "    for order_book_id in positions:\n",
    "        if order_book_id not in context.target_portfolio:\n",
    "            rqa.api.order_to(order_book_id, 0)\n",
    "    \n",
    "    # 对每个股票计算目标价值和当前价值的差值\n",
    "    # 差值为正的是买单, 反之为卖单\n",
    "    capital = context.portfolio.total_value * (1 - context.cash_cushion)\n",
    "    to_sell, to_buy = {}, {}\n",
    "    _money_for_one_lot = lambda order_book_id: bar_dict[order_book_id].close * 100\n",
    "    for order_book_id, weight in context.target_portfolio.items():\n",
    "        # 股票目标价值\n",
    "        target_value = capital * weight\n",
    "        # 目标和现有之差\n",
    "        gap = target_value - positions[order_book_id].market_value\n",
    "        # 买卖至少大于1手股票价值\n",
    "        if abs(gap)<_money_for_one_lot(order_book_id):\n",
    "            continue\n",
    "        elif gap > 0:\n",
    "            to_buy[order_book_id] = gap\n",
    "        else:\n",
    "            to_sell[order_book_id] = gap\n",
    "\n",
    "    # to avoid liquidity issue, sell first, buy second\n",
    "    for order_book_id, value in to_sell.items():\n",
    "        rqa.api.order_value(order_book_id, value)\n",
    "    for order_book_id, value in to_buy.items():\n",
    "        rqa.api.order_value(order_book_id, value)"
   ]
  },
  {
   "cell_type": "code",
   "execution_count": 8,
   "metadata": {},
   "outputs": [],
   "source": [
    "MILLION = 1_000_000\n",
    "BILLION = 1000 * MILLION\n",
    "benchmark = '000300.XSHG'\n",
    "config = {\n",
    "    \"base\": {\n",
    "        \"start_date\": '2014-03-31',\n",
    "        \"end_date\": '2020-09-02',\n",
    "        \"frequency\": '1d',\n",
    "        \"accounts\": {\"stock\": 0.1 * BILLION},\n",
    "        \"data_bundle_path\":r'C:\\Users\\Administrator\\.rqalpha-plus\\bundle'\n",
    "    },\n",
    "    \"mod\": {\n",
    "        \"sys_analyser\": {\n",
    "            \"enabled\": True,\n",
    "            \"plot\": True,\n",
    "            \"benchmark\": benchmark,\n",
    "        },\n",
    "        'sys_simulation': {\n",
    "            # 撮合时无视涨跌停\n",
    "            'price_limit': False,\n",
    "        },\n",
    "        'sys_risk': {\n",
    "            'enabled': True,\n",
    "            # 发单时无视停牌\n",
    "            'validate_is_trading': False,\n",
    "            # 发单时无视涨跌停\n",
    "            'validate_price': False\n",
    "        },\n",
    "    },\n",
    "    \"extra\": {\n",
    "        \"log_level\": 'error',\n",
    "        \"context_vars\": {\n",
    "            'cash_cushion': 0.005,\n",
    "            'lower_limit': 2e9,\n",
    "            'upper_limit':1e10,\n",
    "            'ratio':0.2,\n",
    "            'portfolio_args':{\n",
    "                'nlargest':10,\n",
    "                'method':'tracking_error',\n",
    "                'benchmark':benchmark\n",
    "            }\n",
    "        },\n",
    "    },\n",
    "}"
   ]
  },
  {
   "cell_type": "code",
   "execution_count": 9,
   "metadata": {
    "scrolled": true
   },
   "outputs": [
    {
     "name": "stderr",
     "output_type": "stream",
     "text": [
      "F:\\anaconda\\envs\\ricequant\\lib\\site-packages\\rqdatac\\client.py:190: UserWarning: rqdatac is already inited. Settings will be changed.\n",
      "  warnings.warn(\"rqdatac is already inited. Settings will be changed.\", stacklevel=0)\n"
     ]
    },
    {
     "name": "stdout",
     "output_type": "stream",
     "text": [
      "WARN: aa_init returned NULL, no acceleration applied.\n"
     ]
    },
    {
     "name": "stderr",
     "output_type": "stream",
     "text": [
      "[2014-04-01 15:00:00.000000] INFO: user_log: 现有持仓数: 122\n"
     ]
    },
    {
     "name": "stdout",
     "output_type": "stream",
     "text": [
      "WARN: aa_init returned NULL, no acceleration applied.\n"
     ]
    },
    {
     "name": "stderr",
     "output_type": "stream",
     "text": [
      "[2014-07-01 15:00:00.000000] INFO: user_log: 现有持仓数: 198\n"
     ]
    },
    {
     "name": "stdout",
     "output_type": "stream",
     "text": [
      "WARN: aa_init returned NULL, no acceleration applied.\n"
     ]
    },
    {
     "name": "stderr",
     "output_type": "stream",
     "text": [
      "[2014-10-08 15:00:00.000000] INFO: user_log: 现有持仓数: 252\n"
     ]
    },
    {
     "name": "stdout",
     "output_type": "stream",
     "text": [
      "WARN: aa_init returned NULL, no acceleration applied.\n"
     ]
    },
    {
     "name": "stderr",
     "output_type": "stream",
     "text": [
      "[2015-01-05 15:00:00.000000] INFO: user_log: 现有持仓数: 257\n"
     ]
    },
    {
     "name": "stdout",
     "output_type": "stream",
     "text": [
      "WARN: aa_init returned NULL, no acceleration applied.\n"
     ]
    },
    {
     "name": "stderr",
     "output_type": "stream",
     "text": [
      "[2015-04-01 15:00:00.000000] INFO: user_log: 现有持仓数: 244\n"
     ]
    },
    {
     "name": "stdout",
     "output_type": "stream",
     "text": [
      "WARN: aa_init returned NULL, no acceleration applied.\n"
     ]
    },
    {
     "name": "stderr",
     "output_type": "stream",
     "text": [
      "[2015-07-01 15:00:00.000000] INFO: user_log: 现有持仓数: 246\n"
     ]
    },
    {
     "name": "stdout",
     "output_type": "stream",
     "text": [
      "WARN: aa_init returned NULL, no acceleration applied.\n"
     ]
    },
    {
     "name": "stderr",
     "output_type": "stream",
     "text": [
      "[2015-10-08 15:00:00.000000] INFO: user_log: 现有持仓数: 272\n"
     ]
    },
    {
     "name": "stdout",
     "output_type": "stream",
     "text": [
      "WARN: aa_init returned NULL, no acceleration applied.\n"
     ]
    },
    {
     "name": "stderr",
     "output_type": "stream",
     "text": [
      "[2016-01-04 15:00:00.000000] INFO: user_log: 现有持仓数: 282\n",
      "F:\\anaconda\\envs\\ricequant\\lib\\site-packages\\rqalpha\\core\\strategy.py:92: OptimizerWarning: 603798.XSHG 在 2016-04-01 尚未上市，被剔除\n",
      "  self._handle_bar(self._user_context, bar_dict)\n"
     ]
    },
    {
     "name": "stdout",
     "output_type": "stream",
     "text": [
      "WARN: aa_init returned NULL, no acceleration applied.\n"
     ]
    },
    {
     "name": "stderr",
     "output_type": "stream",
     "text": [
      "[2016-04-01 15:00:00.000000] INFO: user_log: 现有持仓数: 335\n"
     ]
    },
    {
     "name": "stdout",
     "output_type": "stream",
     "text": [
      "WARN: aa_init returned NULL, no acceleration applied.\n"
     ]
    },
    {
     "name": "stderr",
     "output_type": "stream",
     "text": [
      "[2016-07-01 15:00:00.000000] INFO: user_log: 现有持仓数: 353\n"
     ]
    },
    {
     "name": "stdout",
     "output_type": "stream",
     "text": [
      "WARN: aa_init returned NULL, no acceleration applied.\n"
     ]
    },
    {
     "name": "stderr",
     "output_type": "stream",
     "text": [
      "[2016-10-10 15:00:00.000000] INFO: user_log: 现有持仓数: 389\n"
     ]
    },
    {
     "name": "stdout",
     "output_type": "stream",
     "text": [
      "WARN: aa_init returned NULL, no acceleration applied.\n"
     ]
    },
    {
     "name": "stderr",
     "output_type": "stream",
     "text": [
      "[2017-01-03 15:00:00.000000] INFO: user_log: 现有持仓数: 393\n"
     ]
    },
    {
     "name": "stdout",
     "output_type": "stream",
     "text": [
      "WARN: aa_init returned NULL, no acceleration applied.\n"
     ]
    },
    {
     "name": "stderr",
     "output_type": "stream",
     "text": [
      "[2017-04-05 15:00:00.000000] INFO: user_log: 现有持仓数: 348\n",
      "[2017-07-03 15:00:00.000000] INFO: user_log: 现有持仓数: 278\n"
     ]
    },
    {
     "name": "stdout",
     "output_type": "stream",
     "text": [
      "WARN: aa_init returned NULL, no acceleration applied.\n"
     ]
    },
    {
     "name": "stderr",
     "output_type": "stream",
     "text": [
      "[2017-10-09 15:00:00.000000] INFO: user_log: 现有持仓数: 239\n"
     ]
    },
    {
     "name": "stdout",
     "output_type": "stream",
     "text": [
      "WARN: aa_init returned NULL, no acceleration applied.\n"
     ]
    },
    {
     "name": "stderr",
     "output_type": "stream",
     "text": [
      "[2018-01-02 15:00:00.000000] INFO: user_log: 现有持仓数: 226\n"
     ]
    },
    {
     "name": "stdout",
     "output_type": "stream",
     "text": [
      "WARN: aa_init returned NULL, no acceleration applied.\n"
     ]
    },
    {
     "name": "stderr",
     "output_type": "stream",
     "text": [
      "[2018-04-02 15:00:00.000000] INFO: user_log: 现有持仓数: 219\n"
     ]
    },
    {
     "name": "stdout",
     "output_type": "stream",
     "text": [
      "WARN: aa_init returned NULL, no acceleration applied.\n"
     ]
    },
    {
     "name": "stderr",
     "output_type": "stream",
     "text": [
      "[2018-07-02 15:00:00.000000] INFO: user_log: 现有持仓数: 204\n"
     ]
    },
    {
     "name": "stdout",
     "output_type": "stream",
     "text": [
      "WARN: aa_init returned NULL, no acceleration applied.\n"
     ]
    },
    {
     "name": "stderr",
     "output_type": "stream",
     "text": [
      "[2018-10-08 15:00:00.000000] INFO: user_log: 现有持仓数: 205\n"
     ]
    },
    {
     "name": "stdout",
     "output_type": "stream",
     "text": [
      "WARN: aa_init returned NULL, no acceleration applied.\n"
     ]
    },
    {
     "name": "stderr",
     "output_type": "stream",
     "text": [
      "F:\\anaconda\\envs\\ricequant\\lib\\site-packages\\rqalpha\\core\\strategy.py:92: OptimizerWarning: 600270.XSHG 在 2019-01-02 时已退市，被剔除\n",
      "  self._handle_bar(self._user_context, bar_dict)\n",
      "[2019-01-02 15:00:00.000000] INFO: user_log: 现有持仓数: 234\n"
     ]
    },
    {
     "name": "stdout",
     "output_type": "stream",
     "text": [
      "WARN: aa_init returned NULL, no acceleration applied.\n"
     ]
    },
    {
     "name": "stderr",
     "output_type": "stream",
     "text": [
      "[2019-04-01 15:00:00.000000] INFO: user_log: 现有持仓数: 268\n"
     ]
    },
    {
     "name": "stdout",
     "output_type": "stream",
     "text": [
      "WARN: aa_init returned NULL, no acceleration applied.\n"
     ]
    },
    {
     "name": "stderr",
     "output_type": "stream",
     "text": [
      "[2019-07-01 15:00:00.000000] INFO: user_log: 现有持仓数: 250\n"
     ]
    },
    {
     "name": "stdout",
     "output_type": "stream",
     "text": [
      "WARN: aa_init returned NULL, no acceleration applied.\n"
     ]
    },
    {
     "name": "stderr",
     "output_type": "stream",
     "text": [
      "[2019-10-08 15:00:00.000000] INFO: user_log: 现有持仓数: 226\n"
     ]
    },
    {
     "name": "stdout",
     "output_type": "stream",
     "text": [
      "WARN: aa_init returned NULL, no acceleration applied.\n"
     ]
    },
    {
     "name": "stderr",
     "output_type": "stream",
     "text": [
      "[2020-01-02 15:00:00.000000] INFO: user_log: 现有持仓数: 222\n"
     ]
    },
    {
     "name": "stdout",
     "output_type": "stream",
     "text": [
      "WARN: aa_init returned NULL, no acceleration applied.\n"
     ]
    },
    {
     "name": "stderr",
     "output_type": "stream",
     "text": [
      "[2020-04-01 15:00:00.000000] INFO: user_log: 现有持仓数: 231\n"
     ]
    },
    {
     "name": "stdout",
     "output_type": "stream",
     "text": [
      "WARN: aa_init returned NULL, no acceleration applied.\n"
     ]
    },
    {
     "name": "stderr",
     "output_type": "stream",
     "text": [
      "[2020-07-01 15:00:00.000000] INFO: user_log: 现有持仓数: 247\n"
     ]
    },
    {
     "name": "stdout",
     "output_type": "stream",
     "text": [
      "WARN: aa_init returned NULL, no acceleration applied.\n"
     ]
    },
    {
     "name": "stderr",
     "output_type": "stream",
     "text": [
      "F:\\anaconda\\envs\\ricequant\\lib\\site-packages\\rqalpha\\mod\\rqalpha_mod_sys_analyser\\plot.py:188: UserWarning: FixedFormatter should only be used together with FixedLocator\n",
      "  ax.set_yticklabels(['{:3.2f}%'.format(x * 100) for x in vals])\n"
     ]
    },
    {
     "data": {
      "image/png": "[encoded data removed]",
      "text/plain": [
       "<Figure size 1296x432 with 3 Axes>"
      ]
     },
     "metadata": {},
     "output_type": "display_data"
    }
   ],
   "source": [
    "result = rqalpha_plus.run_func(init=init,handle_bar=handle_bar, config=config)"
   ]
  },
  {
   "cell_type": "markdown",
   "metadata": {},
   "source": [
    "---"
   ]
  },
  {
   "cell_type": "code",
   "execution_count": 10,
   "metadata": {},
   "outputs": [],
   "source": [
    "if not os.path.exists('result'):\n",
    "    os.makedirs('result')\n",
    "with open(f'result/基金重仓股_300_规模20-100亿_前20%.pkl', 'wb') as pf:\n",
    "    pickle.dump((config, result), pf)\n",
    "result['sys_analyser']['trades'].to_csv(f'result/基金重仓股_300_规模20-100亿_前20%_trades.csv')"
   ]
  },
  {
   "cell_type": "code",
   "execution_count": null,
   "metadata": {},
   "outputs": [],
   "source": []
  }
 ],
 "metadata": {
  "kernelspec": {
   "display_name": "Python [conda env:ricequant]",
   "language": "python",
   "name": "conda-env-ricequant-py"
  },
  "language_info": {
   "codemirror_mode": {
    "name": "ipython",
    "version": 3
   },
   "file_extension": ".py",
   "mimetype": "text/x-python",
   "name": "python",
   "nbconvert_exporter": "python",
   "pygments_lexer": "ipython3",
   "version": "3.7.7"
  },
  "toc": {
   "base_numbering": 1,
   "nav_menu": {},
   "number_sections": true,
   "sideBar": true,
   "skip_h1_title": false,
   "title_cell": "Table of Contents",
   "title_sidebar": "Contents",
   "toc_cell": false,
   "toc_position": {},
   "toc_section_display": true,
   "toc_window_display": false
  },
  "varInspector": {
   "cols": {
    "lenName": 16,
    "lenType": 16,
    "lenVar": 40
   },
   "kernels_config": {
    "python": {
     "delete_cmd_postfix": "",
     "delete_cmd_prefix": "del ",
     "library": "var_list.py",
     "varRefreshCmd": "print(var_dic_list())"
    },
    "r": {
     "delete_cmd_postfix": ") ",
     "delete_cmd_prefix": "rm(",
     "library": "var_list.r",
     "varRefreshCmd": "cat(var_dic_list()) "
    }
   },
   "types_to_exclude": [
    "module",
    "function",
    "builtin_function_or_method",
    "instance",
    "_Feature"
   ],
   "window_display": false
  }
 },
 "nbformat": 4,
 "nbformat_minor": 4
}

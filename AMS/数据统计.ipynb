{
 "cells": [
  {
   "cell_type": "code",
   "execution_count": 31,
   "metadata": {},
   "outputs": [],
   "source": [
    "import pandas as pd\n",
    "import pickle\n",
    "import rqdatac as rqd\n",
    "rqd.init()"
   ]
  },
  {
   "cell_type": "code",
   "execution_count": 95,
   "metadata": {},
   "outputs": [],
   "source": [
    "path = 'private.Hacken_Quality_Org/private.Hacken_Quality_Org.pkl'"
   ]
  },
  {
   "cell_type": "code",
   "execution_count": 96,
   "metadata": {},
   "outputs": [],
   "source": [
    "with open(path,'rb') as f:\n",
    "    result = pickle.load(f)[1]['sys_analyser']"
   ]
  },
  {
   "cell_type": "code",
   "execution_count": 97,
   "metadata": {},
   "outputs": [
    {
     "data": {
      "text/plain": [
       "{'strategy_name': 'strategy',\n",
       " 'start_date': '2014-03-03',\n",
       " 'end_date': '2020-08-31',\n",
       " 'strategy_file': 'strategy.py',\n",
       " 'run_type': 'BACKTEST',\n",
       " 'STOCK': 100000000.0,\n",
       " 'alpha': 0.105,\n",
       " 'beta': 0.95,\n",
       " 'sharpe': 0.659,\n",
       " 'information_ratio': 1.666,\n",
       " 'downside_risk': 0.039,\n",
       " 'tracking_error': 0.061,\n",
       " 'sortino': 0.291,\n",
       " 'volatility': 0.273,\n",
       " 'max_drawdown': 0.452,\n",
       " 'total_value': 322082295.244,\n",
       " 'cash': 2800258.924,\n",
       " 'total_returns': 2.220823,\n",
       " 'annualized_returns': 0.204,\n",
       " 'unit_net_value': 3.221,\n",
       " 'units': 100000000.0,\n",
       " 'benchmark_total_returns': 0.677,\n",
       " 'benchmark_annualized_returns': 0.086}"
      ]
     },
     "execution_count": 97,
     "metadata": {},
     "output_type": "execute_result"
    }
   ],
   "source": [
    "result['summary']"
   ]
  },
  {
   "cell_type": "code",
   "execution_count": 98,
   "metadata": {},
   "outputs": [],
   "source": [
    "net_value = result['portfolio']['unit_net_value']"
   ]
  },
  {
   "cell_type": "code",
   "execution_count": 99,
   "metadata": {},
   "outputs": [
    {
     "data": {
      "text/plain": [
       "date\n",
       "2014-03-03    0.999207\n",
       "2014-03-04    0.996620\n",
       "2014-03-05    0.993486\n",
       "2014-03-06    0.996087\n",
       "2014-03-07    0.992481\n",
       "                ...   \n",
       "2020-08-25    3.199660\n",
       "2020-08-26    3.135884\n",
       "2020-08-27    3.162310\n",
       "2020-08-28    3.216105\n",
       "2020-08-31    3.220823\n",
       "Name: unit_net_value, Length: 1588, dtype: float64"
      ]
     },
     "execution_count": 99,
     "metadata": {},
     "output_type": "execute_result"
    }
   ],
   "source": [
    "net_value"
   ]
  },
  {
   "cell_type": "code",
   "execution_count": 7,
   "metadata": {},
   "outputs": [
    {
     "data": {
      "text/plain": [
       "0.28433518302581673"
      ]
     },
     "execution_count": 7,
     "metadata": {},
     "output_type": "execute_result"
    }
   ],
   "source": [
    "net_value[-1]/net_value.loc['2019-08-30']-1"
   ]
  },
  {
   "cell_type": "code",
   "execution_count": 8,
   "metadata": {},
   "outputs": [],
   "source": [
    "benchmark = result['benchmark_portfolio']['unit_net_value']"
   ]
  },
  {
   "cell_type": "code",
   "execution_count": 14,
   "metadata": {},
   "outputs": [
    {
     "data": {
      "text/plain": [
       "date\n",
       "2014-03-03    1.020843\n",
       "2014-03-04    1.021036\n",
       "2014-03-05    1.015557\n",
       "2014-03-06    1.014293\n",
       "2014-03-07    1.009185\n",
       "                ...   \n",
       "2020-08-25    1.673206\n",
       "2020-08-26    1.641347\n",
       "2020-08-27    1.654655\n",
       "2020-08-28    1.682930\n",
       "2020-08-31    1.677201\n",
       "Name: unit_net_value, Length: 1588, dtype: float64"
      ]
     },
     "execution_count": 14,
     "metadata": {},
     "output_type": "execute_result"
    }
   ],
   "source": [
    "benchmark"
   ]
  },
  {
   "cell_type": "code",
   "execution_count": 19,
   "metadata": {},
   "outputs": [
    {
     "data": {
      "text/plain": [
       "0.013237541501410544"
      ]
     },
     "execution_count": 19,
     "metadata": {},
     "output_type": "execute_result"
    }
   ],
   "source": [
    "benchmark.iloc[-1]/benchmark.loc['2015-08-31']-1"
   ]
  },
  {
   "cell_type": "markdown",
   "metadata": {},
   "source": [
    "# 十大持仓"
   ]
  },
  {
   "cell_type": "code",
   "execution_count": 100,
   "metadata": {},
   "outputs": [],
   "source": [
    "positions = result['stock_positions'].loc['2020-08-31']"
   ]
  },
  {
   "cell_type": "code",
   "execution_count": 101,
   "metadata": {},
   "outputs": [
    {
     "name": "stderr",
     "output_type": "stream",
     "text": [
      "F:\\anaconda\\envs\\ricequant\\lib\\site-packages\\ipykernel_launcher.py:1: SettingWithCopyWarning: \n",
      "A value is trying to be set on a copy of a slice from a DataFrame.\n",
      "Try using .loc[row_indexer,col_indexer] = value instead\n",
      "\n",
      "See the caveats in the documentation: https://pandas.pydata.org/pandas-docs/stable/user_guide/indexing.html#returning-a-view-versus-a-copy\n",
      "  \"\"\"Entry point for launching an IPython kernel.\n"
     ]
    }
   ],
   "source": [
    "positions['weight'] = positions['market_value']/positions['market_value'].sum()"
   ]
  },
  {
   "cell_type": "code",
   "execution_count": 102,
   "metadata": {},
   "outputs": [],
   "source": [
    "positions = positions.sort_values(by='weight',ascending=False)"
   ]
  },
  {
   "cell_type": "code",
   "execution_count": 104,
   "metadata": {},
   "outputs": [
    {
     "data": {
      "text/html": [
       "<div>\n",
       "<style scoped>\n",
       "    .dataframe tbody tr th:only-of-type {\n",
       "        vertical-align: middle;\n",
       "    }\n",
       "\n",
       "    .dataframe tbody tr th {\n",
       "        vertical-align: top;\n",
       "    }\n",
       "\n",
       "    .dataframe thead th {\n",
       "        text-align: right;\n",
       "    }\n",
       "</style>\n",
       "<table border=\"1\" class=\"dataframe\">\n",
       "  <thead>\n",
       "    <tr style=\"text-align: right;\">\n",
       "      <th></th>\n",
       "      <th>order_book_id</th>\n",
       "      <th>symbol</th>\n",
       "      <th>quantity</th>\n",
       "      <th>last_price</th>\n",
       "      <th>avg_price</th>\n",
       "      <th>market_value</th>\n",
       "      <th>weight</th>\n",
       "    </tr>\n",
       "    <tr>\n",
       "      <th>date</th>\n",
       "      <th></th>\n",
       "      <th></th>\n",
       "      <th></th>\n",
       "      <th></th>\n",
       "      <th></th>\n",
       "      <th></th>\n",
       "      <th></th>\n",
       "    </tr>\n",
       "  </thead>\n",
       "  <tbody>\n",
       "    <tr>\n",
       "      <th>2020-08-31</th>\n",
       "      <td>000725.XSHE</td>\n",
       "      <td>京东方A</td>\n",
       "      <td>2078931.0</td>\n",
       "      <td>5.50</td>\n",
       "      <td>3.846</td>\n",
       "      <td>11434120.50</td>\n",
       "      <td>0.035812</td>\n",
       "    </tr>\n",
       "    <tr>\n",
       "      <th>2020-08-31</th>\n",
       "      <td>601628.XSHG</td>\n",
       "      <td>中国人寿</td>\n",
       "      <td>211400.0</td>\n",
       "      <td>43.68</td>\n",
       "      <td>27.749</td>\n",
       "      <td>9233952.00</td>\n",
       "      <td>0.028921</td>\n",
       "    </tr>\n",
       "    <tr>\n",
       "      <th>2020-08-31</th>\n",
       "      <td>600346.XSHG</td>\n",
       "      <td>恒力石化</td>\n",
       "      <td>416216.0</td>\n",
       "      <td>21.03</td>\n",
       "      <td>15.373</td>\n",
       "      <td>8753022.48</td>\n",
       "      <td>0.027415</td>\n",
       "    </tr>\n",
       "    <tr>\n",
       "      <th>2020-08-31</th>\n",
       "      <td>601607.XSHG</td>\n",
       "      <td>上海医药</td>\n",
       "      <td>378600.0</td>\n",
       "      <td>22.20</td>\n",
       "      <td>22.550</td>\n",
       "      <td>8404920.00</td>\n",
       "      <td>0.026324</td>\n",
       "    </tr>\n",
       "    <tr>\n",
       "      <th>2020-08-31</th>\n",
       "      <td>600104.XSHG</td>\n",
       "      <td>上汽集团</td>\n",
       "      <td>344900.0</td>\n",
       "      <td>18.66</td>\n",
       "      <td>17.457</td>\n",
       "      <td>6435834.00</td>\n",
       "      <td>0.020157</td>\n",
       "    </tr>\n",
       "    <tr>\n",
       "      <th>2020-08-31</th>\n",
       "      <td>000100.XSHE</td>\n",
       "      <td>TCL科技</td>\n",
       "      <td>807684.0</td>\n",
       "      <td>7.08</td>\n",
       "      <td>3.518</td>\n",
       "      <td>5718402.72</td>\n",
       "      <td>0.017910</td>\n",
       "    </tr>\n",
       "    <tr>\n",
       "      <th>2020-08-31</th>\n",
       "      <td>601155.XSHG</td>\n",
       "      <td>新城控股</td>\n",
       "      <td>139549.0</td>\n",
       "      <td>35.90</td>\n",
       "      <td>30.359</td>\n",
       "      <td>5009809.10</td>\n",
       "      <td>0.015691</td>\n",
       "    </tr>\n",
       "    <tr>\n",
       "      <th>2020-08-31</th>\n",
       "      <td>600050.XSHG</td>\n",
       "      <td>中国联通</td>\n",
       "      <td>943004.0</td>\n",
       "      <td>5.19</td>\n",
       "      <td>5.704</td>\n",
       "      <td>4894190.76</td>\n",
       "      <td>0.015329</td>\n",
       "    </tr>\n",
       "    <tr>\n",
       "      <th>2020-08-31</th>\n",
       "      <td>601766.XSHG</td>\n",
       "      <td>中国中车</td>\n",
       "      <td>796000.0</td>\n",
       "      <td>5.86</td>\n",
       "      <td>5.780</td>\n",
       "      <td>4664560.00</td>\n",
       "      <td>0.014610</td>\n",
       "    </tr>\n",
       "    <tr>\n",
       "      <th>2020-08-31</th>\n",
       "      <td>600998.XSHG</td>\n",
       "      <td>九州通</td>\n",
       "      <td>250100.0</td>\n",
       "      <td>17.72</td>\n",
       "      <td>20.190</td>\n",
       "      <td>4431772.00</td>\n",
       "      <td>0.013880</td>\n",
       "    </tr>\n",
       "  </tbody>\n",
       "</table>\n",
       "</div>"
      ],
      "text/plain": [
       "           order_book_id symbol   quantity  last_price  avg_price  \\\n",
       "date                                                                \n",
       "2020-08-31   000725.XSHE   京东方A  2078931.0        5.50      3.846   \n",
       "2020-08-31   601628.XSHG   中国人寿   211400.0       43.68     27.749   \n",
       "2020-08-31   600346.XSHG   恒力石化   416216.0       21.03     15.373   \n",
       "2020-08-31   601607.XSHG   上海医药   378600.0       22.20     22.550   \n",
       "2020-08-31   600104.XSHG   上汽集团   344900.0       18.66     17.457   \n",
       "2020-08-31   000100.XSHE  TCL科技   807684.0        7.08      3.518   \n",
       "2020-08-31   601155.XSHG   新城控股   139549.0       35.90     30.359   \n",
       "2020-08-31   600050.XSHG   中国联通   943004.0        5.19      5.704   \n",
       "2020-08-31   601766.XSHG   中国中车   796000.0        5.86      5.780   \n",
       "2020-08-31   600998.XSHG    九州通   250100.0       17.72     20.190   \n",
       "\n",
       "            market_value    weight  \n",
       "date                                \n",
       "2020-08-31   11434120.50  0.035812  \n",
       "2020-08-31    9233952.00  0.028921  \n",
       "2020-08-31    8753022.48  0.027415  \n",
       "2020-08-31    8404920.00  0.026324  \n",
       "2020-08-31    6435834.00  0.020157  \n",
       "2020-08-31    5718402.72  0.017910  \n",
       "2020-08-31    5009809.10  0.015691  \n",
       "2020-08-31    4894190.76  0.015329  \n",
       "2020-08-31    4664560.00  0.014610  \n",
       "2020-08-31    4431772.00  0.013880  "
      ]
     },
     "execution_count": 104,
     "metadata": {},
     "output_type": "execute_result"
    }
   ],
   "source": [
    "positions[:10]"
   ]
  },
  {
   "cell_type": "code",
   "execution_count": 105,
   "metadata": {},
   "outputs": [],
   "source": [
    "positions.set_index('order_book_id',inplace=True)"
   ]
  },
  {
   "cell_type": "code",
   "execution_count": 106,
   "metadata": {},
   "outputs": [],
   "source": [
    "positions['industry'] = rqd.get_instrument_industry(positions.index,source='sws',date='20200831')['first_industry_name']"
   ]
  },
  {
   "cell_type": "code",
   "execution_count": 107,
   "metadata": {},
   "outputs": [
    {
     "data": {
      "text/html": [
       "<div>\n",
       "<style scoped>\n",
       "    .dataframe tbody tr th:only-of-type {\n",
       "        vertical-align: middle;\n",
       "    }\n",
       "\n",
       "    .dataframe tbody tr th {\n",
       "        vertical-align: top;\n",
       "    }\n",
       "\n",
       "    .dataframe thead th {\n",
       "        text-align: right;\n",
       "    }\n",
       "</style>\n",
       "<table border=\"1\" class=\"dataframe\">\n",
       "  <thead>\n",
       "    <tr style=\"text-align: right;\">\n",
       "      <th></th>\n",
       "      <th>weight</th>\n",
       "    </tr>\n",
       "    <tr>\n",
       "      <th>industry</th>\n",
       "      <th></th>\n",
       "    </tr>\n",
       "  </thead>\n",
       "  <tbody>\n",
       "    <tr>\n",
       "      <th>医药生物</th>\n",
       "      <td>0.141746</td>\n",
       "    </tr>\n",
       "    <tr>\n",
       "      <th>电子</th>\n",
       "      <td>0.084190</td>\n",
       "    </tr>\n",
       "    <tr>\n",
       "      <th>化工</th>\n",
       "      <td>0.079631</td>\n",
       "    </tr>\n",
       "    <tr>\n",
       "      <th>计算机</th>\n",
       "      <td>0.069590</td>\n",
       "    </tr>\n",
       "    <tr>\n",
       "      <th>传媒</th>\n",
       "      <td>0.054029</td>\n",
       "    </tr>\n",
       "    <tr>\n",
       "      <th>非银金融</th>\n",
       "      <td>0.048169</td>\n",
       "    </tr>\n",
       "    <tr>\n",
       "      <th>电气设备</th>\n",
       "      <td>0.042159</td>\n",
       "    </tr>\n",
       "    <tr>\n",
       "      <th>有色金属</th>\n",
       "      <td>0.039046</td>\n",
       "    </tr>\n",
       "    <tr>\n",
       "      <th>汽车</th>\n",
       "      <td>0.037859</td>\n",
       "    </tr>\n",
       "    <tr>\n",
       "      <th>农林牧渔</th>\n",
       "      <td>0.035397</td>\n",
       "    </tr>\n",
       "    <tr>\n",
       "      <th>房地产</th>\n",
       "      <td>0.034636</td>\n",
       "    </tr>\n",
       "    <tr>\n",
       "      <th>公用事业</th>\n",
       "      <td>0.032398</td>\n",
       "    </tr>\n",
       "    <tr>\n",
       "      <th>食品饮料</th>\n",
       "      <td>0.031408</td>\n",
       "    </tr>\n",
       "    <tr>\n",
       "      <th>商业贸易</th>\n",
       "      <td>0.030781</td>\n",
       "    </tr>\n",
       "    <tr>\n",
       "      <th>交通运输</th>\n",
       "      <td>0.030294</td>\n",
       "    </tr>\n",
       "    <tr>\n",
       "      <th>机械设备</th>\n",
       "      <td>0.030139</td>\n",
       "    </tr>\n",
       "    <tr>\n",
       "      <th>国防军工</th>\n",
       "      <td>0.027217</td>\n",
       "    </tr>\n",
       "    <tr>\n",
       "      <th>钢铁</th>\n",
       "      <td>0.024924</td>\n",
       "    </tr>\n",
       "    <tr>\n",
       "      <th>轻工制造</th>\n",
       "      <td>0.021847</td>\n",
       "    </tr>\n",
       "    <tr>\n",
       "      <th>通信</th>\n",
       "      <td>0.021084</td>\n",
       "    </tr>\n",
       "    <tr>\n",
       "      <th>建筑材料</th>\n",
       "      <td>0.017158</td>\n",
       "    </tr>\n",
       "    <tr>\n",
       "      <th>综合</th>\n",
       "      <td>0.012343</td>\n",
       "    </tr>\n",
       "    <tr>\n",
       "      <th>建筑装饰</th>\n",
       "      <td>0.012316</td>\n",
       "    </tr>\n",
       "    <tr>\n",
       "      <th>银行</th>\n",
       "      <td>0.011868</td>\n",
       "    </tr>\n",
       "    <tr>\n",
       "      <th>采掘</th>\n",
       "      <td>0.010600</td>\n",
       "    </tr>\n",
       "    <tr>\n",
       "      <th>家用电器</th>\n",
       "      <td>0.010409</td>\n",
       "    </tr>\n",
       "    <tr>\n",
       "      <th>休闲服务</th>\n",
       "      <td>0.005255</td>\n",
       "    </tr>\n",
       "    <tr>\n",
       "      <th>纺织服装</th>\n",
       "      <td>0.003505</td>\n",
       "    </tr>\n",
       "  </tbody>\n",
       "</table>\n",
       "</div>"
      ],
      "text/plain": [
       "            weight\n",
       "industry          \n",
       "医药生物      0.141746\n",
       "电子        0.084190\n",
       "化工        0.079631\n",
       "计算机       0.069590\n",
       "传媒        0.054029\n",
       "非银金融      0.048169\n",
       "电气设备      0.042159\n",
       "有色金属      0.039046\n",
       "汽车        0.037859\n",
       "农林牧渔      0.035397\n",
       "房地产       0.034636\n",
       "公用事业      0.032398\n",
       "食品饮料      0.031408\n",
       "商业贸易      0.030781\n",
       "交通运输      0.030294\n",
       "机械设备      0.030139\n",
       "国防军工      0.027217\n",
       "钢铁        0.024924\n",
       "轻工制造      0.021847\n",
       "通信        0.021084\n",
       "建筑材料      0.017158\n",
       "综合        0.012343\n",
       "建筑装饰      0.012316\n",
       "银行        0.011868\n",
       "采掘        0.010600\n",
       "家用电器      0.010409\n",
       "休闲服务      0.005255\n",
       "纺织服装      0.003505"
      ]
     },
     "execution_count": 107,
     "metadata": {},
     "output_type": "execute_result"
    }
   ],
   "source": [
    "positions.groupby('industry')['weight'].sum().sort_values(ascending=False).to_frame()"
   ]
  },
  {
   "cell_type": "code",
   "execution_count": null,
   "metadata": {},
   "outputs": [],
   "source": []
  }
 ],
 "metadata": {
  "kernelspec": {
   "display_name": "Python [conda env:ricequant]",
   "language": "python",
   "name": "conda-env-ricequant-py"
  },
  "language_info": {
   "codemirror_mode": {
    "name": "ipython",
    "version": 3
   },
   "file_extension": ".py",
   "mimetype": "text/x-python",
   "name": "python",
   "nbconvert_exporter": "python",
   "pygments_lexer": "ipython3",
   "version": "3.7.7"
  },
  "toc": {
   "base_numbering": 1,
   "nav_menu": {},
   "number_sections": true,
   "sideBar": true,
   "skip_h1_title": false,
   "title_cell": "Table of Contents",
   "title_sidebar": "Contents",
   "toc_cell": false,
   "toc_position": {},
   "toc_section_display": true,
   "toc_window_display": false
  },
  "varInspector": {
   "cols": {
    "lenName": 16,
    "lenType": 16,
    "lenVar": 40
   },
   "kernels_config": {
    "python": {
     "delete_cmd_postfix": "",
     "delete_cmd_prefix": "del ",
     "library": "var_list.py",
     "varRefreshCmd": "print(var_dic_list())"
    },
    "r": {
     "delete_cmd_postfix": ") ",
     "delete_cmd_prefix": "rm(",
     "library": "var_list.r",
     "varRefreshCmd": "cat(var_dic_list()) "
    }
   },
   "types_to_exclude": [
    "module",
    "function",
    "builtin_function_or_method",
    "instance",
    "_Feature"
   ],
   "window_display": false
  }
 },
 "nbformat": 4,
 "nbformat_minor": 2
}

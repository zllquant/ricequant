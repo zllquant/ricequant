{
 "cells": [
  {
   "cell_type": "code",
   "execution_count": 2,
   "metadata": {},
   "outputs": [],
   "source": [
    "import pandas as pd\n",
    "import pickle\n",
    "import rqdatac as rqd\n",
    "rqd.init()"
   ]
  },
  {
   "cell_type": "code",
   "execution_count": 119,
   "metadata": {},
   "outputs": [],
   "source": [
    "def get_statistical_indicators(path):\n",
    "    with open(path,'rb') as f:\n",
    "        config,result = pickle.load(f)\n",
    "    result = result['sys_analyser']\n",
    "    summary = {}\n",
    "    # ========相关数据========\n",
    "    # 起始日\n",
    "    summary['起始日'] = result['summary']['start_date']\n",
    "    # 标的资产\n",
    "    summary['标的资产'] = config['mod']['sys_analyser']['benchmark']\n",
    "    # 股票数\n",
    "    latest_date = result['stock_positions'].index.unique()[-1]\n",
    "    positions = result['stock_positions'].loc[latest_date]\n",
    "    positions.set_index('order_book_id',inplace=True)\n",
    "    positions['weight'] = positions.loc[:,'market_value']/positions.loc[:,'market_value'].sum()\n",
    "    summary['股票数'] = positions.shape[0]\n",
    "    # Beta\n",
    "    summary['Beta'] = result['summary']['beta']\n",
    "    # 跟踪误差\n",
    "    summary['跟踪误差'] = result['summary']['tracking_error']\n",
    "    # 年化收益率\n",
    "    summary['年化收益率'] = result['summary']['annualized_returns']\n",
    "    # 基准年化收益率\n",
    "    summary['基准年化收益率'] = result['summary']['benchmark_annualized_returns']\n",
    "    # 十大持仓股\n",
    "    summary['十大持仓股'] = positions.nlargest(10,'weight')[['symbol','weight']]\n",
    "    # 行业配置\n",
    "    positions['industry'] = rqd.get_instrument_industry(positions.index,source='sws',date=latest_date)['first_industry_name']\n",
    "    summary['行业配置'] = positions.groupby('industry')['weight'].sum().sort_values(ascending=False).to_frame()\n",
    "    # 持仓净值\n",
    "    net_value = result['benchmark_portfolio'].rename(columns={'unit_net_value':'基准'})\n",
    "    net_value['单位净值'] = result['portfolio']['unit_net_value']\n",
    "    net_value = net_value[['单位净值','基准']]\n",
    "    summary['净值'] = net_value\n",
    "    # 近一月收益率\n",
    "    summary['近一个月收益率'] = net_value.iloc[-1,0]/net_value.iloc[-21,0]-1\n",
    "    # 组合与基准收益\n",
    "    profit_df = pd.DataFrame(index=['组合资产','标的资产'],columns=['1年','3年','5年','10年','至今']) \n",
    "    profit_df['至今'] = (net_value.iloc[-1,:]/net_value.iloc[0,:]-1).values\n",
    "    profit_df['1年'] = (net_value.iloc[-1,:]/net_value.iloc[-252*1,:]-1).values\n",
    "    profit_df['3年'] = (net_value.iloc[-1,:]/net_value.iloc[-252*3,:]-1).values\n",
    "    profit_df['5年'] = (net_value.iloc[-1,:]/net_value.iloc[-252*5,:]-1).values\n",
    "    summary['组合与基准收益'] = profit_df\n",
    "    \n",
    "    return summary"
   ]
  },
  {
   "cell_type": "code",
   "execution_count": 120,
   "metadata": {},
   "outputs": [],
   "source": [
    "path = 'D:/jpnb/ricequant/ricequant实习项目/ricequant/AMS/基金重仓股策略/result/基金重仓股_300_规模大于5亿.pkl'"
   ]
  },
  {
   "cell_type": "code",
   "execution_count": 121,
   "metadata": {},
   "outputs": [
    {
     "name": "stderr",
     "output_type": "stream",
     "text": [
      "F:\\anaconda\\envs\\ricequant\\lib\\site-packages\\ipykernel_launcher.py:15: SettingWithCopyWarning: \n",
      "A value is trying to be set on a copy of a slice from a DataFrame.\n",
      "Try using .loc[row_indexer,col_indexer] = value instead\n",
      "\n",
      "See the caveats in the documentation: https://pandas.pydata.org/pandas-docs/stable/user_guide/indexing.html#returning-a-view-versus-a-copy\n",
      "  from ipykernel import kernelapp as app\n",
      "F:\\anaconda\\envs\\ricequant\\lib\\site-packages\\ipykernel_launcher.py:28: SettingWithCopyWarning: \n",
      "A value is trying to be set on a copy of a slice from a DataFrame.\n",
      "Try using .loc[row_indexer,col_indexer] = value instead\n",
      "\n",
      "See the caveats in the documentation: https://pandas.pydata.org/pandas-docs/stable/user_guide/indexing.html#returning-a-view-versus-a-copy\n"
     ]
    }
   ],
   "source": [
    "summary = get_statistical_indicators(path)"
   ]
  },
  {
   "cell_type": "code",
   "execution_count": 122,
   "metadata": {},
   "outputs": [
    {
     "data": {
      "text/plain": [
       "{'起始日': '2014-03-31',\n",
       " '标的资产': '000300.XSHG',\n",
       " '股票数': 173,\n",
       " 'Beta': 0.974,\n",
       " '跟踪误差': 0.035,\n",
       " '年化收益率': 0.215,\n",
       " '基准年化收益率': 0.139,\n",
       " '十大持仓股':               symbol    weight\n",
       " order_book_id                 \n",
       " 600519.XSHG     贵州茅台  0.075496\n",
       " 000858.XSHE      五粮液  0.042134\n",
       " 000651.XSHE     格力电器  0.039866\n",
       " 002352.XSHE     顺丰控股  0.030723\n",
       " 600276.XSHG     恒瑞医药  0.026996\n",
       " 600383.XSHG     金地集团  0.026196\n",
       " 000656.XSHE     金科股份  0.025437\n",
       " 300498.XSHE     温氏股份  0.023241\n",
       " 002415.XSHE     海康威视  0.022550\n",
       " 600031.XSHG     三一重工  0.022140,\n",
       " '行业配置':             weight\n",
       " industry          \n",
       " 食品饮料      0.147336\n",
       " 医药生物      0.141226\n",
       " 电子        0.079349\n",
       " 房地产       0.077201\n",
       " 电气设备      0.070119\n",
       " 农林牧渔      0.060516\n",
       " 家用电器      0.052565\n",
       " 机械设备      0.046517\n",
       " 化工        0.044423\n",
       " 传媒        0.039283\n",
       " 汽车        0.035309\n",
       " 计算机       0.034466\n",
       " 交通运输      0.030723\n",
       " 建筑材料      0.025698\n",
       " 通信        0.024845\n",
       " 轻工制造      0.024028\n",
       " 休闲服务      0.016499\n",
       " 综合        0.011001\n",
       " 非银金融      0.010182\n",
       " 公用事业      0.006922\n",
       " 国防军工      0.006884\n",
       " 有色金属      0.006798\n",
       " 建筑装饰      0.003853\n",
       " 商业贸易      0.001879\n",
       " 采掘        0.001205\n",
       " 纺织服装      0.001172,\n",
       " '净值':                 单位净值        基准\n",
       " date                          \n",
       " 2014-03-31  1.000000  0.997370\n",
       " 2014-04-01  0.999234  1.005181\n",
       " 2014-04-02  1.005731  1.013365\n",
       " 2014-04-03  0.998133  1.006061\n",
       " 2014-04-04  1.005484  1.015570\n",
       " ...              ...       ...\n",
       " 2020-08-27  3.240018  2.198616\n",
       " 2020-08-28  3.324139  2.251089\n",
       " 2020-08-31  3.306982  2.238055\n",
       " 2020-09-01  3.340101  2.250093\n",
       " 2020-09-02  3.357397  2.250913\n",
       " \n",
       " [1570 rows x 2 columns],\n",
       " '近一个月收益率': 0.04362501954428488,\n",
       " '组合与基准收益':             1年        3年        5年  10年        至今\n",
       " 组合资产  0.407617  0.629183  0.759703  NaN  2.357397\n",
       " 标的资产  0.280856  0.301458  0.211415  NaN  1.256849}"
      ]
     },
     "execution_count": 122,
     "metadata": {},
     "output_type": "execute_result"
    }
   ],
   "source": [
    "summary"
   ]
  },
  {
   "cell_type": "code",
   "execution_count": 124,
   "metadata": {},
   "outputs": [],
   "source": [
    "summary['净值'].to_csv('净值.csv')"
   ]
  },
  {
   "cell_type": "code",
   "execution_count": 125,
   "metadata": {},
   "outputs": [
    {
     "data": {
      "text/html": [
       "<div>\n",
       "<style scoped>\n",
       "    .dataframe tbody tr th:only-of-type {\n",
       "        vertical-align: middle;\n",
       "    }\n",
       "\n",
       "    .dataframe tbody tr th {\n",
       "        vertical-align: top;\n",
       "    }\n",
       "\n",
       "    .dataframe thead th {\n",
       "        text-align: right;\n",
       "    }\n",
       "</style>\n",
       "<table border=\"1\" class=\"dataframe\">\n",
       "  <thead>\n",
       "    <tr style=\"text-align: right;\">\n",
       "      <th></th>\n",
       "      <th>1年</th>\n",
       "      <th>3年</th>\n",
       "      <th>5年</th>\n",
       "      <th>10年</th>\n",
       "      <th>至今</th>\n",
       "    </tr>\n",
       "  </thead>\n",
       "  <tbody>\n",
       "    <tr>\n",
       "      <th>组合资产</th>\n",
       "      <td>0.407617</td>\n",
       "      <td>0.629183</td>\n",
       "      <td>0.759703</td>\n",
       "      <td>NaN</td>\n",
       "      <td>2.357397</td>\n",
       "    </tr>\n",
       "    <tr>\n",
       "      <th>标的资产</th>\n",
       "      <td>0.280856</td>\n",
       "      <td>0.301458</td>\n",
       "      <td>0.211415</td>\n",
       "      <td>NaN</td>\n",
       "      <td>1.256849</td>\n",
       "    </tr>\n",
       "  </tbody>\n",
       "</table>\n",
       "</div>"
      ],
      "text/plain": [
       "            1年        3年        5年  10年        至今\n",
       "组合资产  0.407617  0.629183  0.759703  NaN  2.357397\n",
       "标的资产  0.280856  0.301458  0.211415  NaN  1.256849"
      ]
     },
     "execution_count": 125,
     "metadata": {},
     "output_type": "execute_result"
    }
   ],
   "source": [
    "summary['组合与基准收益']"
   ]
  },
  {
   "cell_type": "code",
   "execution_count": null,
   "metadata": {},
   "outputs": [],
   "source": []
  }
 ],
 "metadata": {
  "kernelspec": {
   "display_name": "Python [conda env:ricequant]",
   "language": "python",
   "name": "conda-env-ricequant-py"
  },
  "language_info": {
   "codemirror_mode": {
    "name": "ipython",
    "version": 3
   },
   "file_extension": ".py",
   "mimetype": "text/x-python",
   "name": "python",
   "nbconvert_exporter": "python",
   "pygments_lexer": "ipython3",
   "version": "3.7.7"
  },
  "toc": {
   "base_numbering": 1,
   "nav_menu": {},
   "number_sections": true,
   "sideBar": true,
   "skip_h1_title": false,
   "title_cell": "Table of Contents",
   "title_sidebar": "Contents",
   "toc_cell": false,
   "toc_position": {},
   "toc_section_display": true,
   "toc_window_display": false
  },
  "varInspector": {
   "cols": {
    "lenName": 16,
    "lenType": 16,
    "lenVar": 40
   },
   "kernels_config": {
    "python": {
     "delete_cmd_postfix": "",
     "delete_cmd_prefix": "del ",
     "library": "var_list.py",
     "varRefreshCmd": "print(var_dic_list())"
    },
    "r": {
     "delete_cmd_postfix": ") ",
     "delete_cmd_prefix": "rm(",
     "library": "var_list.r",
     "varRefreshCmd": "cat(var_dic_list()) "
    }
   },
   "types_to_exclude": [
    "module",
    "function",
    "builtin_function_or_method",
    "instance",
    "_Feature"
   ],
   "window_display": false
  }
 },
 "nbformat": 4,
 "nbformat_minor": 2
}

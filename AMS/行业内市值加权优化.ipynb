{
 "cells": [
  {
   "cell_type": "code",
   "execution_count": 5,
   "metadata": {},
   "outputs": [],
   "source": [
    "import codecs\n",
    "import yaml\n",
    "\n",
    "import rqalpha as rqa\n",
    "import rqalpha_plus\n",
    "import rqdatac as rqd\n",
    "import pandas as pd\n",
    "import numpy as np\n",
    "import pickle\n",
    "import os\n",
    "import utils"
   ]
  },
  {
   "cell_type": "code",
   "execution_count": 6,
   "metadata": {},
   "outputs": [],
   "source": [
    "def _init_rqdata(conf_path):\n",
    "    with codecs.open(conf_path, 'r', encoding='utf8') as stream:\n",
    "        conf = yaml.load(stream)\n",
    "        if 'proxy' in conf:\n",
    "            proxy_info = (conf['proxy'].get('type'),\n",
    "                conf['proxy'].get('host'),\n",
    "                conf['proxy'].get('port'),\n",
    "                conf['proxy'].get('user'),\n",
    "                conf['proxy'].get('password'))\n",
    "        else:\n",
    "            proxy_info = None\n",
    "        rqd.init(conf['rqdata_username'], conf['rqdata_password'],\n",
    "            (conf['rqdata_host'], conf['rqdata_port']), proxy_info=proxy_info)\n"
   ]
  },
  {
   "cell_type": "code",
   "execution_count": 7,
   "metadata": {},
   "outputs": [],
   "source": [
    "def get_target_stocks(context, factor, ascending, percent_selected, min_selected, grouper):\n",
    "    \"\"\"获得当天需要买入的股票\"\"\"\n",
    "    # 前一个交易日\n",
    "    selection_date = rqd.get_previous_trading_date(context.now)\n",
    "    # 前一个交易日的指数成分股\n",
    "    universe = rqd.index_components(context.index_stockpool, selection_date)\n",
    "    # 剔除停牌\n",
    "    universe = utils.drop_suspended(universe, selection_date)\n",
    "    # 剔除ST\n",
    "    universe = utils.drop_st(universe, selection_date)\n",
    "    # 剔除上市小于60天\n",
    "    universe = utils.drop_recently_listed(universe, selection_date, 60)\n",
    "    # 获得因子分数\n",
    "    scores = utils.get_factor(universe, factor, selection_date, selection_date)\n",
    "    # 返回需要买入的股票\n",
    "    return utils.select_top_N_percent(\n",
    "        universe, selection_date, scores, percent_selected, ascending, min_selected,\n",
    "        grouper=grouper,\n",
    "    )\n",
    "\n",
    "\n",
    "def get_target_portfolio(context):\n",
    "    # =====返回每只股票的权重Series=====\n",
    "    date = context.now\n",
    "    universe = context.target_stocks\n",
    "    benchmark = context.index_stockpool\n",
    "    # 今天指数成分股\n",
    "    components = rqd.index_components(benchmark,date)\n",
    "    # 股票所属行业series\n",
    "    industry = utils.get_industry(components,date)\n",
    "    # 指数行业权重\n",
    "    industry_weight = rqd.index_weights(benchmark,date).groupby(industry).sum()\n",
    "    # 目标股票市值\n",
    "    market_cap = rqd.get_factor(universe,'market_cap',date,date)\n",
    "    # 股票行业分组组内权重\n",
    "    industry = industry[universe]\n",
    "    weight_in_industry = market_cap.groupby(industry).apply(lambda x:x/x.sum())\n",
    "    # 股票行业目标权重\n",
    "    target_ids_weight = industry.map(industry_weight)\n",
    "    # 股票最终权重\n",
    "    return weight_in_industry*target_ids_weight\n",
    "    \n",
    "def init(context):\n",
    "    _init_rqdata('rqpro.yml')\n",
    "    utils._RICEQUANT_FACTORS = rqd.get_all_factor_names()\n",
    "    \n",
    "def handle_bar(context, bar_dict):\n",
    "    # 如果是False(不是月初),直接返回\n",
    "    if not _should_rebalance(context):\n",
    "        return\n",
    "    print(context.now)\n",
    "    print(\"现有持仓数:\", len(context.portfolio.positions))\n",
    "    context.target_stocks = get_target_stocks(context, **context.stock_selection_args)\n",
    "    context.target_portfolio = get_target_portfolio(context)\n",
    "    rebalance(context, bar_dict)\n",
    "\n",
    "\n",
    "def _should_rebalance(context):\n",
    "    \"\"\"判断今天是否调仓\"\"\"\n",
    "    # 获得上一个交易日\n",
    "    prev_trading_day = rqd.get_previous_trading_date(context.now)\n",
    "    # 判断是否是月初, 是月初返回True\n",
    "    is_month_start = (prev_trading_day.month != context.now.month)\n",
    "    return is_month_start\n",
    "\n",
    "\n",
    "def rebalance(context, bar_dict):\n",
    "    \n",
    "    positions = context.stock_account.positions\n",
    "    for order_book_id in positions:\n",
    "        if order_book_id not in context.target_portfolio:\n",
    "            rqa.api.order_to(order_book_id, 0)\n",
    "    \n",
    "    # 对每个股票计算目标价值和当前价值的差值\n",
    "    # 差值为正的是买单, 反之为卖单\n",
    "    capital = context.stock_account.total_value * (1 - context.cash_cushion)\n",
    "    to_sell, to_buy = {}, {}\n",
    "    _money_for_one_lot = lambda order_book_id: bar_dict[order_book_id].close * 100\n",
    "    for order_book_id, weight in context.target_portfolio.items():\n",
    "        # 股票目标价值\n",
    "        target_value = capital * weight\n",
    "        # 目标和现有之差\n",
    "        gap = target_value - positions[order_book_id].market_value\n",
    "        # 买卖至少大于1手股票价值\n",
    "        if abs(gap)<_money_for_one_lot(order_book_id):\n",
    "            continue\n",
    "        elif gap > 0:\n",
    "            to_buy[order_book_id] = gap\n",
    "        else:\n",
    "            to_sell[order_book_id] = gap\n",
    "\n",
    "    # to avoid liquidity issue, sell first, buy second\n",
    "    for order_book_id, value in to_sell.items():\n",
    "        rqa.api.order_value(order_book_id, value)\n",
    "    for order_book_id, value in to_buy.items():\n",
    "        rqa.api.order_value(order_book_id, value)"
   ]
  },
  {
   "cell_type": "markdown",
   "metadata": {},
   "source": [
    "# 回测"
   ]
  },
  {
   "cell_type": "markdown",
   "metadata": {},
   "source": [
    "## 参数"
   ]
  },
  {
   "cell_type": "code",
   "execution_count": 11,
   "metadata": {},
   "outputs": [],
   "source": [
    "MILLION = 1_000_000\n",
    "BILLION = 1000 * MILLION\n",
    "code = '000905.XSHG'\n",
    "fac = 'private.Hacken_Dividend_Org'\n",
    "asc = False\n",
    "config = {\n",
    "    \"base\": {\n",
    "        \"matching_type\": \"current_bar\",\n",
    "        \"start_date\": '2014-03-01',\n",
    "        \"end_date\": '2020-08-04',\n",
    "        \"frequency\": '1d',\n",
    "        \"accounts\": {\"stock\": 0.1 * BILLION},\n",
    "        \"data bundle path\":r'C:\\Users\\Administrator\\.rqalpha-plus\\bundle'\n",
    "    },\n",
    "    \"mod\": {\n",
    "        \"sys_analyser\": {\n",
    "            \"enabled\": True,\n",
    "            \"plot\": True,\n",
    "            \"benchmark\": code,\n",
    "        },\n",
    "        'sys_simulation': {\n",
    "            # 撮合时无视涨跌停\n",
    "            'price_limit': False,\n",
    "        },\n",
    "        'sys_risk': {\n",
    "            'enabled': True,\n",
    "            # 发单时无视停牌\n",
    "            'validate_is_trading': False,\n",
    "            # 发单时无视涨跌停\n",
    "            'validate_price': False\n",
    "        },\n",
    "    },\n",
    "    \"extra\": {\n",
    "        \"log_level\": 'error',\n",
    "        \"context_vars\": {\n",
    "            'cash_cushion': 0.005,\n",
    "            'index_stockpool': code,\n",
    "            'stock_selection_args': {\n",
    "                'factor': fac,\n",
    "                'ascending': asc,\n",
    "                'percent_selected': 0.1,\n",
    "                'min_selected': 2,\n",
    "                'grouper': True\n",
    "            },\n",
    "        },\n",
    "    },\n",
    "}\n"
   ]
  },
  {
   "cell_type": "code",
   "execution_count": null,
   "metadata": {},
   "outputs": [],
   "source": [
    "res = rqalpha_plus.run_func(init=init,handle_bar=handle_bar, config=config)"
   ]
  },
  {
   "cell_type": "code",
   "execution_count": 10,
   "metadata": {},
   "outputs": [],
   "source": [
    "if not os.path.exists(f'{fac}'):\n",
    "    os.makedirs(f'{fac}')\n",
    "with open(f'{fac}/{fac}.pkl', 'wb') as pf:\n",
    "    pickle.dump((config, res), pf)\n",
    "res['sys_analyser']['trades'].to_csv(f'{fac}/trades.csv')"
   ]
  },
  {
   "cell_type": "code",
   "execution_count": null,
   "metadata": {},
   "outputs": [],
   "source": []
  },
  {
   "cell_type": "markdown",
   "metadata": {},
   "source": [
    "---"
   ]
  },
  {
   "cell_type": "code",
   "execution_count": null,
   "metadata": {},
   "outputs": [],
   "source": []
  }
 ],
 "metadata": {
  "kernelspec": {
   "display_name": "Python 3",
   "language": "python",
   "name": "python3"
  },
  "language_info": {
   "codemirror_mode": {
    "name": "ipython",
    "version": 3
   },
   "file_extension": ".py",
   "mimetype": "text/x-python",
   "name": "python",
   "nbconvert_exporter": "python",
   "pygments_lexer": "ipython3",
   "version": "3.7.3"
  },
  "toc": {
   "base_numbering": 1,
   "nav_menu": {},
   "number_sections": true,
   "sideBar": true,
   "skip_h1_title": false,
   "title_cell": "Table of Contents",
   "title_sidebar": "Contents",
   "toc_cell": false,
   "toc_position": {},
   "toc_section_display": true,
   "toc_window_display": false
  },
  "varInspector": {
   "cols": {
    "lenName": 16,
    "lenType": 16,
    "lenVar": 40
   },
   "kernels_config": {
    "python": {
     "delete_cmd_postfix": "",
     "delete_cmd_prefix": "del ",
     "library": "var_list.py",
     "varRefreshCmd": "print(var_dic_list())"
    },
    "r": {
     "delete_cmd_postfix": ") ",
     "delete_cmd_prefix": "rm(",
     "library": "var_list.r",
     "varRefreshCmd": "cat(var_dic_list()) "
    }
   },
   "types_to_exclude": [
    "module",
    "function",
    "builtin_function_or_method",
    "instance",
    "_Feature"
   ],
   "window_display": false
  }
 },
 "nbformat": 4,
 "nbformat_minor": 4
}

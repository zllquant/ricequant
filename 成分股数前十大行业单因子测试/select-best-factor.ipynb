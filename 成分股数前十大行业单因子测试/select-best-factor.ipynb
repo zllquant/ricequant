{
 "cells": [
  {
   "cell_type": "code",
   "execution_count": 1,
   "metadata": {},
   "outputs": [],
   "source": [
    "import os\n",
    "import pickle\n",
    "import pandas as pd"
   ]
  },
  {
   "cell_type": "code",
   "execution_count": 51,
   "metadata": {},
   "outputs": [],
   "source": [
    "cwd = os.getcwd()"
   ]
  },
  {
   "cell_type": "code",
   "execution_count": 52,
   "metadata": {},
   "outputs": [],
   "source": [
    "top_10_industry = [i for i in os.listdir() if i.endswith('.INDX')]"
   ]
  },
  {
   "cell_type": "code",
   "execution_count": 69,
   "metadata": {},
   "outputs": [],
   "source": [
    "all_factor_list = []\n",
    "for ids in top_10_industry:\n",
    "    for p in [_ for _ in os.listdir(cwd+'\\\\'+ids) if _.endswith('.pkl')]: \n",
    "        with open(f'{ids}/{p}','rb') as pf:\n",
    "            result = pickle.load(pf)\n",
    "        config,bt_result = result[0],result[1]\n",
    "        if bt_result is None:\n",
    "            continue\n",
    "        summary = bt_result['sys_analyser']['summary']\n",
    "        factor = config['extra']['context_vars']['stock_selection_args'].factor\n",
    "        is_asc = config['extra']['context_vars']['stock_selection_args'].ascending\n",
    "        factor_dict = {}\n",
    "        factor_dict['industry'] = ids\n",
    "        factor_dict['factor'] = p[:-4]\n",
    "        factor_dict['ascending'] = is_asc\n",
    "        factor_dict.update({k:v for k,v in summary.items() if k in ['annualized_returns','sharpe','max_drawdown']})\n",
    "        all_factor_list.append(factor_dict)\n",
    "all_factor_df = pd.DataFrame(all_factor_list)"
   ]
  },
  {
   "cell_type": "code",
   "execution_count": 70,
   "metadata": {},
   "outputs": [],
   "source": [
    "def sort_annual(df):\n",
    "    df = df.sort_values('annualized_returns',ascending=False)\n",
    "    del df['industry']\n",
    "    return df[:10]\n",
    "sorted_df = all_factor_df.groupby('industry').apply(sort_annual)"
   ]
  },
  {
   "cell_type": "code",
   "execution_count": 71,
   "metadata": {},
   "outputs": [],
   "source": [
    "sorted_df = sorted_df.reset_index().set_index(['industry','factor'])"
   ]
  },
  {
   "cell_type": "code",
   "execution_count": 72,
   "metadata": {},
   "outputs": [],
   "source": [
    "sorted_df.drop(columns='level_1',inplace=True)"
   ]
  },
  {
   "cell_type": "code",
   "execution_count": 73,
   "metadata": {},
   "outputs": [],
   "source": [
    "# sorted_df.to_excel(r'best-factor-industry.xlsx')"
   ]
  },
  {
   "cell_type": "markdown",
   "metadata": {},
   "source": [
    "----"
   ]
  },
  {
   "cell_type": "code",
   "execution_count": 74,
   "metadata": {},
   "outputs": [],
   "source": [
    "sorted_df = sorted_df.reset_index().set_index('industry')"
   ]
  },
  {
   "cell_type": "code",
   "execution_count": 77,
   "metadata": {},
   "outputs": [],
   "source": [
    "sorted_df = sorted_df.iloc[::10,0]"
   ]
  },
  {
   "cell_type": "code",
   "execution_count": 78,
   "metadata": {},
   "outputs": [
    {
     "data": {
      "text/plain": [
       "industry\n",
       "801030.INDX                    interest_bearing_debt_ttm\n",
       "801080.INDX           operating_revenue_growth_ratio_ttm\n",
       "801140.INDX                              inc_revenue_ttm\n",
       "801150.INDX        adjusted_return_on_equity_diluted_ttm\n",
       "801160.INDX                    interest_bearing_debt_ttm\n",
       "801730.INDX           operating_revenue_growth_ratio_ttm\n",
       "801750.INDX                 earned_reserve_per_share_ttm\n",
       "801760.INDX                              ocf_to_debt_ttm\n",
       "801880.INDX               current_debt_to_total_debt_ttm\n",
       "801890.INDX    non_interest_bearing_non_current_debt_ttm\n",
       "Name: factor, dtype: object"
      ]
     },
     "execution_count": 78,
     "metadata": {},
     "output_type": "execute_result"
    }
   ],
   "source": [
    "sorted_df"
   ]
  },
  {
   "cell_type": "code",
   "execution_count": 93,
   "metadata": {},
   "outputs": [],
   "source": [
    "for ids,fac in sorted_df.items():\n",
    "    if 'per_share' in fac:\n",
    "        continue\n",
    "    fac +='.pkl'\n",
    "    with open(f'{ids}/{fac}','rb') as pf:\n",
    "        result = pickle.load(pf)\n",
    "        config,bt_result = result[0],result[1]\n",
    "        trades = bt_result['sys_analyser']['trades']\n",
    "    trades.to_csv(f'{ids}/{ids}_trades.csv')"
   ]
  },
  {
   "cell_type": "code",
   "execution_count": 3,
   "metadata": {},
   "outputs": [],
   "source": [
    "ids = '801890.INDX'\n",
    "fac = 'capital_to_equity_ratio_ttm'\n",
    "\n",
    "with open(f'{ids}/{fac}.pkl','rb') as pf:\n",
    "    result = pickle.load(pf)\n",
    "    config,bt_result = result[0],result[1]\n",
    "    trades = bt_result['sys_analyser']['trades']\n",
    "    trades.to_csv(f'{ids}/{fac}_trades.csv')"
   ]
  },
  {
   "cell_type": "code",
   "execution_count": null,
   "metadata": {},
   "outputs": [],
   "source": []
  }
 ],
 "metadata": {
  "kernelspec": {
   "display_name": "Python 3",
   "language": "python",
   "name": "python3"
  },
  "language_info": {
   "codemirror_mode": {
    "name": "ipython",
    "version": 3
   },
   "file_extension": ".py",
   "mimetype": "text/x-python",
   "name": "python",
   "nbconvert_exporter": "python",
   "pygments_lexer": "ipython3",
   "version": "3.7.3"
  },
  "toc": {
   "base_numbering": 1,
   "nav_menu": {},
   "number_sections": true,
   "sideBar": true,
   "skip_h1_title": false,
   "title_cell": "Table of Contents",
   "title_sidebar": "Contents",
   "toc_cell": false,
   "toc_position": {
    "height": "calc(100% - 180px)",
    "left": "10px",
    "top": "150px",
    "width": "182.6px"
   },
   "toc_section_display": true,
   "toc_window_display": false
  },
  "varInspector": {
   "cols": {
    "lenName": 16,
    "lenType": 16,
    "lenVar": 40
   },
   "kernels_config": {
    "python": {
     "delete_cmd_postfix": "",
     "delete_cmd_prefix": "del ",
     "library": "var_list.py",
     "varRefreshCmd": "print(var_dic_list())"
    },
    "r": {
     "delete_cmd_postfix": ") ",
     "delete_cmd_prefix": "rm(",
     "library": "var_list.r",
     "varRefreshCmd": "cat(var_dic_list()) "
    }
   },
   "types_to_exclude": [
    "module",
    "function",
    "builtin_function_or_method",
    "instance",
    "_Feature"
   ],
   "window_display": false
  }
 },
 "nbformat": 4,
 "nbformat_minor": 4
}

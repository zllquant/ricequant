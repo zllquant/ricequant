{
 "cells": [
  {
   "cell_type": "code",
   "execution_count": 4,
   "metadata": {},
   "outputs": [],
   "source": [
    "import rqdatac as rqd\n",
    "rqd.init()"
   ]
  },
  {
   "cell_type": "code",
   "execution_count": 18,
   "metadata": {},
   "outputs": [],
   "source": [
    "def get_industry_weight(date, benchmark):\n",
    "    \"\"\"\n",
    "    获得给定日期某指数的申万一级行业权重\n",
    "    返回:pd.Series()\n",
    "    \"\"\"\n",
    "    # 今天指数成分股\n",
    "    components = rqd.index_components(benchmark, date)\n",
    "    # 股票所属行业series\n",
    "    industry = rqd.shenwan_instrument_industry(components, date).loc[:, 'index_name'].rename('industry')\n",
    "    # 指数行业权重\n",
    "    industry_weight = rqd.index_weights(benchmark, date).groupby(industry).sum()\n",
    "\n",
    "    return industry_weight.sort_values(ascending=False).round(4)"
   ]
  },
  {
   "cell_type": "code",
   "execution_count": 19,
   "metadata": {},
   "outputs": [
    {
     "data": {
      "text/plain": [
       "industry\n",
       "非银金融    0.1542\n",
       "食品饮料    0.2838\n",
       "银行      0.4066\n",
       "医药生物    0.5006\n",
       "电子      0.5812\n",
       "家用电器    0.6259\n",
       "房地产     0.6620\n",
       "电气设备    0.6936\n",
       "计算机     0.7245\n",
       "交通运输    0.7525\n",
       "农林牧渔    0.7764\n",
       "化工      0.7999\n",
       "有色金属    0.8229\n",
       "汽车      0.8449\n",
       "传媒      0.8647\n",
       "公用事业    0.8836\n",
       "建筑装饰    0.9023\n",
       "机械设备    0.9199\n",
       "建筑材料    0.9345\n",
       "国防军工    0.9486\n",
       "通信      0.9624\n",
       "休闲服务    0.9759\n",
       "采掘      0.9868\n",
       "商业贸易    0.9921\n",
       "钢铁      0.9971\n",
       "轻工制造    0.9996\n",
       "纺织服装    1.0001\n",
       "dtype: float64"
      ]
     },
     "execution_count": 19,
     "metadata": {},
     "output_type": "execute_result"
    }
   ],
   "source": [
    "get_industry_weight('20200921','000300.XSHG').cumsum()"
   ]
  },
  {
   "cell_type": "code",
   "execution_count": 23,
   "metadata": {},
   "outputs": [
    {
     "data": {
      "text/plain": [
       "industry\n",
       "医药生物    0.1205\n",
       "房地产     0.0789\n",
       "化工      0.0661\n",
       "计算机     0.0646\n",
       "电气设备    0.0534\n",
       "机械设备    0.0532\n",
       "电子      0.0509\n",
       "交通运输    0.0457\n",
       "商业贸易    0.0448\n",
       "有色金属    0.0445\n",
       "公用事业    0.0376\n",
       "轻工制造    0.0363\n",
       "农林牧渔    0.0344\n",
       "汽车      0.0336\n",
       "传媒      0.0301\n",
       "建筑装饰    0.0234\n",
       "通信      0.0231\n",
       "建筑材料    0.0224\n",
       "纺织服装    0.0221\n",
       "食品饮料    0.0218\n",
       "国防军工    0.0187\n",
       "综合      0.0180\n",
       "采掘      0.0152\n",
       "非银金融    0.0147\n",
       "家用电器    0.0131\n",
       "休闲服务    0.0083\n",
       "钢铁      0.0045\n",
       "dtype: float64"
      ]
     },
     "execution_count": 23,
     "metadata": {},
     "output_type": "execute_result"
    }
   ],
   "source": [
    "get_industry_weight('20150921','000905.XSHG')"
   ]
  },
  {
   "cell_type": "code",
   "execution_count": 26,
   "metadata": {},
   "outputs": [
    {
     "data": {
      "text/plain": [
       "industry\n",
       "医药生物    0.1148\n",
       "计算机     0.1013\n",
       "电子      0.0982\n",
       "化工      0.0782\n",
       "机械设备    0.0646\n",
       "传媒      0.0439\n",
       "公用事业    0.0432\n",
       "电气设备    0.0431\n",
       "有色金属    0.0425\n",
       "食品饮料    0.0414\n",
       "国防军工    0.0342\n",
       "通信      0.0334\n",
       "轻工制造    0.0313\n",
       "房地产     0.0312\n",
       "建筑装饰    0.0297\n",
       "汽车      0.0276\n",
       "建筑材料    0.0234\n",
       "农林牧渔    0.0225\n",
       "交通运输    0.0209\n",
       "采掘      0.0141\n",
       "家用电器    0.0140\n",
       "商业贸易    0.0128\n",
       "非银金融    0.0127\n",
       "纺织服装    0.0093\n",
       "综合      0.0042\n",
       "钢铁      0.0034\n",
       "休闲服务    0.0031\n",
       "银行      0.0011\n",
       "dtype: float64"
      ]
     },
     "execution_count": 26,
     "metadata": {},
     "output_type": "execute_result"
    }
   ],
   "source": [
    "get_industry_weight('20200921','000852.XSHG')"
   ]
  },
  {
   "cell_type": "code",
   "execution_count": null,
   "metadata": {},
   "outputs": [],
   "source": []
  }
 ],
 "metadata": {
  "kernelspec": {
   "display_name": "Python [conda env:ricequant]",
   "language": "python",
   "name": "conda-env-ricequant-py"
  },
  "language_info": {
   "codemirror_mode": {
    "name": "ipython",
    "version": 3
   },
   "file_extension": ".py",
   "mimetype": "text/x-python",
   "name": "python",
   "nbconvert_exporter": "python",
   "pygments_lexer": "ipython3",
   "version": "3.7.7"
  },
  "toc": {
   "base_numbering": 1,
   "nav_menu": {},
   "number_sections": true,
   "sideBar": true,
   "skip_h1_title": false,
   "title_cell": "Table of Contents",
   "title_sidebar": "Contents",
   "toc_cell": false,
   "toc_position": {},
   "toc_section_display": true,
   "toc_window_display": false
  },
  "varInspector": {
   "cols": {
    "lenName": 16,
    "lenType": 16,
    "lenVar": 40
   },
   "kernels_config": {
    "python": {
     "delete_cmd_postfix": "",
     "delete_cmd_prefix": "del ",
     "library": "var_list.py",
     "varRefreshCmd": "print(var_dic_list())"
    },
    "r": {
     "delete_cmd_postfix": ") ",
     "delete_cmd_prefix": "rm(",
     "library": "var_list.r",
     "varRefreshCmd": "cat(var_dic_list()) "
    }
   },
   "types_to_exclude": [
    "module",
    "function",
    "builtin_function_or_method",
    "instance",
    "_Feature"
   ],
   "window_display": false
  }
 },
 "nbformat": 4,
 "nbformat_minor": 2
}

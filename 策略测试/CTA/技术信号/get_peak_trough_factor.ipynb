{
 "cells": [
  {
   "cell_type": "code",
   "execution_count": 2,
   "metadata": {},
   "outputs": [],
   "source": [
    "import pandas as pd\n",
    "import numpy as np\n",
    "import matplotlib.pyplot as plt\n",
    "plt.style.use('ggplot')\n",
    "import rqdatac as rqd\n",
    "from tqdm import tqdm\n",
    "from datetime import datetime\n",
    "import pickle\n",
    "rqd.init()\n"
   ]
  },
  {
   "cell_type": "code",
   "execution_count": 48,
   "metadata": {},
   "outputs": [],
   "source": [
    "with open('peak_trough_factor.pkl','rb') as pf:\n",
    "    close_df = pickle.load(pf)"
   ]
  },
  {
   "cell_type": "code",
   "execution_count": 60,
   "metadata": {},
   "outputs": [],
   "source": [
    "trough_stock = close_df[close_df['trough']>55].reset_index(1)['order_book_id']"
   ]
  },
  {
   "cell_type": "code",
   "execution_count": 61,
   "metadata": {},
   "outputs": [
    {
     "data": {
      "text/plain": [
       "date\n",
       "2013-12-02    50\n",
       "2013-12-03    52\n",
       "2013-12-04    52\n",
       "2013-12-05    53\n",
       "2013-12-06    52\n",
       "              ..\n",
       "2020-08-26    71\n",
       "2020-08-27    73\n",
       "2020-08-28    72\n",
       "2020-08-31    72\n",
       "2020-09-01    74\n",
       "Name: order_book_id, Length: 1648, dtype: int64"
      ]
     },
     "execution_count": 61,
     "metadata": {},
     "output_type": "execute_result"
    }
   ],
   "source": [
    "trough_stock.groupby(level=0).size()"
   ]
  },
  {
   "cell_type": "code",
   "execution_count": 62,
   "metadata": {},
   "outputs": [],
   "source": [
    "# with open(r'trough_stock.pkl', 'wb') as pf:\n",
    "#     pickle.dump(trough_stock, pf)"
   ]
  },
  {
   "cell_type": "code",
   "execution_count": 3,
   "metadata": {},
   "outputs": [],
   "source": [
    "with open(r'trough_stock.pkl', 'rb') as pf:\n",
    "    trough_stock = pickle.load(pf)"
   ]
  },
  {
   "cell_type": "code",
   "execution_count": 6,
   "metadata": {},
   "outputs": [
    {
     "data": {
      "text/plain": [
       "date\n",
       "2013-12-02    000032.XSHE\n",
       "2013-12-02    000155.XSHE\n",
       "2013-12-02    000158.XSHE\n",
       "2013-12-02    000400.XSHE\n",
       "2013-12-02    000404.XSHE\n",
       "                 ...     \n",
       "2020-09-01    603661.XSHG\n",
       "2020-09-01    603726.XSHG\n",
       "2020-09-01    603899.XSHG\n",
       "2020-09-01    603909.XSHG\n",
       "2020-09-01    603997.XSHG\n",
       "Name: order_book_id, Length: 193632, dtype: object"
      ]
     },
     "execution_count": 6,
     "metadata": {},
     "output_type": "execute_result"
    }
   ],
   "source": [
    "trough_stock"
   ]
  },
  {
   "cell_type": "markdown",
   "metadata": {},
   "source": [
    "# 计算得分函数"
   ]
  },
  {
   "cell_type": "code",
   "execution_count": 46,
   "metadata": {},
   "outputs": [],
   "source": [
    "def cal_score(close, indicator):\n",
    "    close_list = close.tolist()\n",
    "    total_score = 0\n",
    "    for i, price in enumerate(close_list):\n",
    "        score = 1\n",
    "        if i == len(close_list) - 1:\n",
    "            break\n",
    "        # 等差数列\n",
    "        arithmetic = np.linspace(price, close_list[-1], len(close_list) - i)\n",
    "        # 比较序列\n",
    "        compare = close_list[i:]\n",
    "        if indicator == 'peak':\n",
    "            # 有大于等差数列的得分为0\n",
    "            condition = np.where(compare > arithmetic, 1, 0).sum()\n",
    "        elif indicator == 'trough':\n",
    "            condition = np.where(compare < arithmetic, 1, 0).sum()\n",
    "        if condition > 0:\n",
    "            score = 0\n",
    "        total_score += score\n",
    "    return total_score\n",
    "\n",
    "def visualize(daily_price, threshold, title):\n",
    "    dp = daily_price.copy()\n",
    "    dp['buy_signal'] = np.where(dp['trough'] >= threshold, dp['close'], np.nan)\n",
    "    dp['sell_signal'] = np.where(dp['peak'] >= threshold, dp['close'], np.nan)\n",
    "    plt.figure(figsize=(20, 6))\n",
    "    plt.style.use('ggplot')\n",
    "    plt.plot(dp.index, dp['close'], 'k-')\n",
    "    plt.plot(dp.index, dp['buy_signal'], 'r.', ms=10, alpha=0.8)\n",
    "    plt.plot(dp.index, dp['sell_signal'], 'gs', ms=5, alpha=0.8)\n",
    "    plt.title(title, fontsize=20)"
   ]
  },
  {
   "cell_type": "code",
   "execution_count": 325,
   "metadata": {},
   "outputs": [],
   "source": [
    "start = datetime.now()\n",
    "start_date = '2017-01-01'\n",
    "end_date = '2017-09-01'\n",
    "window = 60\n",
    "\n",
    "dates = rqd.get_trading_dates(start_date, end_date)\n",
    "\n",
    "universe = set()\n",
    "for k, v in rqd.index_components('000985.XSHG', start_date=start_date, end_date=end_date).items():\n",
    "    universe = universe.union(set(v))\n",
    "universe = list(universe)"
   ]
  },
  {
   "cell_type": "code",
   "execution_count": 365,
   "metadata": {},
   "outputs": [],
   "source": [
    "close_df0 = rqd.get_price(lst[:], start_date=start_date, end_date=end_date, fields='close', expect_df=True)"
   ]
  },
  {
   "cell_type": "code",
   "execution_count": 366,
   "metadata": {},
   "outputs": [
    {
     "data": {
      "text/html": [
       "<div>\n",
       "<style scoped>\n",
       "    .dataframe tbody tr th:only-of-type {\n",
       "        vertical-align: middle;\n",
       "    }\n",
       "\n",
       "    .dataframe tbody tr th {\n",
       "        vertical-align: top;\n",
       "    }\n",
       "\n",
       "    .dataframe thead th {\n",
       "        text-align: right;\n",
       "    }\n",
       "</style>\n",
       "<table border=\"1\" class=\"dataframe\">\n",
       "  <thead>\n",
       "    <tr style=\"text-align: right;\">\n",
       "      <th></th>\n",
       "      <th></th>\n",
       "      <th>close</th>\n",
       "    </tr>\n",
       "    <tr>\n",
       "      <th>order_book_id</th>\n",
       "      <th>date</th>\n",
       "      <th></th>\n",
       "    </tr>\n",
       "  </thead>\n",
       "  <tbody>\n",
       "    <tr>\n",
       "      <th rowspan=\"5\" valign=\"top\">002037.XSHE</th>\n",
       "      <th>2017-01-03</th>\n",
       "      <td>1.0</td>\n",
       "    </tr>\n",
       "    <tr>\n",
       "      <th>2017-01-04</th>\n",
       "      <td>1.0</td>\n",
       "    </tr>\n",
       "    <tr>\n",
       "      <th>2017-01-05</th>\n",
       "      <td>1.0</td>\n",
       "    </tr>\n",
       "    <tr>\n",
       "      <th>2017-01-06</th>\n",
       "      <td>1.0</td>\n",
       "    </tr>\n",
       "    <tr>\n",
       "      <th>2017-01-09</th>\n",
       "      <td>1.0</td>\n",
       "    </tr>\n",
       "    <tr>\n",
       "      <th>...</th>\n",
       "      <th>...</th>\n",
       "      <td>...</td>\n",
       "    </tr>\n",
       "    <tr>\n",
       "      <th rowspan=\"5\" valign=\"top\">002779.XSHE</th>\n",
       "      <th>2017-08-28</th>\n",
       "      <td>3.0</td>\n",
       "    </tr>\n",
       "    <tr>\n",
       "      <th>2017-08-29</th>\n",
       "      <td>3.0</td>\n",
       "    </tr>\n",
       "    <tr>\n",
       "      <th>2017-08-30</th>\n",
       "      <td>3.0</td>\n",
       "    </tr>\n",
       "    <tr>\n",
       "      <th>2017-08-31</th>\n",
       "      <td>3.0</td>\n",
       "    </tr>\n",
       "    <tr>\n",
       "      <th>2017-09-01</th>\n",
       "      <td>3.0</td>\n",
       "    </tr>\n",
       "  </tbody>\n",
       "</table>\n",
       "<p>820 rows × 1 columns</p>\n",
       "</div>"
      ],
      "text/plain": [
       "                          close\n",
       "order_book_id date             \n",
       "002037.XSHE   2017-01-03    1.0\n",
       "              2017-01-04    1.0\n",
       "              2017-01-05    1.0\n",
       "              2017-01-06    1.0\n",
       "              2017-01-09    1.0\n",
       "...                         ...\n",
       "002779.XSHE   2017-08-28    3.0\n",
       "              2017-08-29    3.0\n",
       "              2017-08-30    3.0\n",
       "              2017-08-31    3.0\n",
       "              2017-09-01    3.0\n",
       "\n",
       "[820 rows x 1 columns]"
      ]
     },
     "execution_count": 366,
     "metadata": {},
     "output_type": "execute_result"
    }
   ],
   "source": [
    "close_df = close_df0.copy()\n",
    "close_df.loc['002037.XSHE','close'] = 1\n",
    "close_df.loc['000797.XSHE','close'] = 2\n",
    "close_df.loc['002779.XSHE','close'] = 3\n",
    "\n",
    "close_df"
   ]
  },
  {
   "cell_type": "code",
   "execution_count": 367,
   "metadata": {},
   "outputs": [],
   "source": [
    "# close_df['peak'] = close_df.groupby(level=0).rolling(window).apply(\n",
    "#     cal_score,kwargs={'indicator': 'peak'}).values\n",
    "close_df['peak'] = close_df.groupby(level=0).rolling(window).mean().values"
   ]
  },
  {
   "cell_type": "code",
   "execution_count": 368,
   "metadata": {},
   "outputs": [
    {
     "name": "stdout",
     "output_type": "stream",
     "text": [
      "                          close  peak\n",
      "order_book_id date                   \n",
      "000797.XSHE   2017-01-03    2.0   NaN\n",
      "              2017-01-04    2.0   NaN\n",
      "              2017-01-05    2.0   NaN\n",
      "              2017-01-06    2.0   NaN\n",
      "              2017-01-09    2.0   NaN\n",
      "...                         ...   ...\n",
      "              2017-08-28    2.0   3.0\n",
      "              2017-08-29    2.0   3.0\n",
      "              2017-08-30    2.0   3.0\n",
      "              2017-08-31    2.0   3.0\n",
      "              2017-09-01    2.0   3.0\n",
      "\n",
      "[164 rows x 2 columns]\n",
      "                          close  peak\n",
      "order_book_id date                   \n",
      "002037.XSHE   2017-01-03    1.0   NaN\n",
      "              2017-01-04    1.0   NaN\n",
      "              2017-01-05    1.0   NaN\n",
      "              2017-01-06    1.0   NaN\n",
      "              2017-01-09    1.0   NaN\n",
      "...                         ...   ...\n",
      "              2017-08-28    1.0   2.0\n",
      "              2017-08-29    1.0   2.0\n",
      "              2017-08-30    1.0   2.0\n",
      "              2017-08-31    1.0   2.0\n",
      "              2017-09-01    1.0   2.0\n",
      "\n",
      "[164 rows x 2 columns]\n",
      "                          close      peak\n",
      "order_book_id date                       \n",
      "002779.XSHE   2017-01-03    3.0       NaN\n",
      "              2017-01-04    3.0       NaN\n",
      "              2017-01-05    3.0       NaN\n",
      "              2017-01-06    3.0       NaN\n",
      "              2017-01-09    3.0       NaN\n",
      "...                         ...       ...\n",
      "              2017-08-28    3.0  6.734000\n",
      "              2017-08-29    3.0  6.750000\n",
      "              2017-08-30    3.0  6.764833\n",
      "              2017-08-31    3.0  6.779500\n",
      "              2017-09-01    3.0  6.798667\n",
      "\n",
      "[164 rows x 2 columns]\n",
      "                            close      peak\n",
      "order_book_id date                         \n",
      "600371.XSHG   2017-01-03  12.1162       NaN\n",
      "              2017-01-04  12.2036       NaN\n",
      "              2017-01-05  12.2618       NaN\n",
      "              2017-01-06  12.0798       NaN\n",
      "              2017-01-09  12.1745       NaN\n",
      "...                           ...       ...\n",
      "              2017-08-28   8.6224  8.461870\n",
      "              2017-08-29   8.9893  8.477593\n",
      "              2017-08-30   8.8205  8.481523\n",
      "              2017-08-31   8.7545  8.484232\n",
      "              2017-09-01   8.6664  8.483287\n",
      "\n",
      "[164 rows x 2 columns]\n",
      "                          close  peak\n",
      "order_book_id date                   \n",
      "600399.XSHG   2017-01-03   6.96   NaN\n",
      "              2017-01-04   7.00   NaN\n",
      "              2017-01-05   7.08   NaN\n",
      "              2017-01-06   7.08   NaN\n",
      "              2017-01-09   7.38   NaN\n",
      "...                         ...   ...\n",
      "              2017-08-28   6.78   1.0\n",
      "              2017-08-29   6.78   1.0\n",
      "              2017-08-30   6.90   1.0\n",
      "              2017-08-31   6.87   1.0\n",
      "              2017-09-01   7.13   1.0\n",
      "\n",
      "[164 rows x 2 columns]\n"
     ]
    },
    {
     "data": {
      "text/html": [
       "<div>\n",
       "<style scoped>\n",
       "    .dataframe tbody tr th:only-of-type {\n",
       "        vertical-align: middle;\n",
       "    }\n",
       "\n",
       "    .dataframe tbody tr th {\n",
       "        vertical-align: top;\n",
       "    }\n",
       "\n",
       "    .dataframe thead th {\n",
       "        text-align: right;\n",
       "    }\n",
       "</style>\n",
       "<table border=\"1\" class=\"dataframe\">\n",
       "  <thead>\n",
       "    <tr style=\"text-align: right;\">\n",
       "      <th></th>\n",
       "    </tr>\n",
       "  </thead>\n",
       "  <tbody>\n",
       "  </tbody>\n",
       "</table>\n",
       "</div>"
      ],
      "text/plain": [
       "Empty DataFrame\n",
       "Columns: []\n",
       "Index: []"
      ]
     },
     "execution_count": 368,
     "metadata": {},
     "output_type": "execute_result"
    }
   ],
   "source": [
    "close_df.groupby(level=0).apply(print)"
   ]
  },
  {
   "cell_type": "code",
   "execution_count": 247,
   "metadata": {},
   "outputs": [],
   "source": [
    "lst = ['000797.XSHE','002037.XSHE','002779.XSHE','002918.XSHE','600371.XSHG','600399.XSHG','603725.XSHG']"
   ]
  },
  {
   "cell_type": "code",
   "execution_count": null,
   "metadata": {},
   "outputs": [],
   "source": []
  },
  {
   "cell_type": "code",
   "execution_count": null,
   "metadata": {},
   "outputs": [],
   "source": []
  },
  {
   "cell_type": "code",
   "execution_count": 187,
   "metadata": {},
   "outputs": [],
   "source": [
    "close_df['trough'] = close_df['close'].groupby(level=0).rolling(window).apply(cal_score,\n",
    "                                                                              kwargs={'indicator': 'trough'}).values"
   ]
  },
  {
   "cell_type": "code",
   "execution_count": 135,
   "metadata": {},
   "outputs": [
    {
     "name": "stdout",
     "output_type": "stream",
     "text": [
      "1:20:54.244822\n"
     ]
    }
   ],
   "source": [
    "close_df['factor'] = close_df['peak'] - close_df['trough']\n",
    "# close_df.dropna(inplace=True)\n",
    "# with open(r'peak_trough_factor.pkl', 'wb') as pf:\n",
    "#     pickle.dump(close_df, pf)\n",
    "end = datetime.now()\n",
    "print(end - start)"
   ]
  },
  {
   "cell_type": "code",
   "execution_count": 243,
   "metadata": {},
   "outputs": [
    {
     "data": {
      "text/plain": [
       "MultiIndex([('000582.XSHE', '2017-01-03'),\n",
       "            ('000582.XSHE', '2017-01-04'),\n",
       "            ('000582.XSHE', '2017-01-05'),\n",
       "            ('000582.XSHE', '2017-01-06'),\n",
       "            ('000582.XSHE', '2017-01-09'),\n",
       "            ('000582.XSHE', '2017-01-10'),\n",
       "            ('000582.XSHE', '2017-01-11'),\n",
       "            ('000582.XSHE', '2017-01-12'),\n",
       "            ('000582.XSHE', '2017-01-13'),\n",
       "            ('000582.XSHE', '2017-01-16'),\n",
       "            ...\n",
       "            ('002779.XSHE', '2020-08-19'),\n",
       "            ('002779.XSHE', '2020-08-20'),\n",
       "            ('002779.XSHE', '2020-08-21'),\n",
       "            ('002779.XSHE', '2020-08-24'),\n",
       "            ('002779.XSHE', '2020-08-25'),\n",
       "            ('002779.XSHE', '2020-08-26'),\n",
       "            ('002779.XSHE', '2020-08-27'),\n",
       "            ('002779.XSHE', '2020-08-28'),\n",
       "            ('002779.XSHE', '2020-08-31'),\n",
       "            ('002779.XSHE', '2020-09-01')],\n",
       "           names=['order_book_id', 'date'], length=8529)"
      ]
     },
     "execution_count": 243,
     "metadata": {},
     "output_type": "execute_result"
    }
   ],
   "source": [
    "close_df.index.unique()"
   ]
  },
  {
   "cell_type": "code",
   "execution_count": 161,
   "metadata": {},
   "outputs": [
    {
     "data": {
      "text/html": [
       "<div>\n",
       "<style scoped>\n",
       "    .dataframe tbody tr th:only-of-type {\n",
       "        vertical-align: middle;\n",
       "    }\n",
       "\n",
       "    .dataframe tbody tr th {\n",
       "        vertical-align: top;\n",
       "    }\n",
       "\n",
       "    .dataframe thead th {\n",
       "        text-align: right;\n",
       "    }\n",
       "</style>\n",
       "<table border=\"1\" class=\"dataframe\">\n",
       "  <thead>\n",
       "    <tr style=\"text-align: right;\">\n",
       "      <th></th>\n",
       "      <th>close</th>\n",
       "      <th>peak</th>\n",
       "    </tr>\n",
       "    <tr>\n",
       "      <th>order_book_id</th>\n",
       "      <th></th>\n",
       "      <th></th>\n",
       "    </tr>\n",
       "  </thead>\n",
       "  <tbody>\n",
       "    <tr>\n",
       "      <th>002277.XSHE</th>\n",
       "      <td>4.8802</td>\n",
       "      <td>8.0</td>\n",
       "    </tr>\n",
       "    <tr>\n",
       "      <th>002277.XSHE</th>\n",
       "      <td>5.0731</td>\n",
       "      <td>4.0</td>\n",
       "    </tr>\n",
       "    <tr>\n",
       "      <th>002277.XSHE</th>\n",
       "      <td>5.3037</td>\n",
       "      <td>9.0</td>\n",
       "    </tr>\n",
       "    <tr>\n",
       "      <th>002277.XSHE</th>\n",
       "      <td>5.2661</td>\n",
       "      <td>1.0</td>\n",
       "    </tr>\n",
       "    <tr>\n",
       "      <th>002277.XSHE</th>\n",
       "      <td>5.2990</td>\n",
       "      <td>10.0</td>\n",
       "    </tr>\n",
       "    <tr>\n",
       "      <th>...</th>\n",
       "      <td>...</td>\n",
       "      <td>...</td>\n",
       "    </tr>\n",
       "    <tr>\n",
       "      <th>002277.XSHE</th>\n",
       "      <td>4.2800</td>\n",
       "      <td>1.0</td>\n",
       "    </tr>\n",
       "    <tr>\n",
       "      <th>002277.XSHE</th>\n",
       "      <td>4.2800</td>\n",
       "      <td>2.0</td>\n",
       "    </tr>\n",
       "    <tr>\n",
       "      <th>002277.XSHE</th>\n",
       "      <td>4.3500</td>\n",
       "      <td>2.0</td>\n",
       "    </tr>\n",
       "    <tr>\n",
       "      <th>002277.XSHE</th>\n",
       "      <td>4.3600</td>\n",
       "      <td>4.0</td>\n",
       "    </tr>\n",
       "    <tr>\n",
       "      <th>002277.XSHE</th>\n",
       "      <td>4.4300</td>\n",
       "      <td>2.0</td>\n",
       "    </tr>\n",
       "  </tbody>\n",
       "</table>\n",
       "<p>1648 rows × 2 columns</p>\n",
       "</div>"
      ],
      "text/plain": [
       "                close  peak\n",
       "order_book_id              \n",
       "002277.XSHE    4.8802   8.0\n",
       "002277.XSHE    5.0731   4.0\n",
       "002277.XSHE    5.3037   9.0\n",
       "002277.XSHE    5.2661   1.0\n",
       "002277.XSHE    5.2990  10.0\n",
       "...               ...   ...\n",
       "002277.XSHE    4.2800   1.0\n",
       "002277.XSHE    4.2800   2.0\n",
       "002277.XSHE    4.3500   2.0\n",
       "002277.XSHE    4.3600   4.0\n",
       "002277.XSHE    4.4300   2.0\n",
       "\n",
       "[1648 rows x 2 columns]"
      ]
     },
     "execution_count": 161,
     "metadata": {},
     "output_type": "execute_result"
    }
   ],
   "source": [
    "close_df.loc[close_df.index.unique()[2]]"
   ]
  },
  {
   "cell_type": "code",
   "execution_count": 79,
   "metadata": {},
   "outputs": [
    {
     "data": {
      "image/png": "[encoded data removed]",
      "text/plain": [
       "<Figure size 1440x432 with 1 Axes>"
      ]
     },
     "metadata": {},
     "output_type": "display_data"
    }
   ],
   "source": [
    "visualize(close_df.loc['002037.XSHE'],30,'nan')"
   ]
  },
  {
   "cell_type": "code",
   "execution_count": 102,
   "metadata": {},
   "outputs": [],
   "source": [
    "df = close_df.groupby(level=0).rolling(window).apply(cal_score,kwargs={'indicator': 'peak'})"
   ]
  },
  {
   "cell_type": "code",
   "execution_count": 110,
   "metadata": {},
   "outputs": [
    {
     "data": {
      "text/plain": [
       "Index(['000582.XSHE', '002037.XSHE', '002277.XSHE', '603005.XSHG',\n",
       "       '603725.XSHG'],\n",
       "      dtype='object', name='order_book_id')"
      ]
     },
     "execution_count": 110,
     "metadata": {},
     "output_type": "execute_result"
    }
   ],
   "source": [
    "df.index.levels[0]"
   ]
  },
  {
   "cell_type": "code",
   "execution_count": null,
   "metadata": {},
   "outputs": [],
   "source": []
  }
 ],
 "metadata": {
  "kernelspec": {
   "display_name": "Python [conda env:ricequant]",
   "language": "python",
   "name": "conda-env-ricequant-py"
  },
  "language_info": {
   "codemirror_mode": {
    "name": "ipython",
    "version": 3
   },
   "file_extension": ".py",
   "mimetype": "text/x-python",
   "name": "python",
   "nbconvert_exporter": "python",
   "pygments_lexer": "ipython3",
   "version": "3.7.7"
  },
  "toc": {
   "base_numbering": 1,
   "nav_menu": {},
   "number_sections": true,
   "sideBar": true,
   "skip_h1_title": false,
   "title_cell": "Table of Contents",
   "title_sidebar": "Contents",
   "toc_cell": false,
   "toc_position": {},
   "toc_section_display": true,
   "toc_window_display": false
  },
  "varInspector": {
   "cols": {
    "lenName": 16,
    "lenType": 16,
    "lenVar": 40
   },
   "kernels_config": {
    "python": {
     "delete_cmd_postfix": "",
     "delete_cmd_prefix": "del ",
     "library": "var_list.py",
     "varRefreshCmd": "print(var_dic_list())"
    },
    "r": {
     "delete_cmd_postfix": ") ",
     "delete_cmd_prefix": "rm(",
     "library": "var_list.r",
     "varRefreshCmd": "cat(var_dic_list()) "
    }
   },
   "types_to_exclude": [
    "module",
    "function",
    "builtin_function_or_method",
    "instance",
    "_Feature"
   ],
   "window_display": false
  }
 },
 "nbformat": 4,
 "nbformat_minor": 4
}

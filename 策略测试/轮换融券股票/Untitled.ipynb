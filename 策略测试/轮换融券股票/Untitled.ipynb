{
 "cells": [
  {
   "cell_type": "code",
   "execution_count": 1,
   "metadata": {},
   "outputs": [],
   "source": [
    "import pandas as pd\n",
    "from datetime import datetime\n",
    "\n",
    "import rqalpha as rqa\n",
    "import rqalpha_plus\n",
    "\n",
    "import rqdatac as rqd\n",
    "rqd.init()\n",
    "\n",
    "import rqoptimizer as rqo\n",
    "\n",
    "# ==========================生成目标组合===========================\n",
    "    \n",
    "def get_target_stock(date,benchmark):\n",
    "    \"\"\"选取当期中证500融券股票\"\"\"\n",
    "    # 融券股票列表\n",
    "    margin_stocks = rqd.get_margin_stocks(date=date,exchange=None,margin_type='stock')\n",
    "     # 中证500成分股\n",
    "    component = rqd.index_components(benchmark, date)\n",
    "    # 取交集\n",
    "    target_stock = list(set(component).intersection(margin_stocks))\n",
    "    return target_stock\n",
    "\n",
    "\n",
    "def get_target_portfolio(target_stock,date,benchmark):\n",
    "    \"\"\"按照产品设置, 计算目标组合\"\"\"\n",
    "    # 定义目标函数和约束条件\n",
    "    objective = rqo.MinTrackingError()\n",
    "    \n",
    "    # 行业中性\n",
    "    industry_constraints = rqo.WildcardIndustryConstraint(\n",
    "                                exclude=None,\n",
    "                                lower_limit=-0.1,\n",
    "                                upper_limit=0.1,\n",
    "                                relative=True,\n",
    "                                hard=True,\n",
    "                                classification=rqo.IndustryClassification.ZX)\n",
    "    # 风格约束\n",
    "    style_constraints = rqo.StyleConstraint(\n",
    "                                ['size','beta','non_linear_size'], \n",
    "                                lower_limit=-0.1, \n",
    "                                upper_limit=0.1, \n",
    "                                relative=True, \n",
    "                                hard=True)\n",
    "    \n",
    "    constraints = [industry_constraints, style_constraints]\n",
    "    # 个股权重\n",
    "    bnds = {}\n",
    "    index_weights = rqd.index_weights(benchmark,date)\n",
    "    for code in target_stock:\n",
    "        if code in index_weights.index:\n",
    "            stock_weight = index_weights.loc[code]\n",
    "            bnds[code] = (max(0,stock_weight-0.05),stock_weight+0.05)\n",
    "    \n",
    "    target_portfolio = rqo.portfolio_optimize(target_stock,date, \n",
    "                                       benchmark=benchmark, \n",
    "                                       objective=objective,\n",
    "                                       cons=constraints,\n",
    "                                       bnds=bnds) \n",
    "    # 由于精度问题, 优化结果可能包含非常接近0的股票权重, 在此直接舍去\n",
    "    return target_portfolio.loc[lambda x:x!=0]\n",
    "\n",
    "\n",
    "def generate_trade_records(current_position, target_portfolio, capital, datetime, round_to_lots=True):\n",
    "    datetime = pd.to_datetime(datetime)\n",
    "    \n",
    "    union = target_portfolio.index.union(current_position.index)\n",
    "    current_position = current_position.reindex(union, fill_value=0)\n",
    "    target_portfolio = target_portfolio.reindex(union, fill_value=0)\n",
    "    \n",
    "    price = rqd.get_price(union, start_date=datetime, end_date=datetime, fields=['close']).squeeze()\n",
    "    \n",
    "    target_position = target_portfolio * capital / price\n",
    "    \n",
    "    trade_records = pd.DataFrame(index=union.rename('order_book_id'))\n",
    "    trade_records['datetime'] = datetime\n",
    "    \n",
    "    if round_to_lots:\n",
    "        _round = lambda x: round(x / 100) * 100\n",
    "    else:\n",
    "        _round = lambda x: x.round(0)\n",
    "    quantity_to_trade = _round(target_position - current_position)\n",
    "    trade_records['last_quantity'] = quantity_to_trade.abs()\n",
    "    \n",
    "    compute_side = lambda q: 'BUY' if q > 0 else 'SELL'\n",
    "    trade_records['side'] = quantity_to_trade.apply(compute_side)\n",
    "    \n",
    "    trade_records['last_price'] = price\n",
    "    trade_records['transaction_cost'] = 0\n",
    "    \n",
    "    trade_records = trade_records[trade_records['last_quantity'] != 0]\n",
    "    \n",
    "    return trade_records.reset_index()"
   ]
  },
  {
   "cell_type": "markdown",
   "metadata": {},
   "source": [
    "# 获得今日目标权重"
   ]
  },
  {
   "cell_type": "code",
   "execution_count": 2,
   "metadata": {},
   "outputs": [],
   "source": [
    "date = '20200819'\n",
    "benchmark= '000905.XSHG'"
   ]
  },
  {
   "cell_type": "code",
   "execution_count": 3,
   "metadata": {},
   "outputs": [],
   "source": [
    "target_stock = get_target_stock(date,benchmark)"
   ]
  },
  {
   "cell_type": "code",
   "execution_count": 4,
   "metadata": {},
   "outputs": [
    {
     "name": "stdout",
     "output_type": "stream",
     "text": [
      "WARN: aa_init returned NULL, no acceleration applied.\n"
     ]
    }
   ],
   "source": [
    "target_portfolio = get_target_portfolio(target_stock,date,benchmark)"
   ]
  },
  {
   "cell_type": "markdown",
   "metadata": {},
   "source": [
    "# 昨日持仓数据"
   ]
  },
  {
   "cell_type": "code",
   "execution_count": 23,
   "metadata": {},
   "outputs": [
    {
     "data": {
      "text/plain": [
       "170801120.63"
      ]
     },
     "execution_count": 23,
     "metadata": {},
     "output_type": "execute_result"
    }
   ],
   "source": [
    "capital"
   ]
  },
  {
   "cell_type": "code",
   "execution_count": 21,
   "metadata": {},
   "outputs": [],
   "source": [
    "current_position = pd.read_excel(r'股票-持仓20200819.xlsx',index_col=0)\n",
    "current_position['资产代码'] = current_position['资产代码'].apply(lambda x:x[:6]+'.XSHG' if x[0]=='6' else x[:6]+'.XSHE')\n",
    "current_position = current_position.set_index('资产代码')['持仓数量']\n",
    "# 昨日收盘价\n",
    "close = rqd.get_price(current_position.index.tolist(),'20200818','20200818',fields='close').squeeze()\n",
    "# 总资金\n",
    "capital = (current_position*close).sum()"
   ]
  },
  {
   "cell_type": "markdown",
   "metadata": {},
   "source": [
    "# 今日调仓股票及数量"
   ]
  },
  {
   "cell_type": "code",
   "execution_count": 24,
   "metadata": {},
   "outputs": [],
   "source": [
    "result = generate_trade_records(current_position,target_portfolio,capital,'20200818')"
   ]
  },
  {
   "cell_type": "code",
   "execution_count": 25,
   "metadata": {},
   "outputs": [
    {
     "data": {
      "text/html": [
       "<div>\n",
       "<style scoped>\n",
       "    .dataframe tbody tr th:only-of-type {\n",
       "        vertical-align: middle;\n",
       "    }\n",
       "\n",
       "    .dataframe tbody tr th {\n",
       "        vertical-align: top;\n",
       "    }\n",
       "\n",
       "    .dataframe thead th {\n",
       "        text-align: right;\n",
       "    }\n",
       "</style>\n",
       "<table border=\"1\" class=\"dataframe\">\n",
       "  <thead>\n",
       "    <tr style=\"text-align: right;\">\n",
       "      <th></th>\n",
       "      <th>order_book_id</th>\n",
       "      <th>datetime</th>\n",
       "      <th>last_quantity</th>\n",
       "      <th>side</th>\n",
       "      <th>last_price</th>\n",
       "      <th>transaction_cost</th>\n",
       "    </tr>\n",
       "  </thead>\n",
       "  <tbody>\n",
       "    <tr>\n",
       "      <th>0</th>\n",
       "      <td>000008.XSHE</td>\n",
       "      <td>2020-08-18</td>\n",
       "      <td>18700.0</td>\n",
       "      <td>SELL</td>\n",
       "      <td>3.17</td>\n",
       "      <td>0</td>\n",
       "    </tr>\n",
       "    <tr>\n",
       "      <th>1</th>\n",
       "      <td>000009.XSHE</td>\n",
       "      <td>2020-08-18</td>\n",
       "      <td>83000.0</td>\n",
       "      <td>BUY</td>\n",
       "      <td>8.27</td>\n",
       "      <td>0</td>\n",
       "    </tr>\n",
       "    <tr>\n",
       "      <th>2</th>\n",
       "      <td>000012.XSHE</td>\n",
       "      <td>2020-08-18</td>\n",
       "      <td>15400.0</td>\n",
       "      <td>SELL</td>\n",
       "      <td>6.27</td>\n",
       "      <td>0</td>\n",
       "    </tr>\n",
       "    <tr>\n",
       "      <th>3</th>\n",
       "      <td>000021.XSHE</td>\n",
       "      <td>2020-08-18</td>\n",
       "      <td>6600.0</td>\n",
       "      <td>SELL</td>\n",
       "      <td>26.75</td>\n",
       "      <td>0</td>\n",
       "    </tr>\n",
       "    <tr>\n",
       "      <th>4</th>\n",
       "      <td>000025.XSHE</td>\n",
       "      <td>2020-08-18</td>\n",
       "      <td>4400.0</td>\n",
       "      <td>BUY</td>\n",
       "      <td>22.70</td>\n",
       "      <td>0</td>\n",
       "    </tr>\n",
       "    <tr>\n",
       "      <th>...</th>\n",
       "      <td>...</td>\n",
       "      <td>...</td>\n",
       "      <td>...</td>\n",
       "      <td>...</td>\n",
       "      <td>...</td>\n",
       "      <td>...</td>\n",
       "    </tr>\n",
       "    <tr>\n",
       "      <th>459</th>\n",
       "      <td>603882.XSHG</td>\n",
       "      <td>2020-08-18</td>\n",
       "      <td>1000.0</td>\n",
       "      <td>SELL</td>\n",
       "      <td>89.42</td>\n",
       "      <td>0</td>\n",
       "    </tr>\n",
       "    <tr>\n",
       "      <th>460</th>\n",
       "      <td>603883.XSHG</td>\n",
       "      <td>2020-08-18</td>\n",
       "      <td>3500.0</td>\n",
       "      <td>BUY</td>\n",
       "      <td>104.28</td>\n",
       "      <td>0</td>\n",
       "    </tr>\n",
       "    <tr>\n",
       "      <th>461</th>\n",
       "      <td>603885.XSHG</td>\n",
       "      <td>2020-08-18</td>\n",
       "      <td>5900.0</td>\n",
       "      <td>SELL</td>\n",
       "      <td>10.40</td>\n",
       "      <td>0</td>\n",
       "    </tr>\n",
       "    <tr>\n",
       "      <th>462</th>\n",
       "      <td>603888.XSHG</td>\n",
       "      <td>2020-08-18</td>\n",
       "      <td>6100.0</td>\n",
       "      <td>BUY</td>\n",
       "      <td>27.60</td>\n",
       "      <td>0</td>\n",
       "    </tr>\n",
       "    <tr>\n",
       "      <th>463</th>\n",
       "      <td>603939.XSHG</td>\n",
       "      <td>2020-08-18</td>\n",
       "      <td>1700.0</td>\n",
       "      <td>SELL</td>\n",
       "      <td>90.36</td>\n",
       "      <td>0</td>\n",
       "    </tr>\n",
       "  </tbody>\n",
       "</table>\n",
       "<p>464 rows × 6 columns</p>\n",
       "</div>"
      ],
      "text/plain": [
       "    order_book_id   datetime  last_quantity  side  last_price  \\\n",
       "0     000008.XSHE 2020-08-18        18700.0  SELL        3.17   \n",
       "1     000009.XSHE 2020-08-18        83000.0   BUY        8.27   \n",
       "2     000012.XSHE 2020-08-18        15400.0  SELL        6.27   \n",
       "3     000021.XSHE 2020-08-18         6600.0  SELL       26.75   \n",
       "4     000025.XSHE 2020-08-18         4400.0   BUY       22.70   \n",
       "..            ...        ...            ...   ...         ...   \n",
       "459   603882.XSHG 2020-08-18         1000.0  SELL       89.42   \n",
       "460   603883.XSHG 2020-08-18         3500.0   BUY      104.28   \n",
       "461   603885.XSHG 2020-08-18         5900.0  SELL       10.40   \n",
       "462   603888.XSHG 2020-08-18         6100.0   BUY       27.60   \n",
       "463   603939.XSHG 2020-08-18         1700.0  SELL       90.36   \n",
       "\n",
       "     transaction_cost  \n",
       "0                   0  \n",
       "1                   0  \n",
       "2                   0  \n",
       "3                   0  \n",
       "4                   0  \n",
       "..                ...  \n",
       "459                 0  \n",
       "460                 0  \n",
       "461                 0  \n",
       "462                 0  \n",
       "463                 0  \n",
       "\n",
       "[464 rows x 6 columns]"
      ]
     },
     "execution_count": 25,
     "metadata": {},
     "output_type": "execute_result"
    }
   ],
   "source": [
    "result"
   ]
  },
  {
   "cell_type": "code",
   "execution_count": 28,
   "metadata": {},
   "outputs": [],
   "source": [
    "result.to_csv(r'trades_20200819.csv',index=False)"
   ]
  },
  {
   "cell_type": "code",
   "execution_count": null,
   "metadata": {},
   "outputs": [],
   "source": []
  }
 ],
 "metadata": {
  "kernelspec": {
   "display_name": "Python [conda env:ricequant]",
   "language": "python",
   "name": "conda-env-ricequant-py"
  },
  "language_info": {
   "codemirror_mode": {
    "name": "ipython",
    "version": 3
   },
   "file_extension": ".py",
   "mimetype": "text/x-python",
   "name": "python",
   "nbconvert_exporter": "python",
   "pygments_lexer": "ipython3",
   "version": "3.7.7"
  },
  "toc": {
   "base_numbering": 1,
   "nav_menu": {},
   "number_sections": true,
   "sideBar": true,
   "skip_h1_title": false,
   "title_cell": "Table of Contents",
   "title_sidebar": "Contents",
   "toc_cell": false,
   "toc_position": {},
   "toc_section_display": true,
   "toc_window_display": false
  },
  "varInspector": {
   "cols": {
    "lenName": 16,
    "lenType": 16,
    "lenVar": 40
   },
   "kernels_config": {
    "python": {
     "delete_cmd_postfix": "",
     "delete_cmd_prefix": "del ",
     "library": "var_list.py",
     "varRefreshCmd": "print(var_dic_list())"
    },
    "r": {
     "delete_cmd_postfix": ") ",
     "delete_cmd_prefix": "rm(",
     "library": "var_list.r",
     "varRefreshCmd": "cat(var_dic_list()) "
    }
   },
   "types_to_exclude": [
    "module",
    "function",
    "builtin_function_or_method",
    "instance",
    "_Feature"
   ],
   "window_display": false
  }
 },
 "nbformat": 4,
 "nbformat_minor": 2
}

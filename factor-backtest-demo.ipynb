{
 "cells": [
  {
   "cell_type": "code",
   "execution_count": 1,
   "metadata": {},
   "outputs": [],
   "source": [
    "import os\n",
    "import codecs\n",
    "import yaml\n",
    "\n",
    "import rqalpha as rqa\n",
    "import rqdatac as rqd\n",
    "import rqoptimizer as rqo\n",
    "\n",
    "import pandas as pd\n",
    "import numpy as np\n",
    "\n",
    "import utils\n",
    "import multiprocessing\n",
    "import time\n",
    "%matplotlib inline"
   ]
  },
  {
   "cell_type": "code",
   "execution_count": 2,
   "metadata": {},
   "outputs": [],
   "source": [
    "# def _init_rqdata(conf_path):\n",
    "#     with codecs.open(conf_path, 'r', encoding='utf8') as stream:\n",
    "#         conf = yaml.load(stream)\n",
    "#         if 'proxy' in conf:\n",
    "#             proxy_info = (conf['proxy'].get('type'),\n",
    "#                 conf['proxy'].get('host'),\n",
    "#                 conf['proxy'].get('port'),\n",
    "#                 conf['proxy'].get('user'),\n",
    "#                 conf['proxy'].get('password'))\n",
    "#         else:\n",
    "#             proxy_info = None\n",
    "#         rqd.init(conf['rqdata_username'], conf['rqdata_password'],\n",
    "#             (conf['rqdata_host'], conf['rqdata_port']), proxy_info=proxy_info)\n",
    "\n",
    "# _init_rqdata('rqpro.yml')"
   ]
  },
  {
   "cell_type": "code",
   "execution_count": 3,
   "metadata": {},
   "outputs": [
    {
     "name": "stderr",
     "output_type": "stream",
     "text": [
      "F:\\anaconda\\lib\\site-packages\\rqdatac\\client.py:190: UserWarning: rqdatac is already inited. Settings will be changed.\n",
      "  warnings.warn(\"rqdatac is already inited. Settings will be changed.\", stacklevel=0)\n"
     ]
    }
   ],
   "source": [
    "rqd.init()"
   ]
  },
  {
   "cell_type": "code",
   "execution_count": 4,
   "metadata": {},
   "outputs": [],
   "source": [
    "# backtest related\n",
    "def get_target_stocks(context, factor, ascending, percent_selected, min_selected, industry):\n",
    "    \"\"\"获得当天需要买入的股票\"\"\"\n",
    "    # 前一个交易日\n",
    "    selection_date = rqd.get_previous_trading_date(context.now)\n",
    "    if context.industry is not None:\n",
    "        pass\n",
    "    else:\n",
    "        # 前一个交易日的指数成分股\n",
    "        universe = rqd.index_components(context.index_stockpool, selection_date)\n",
    "    # 剔除当天停牌\n",
    "    universe = utils.drop_suspended(universe, selection_date)\n",
    "    # 剔除当天ST\n",
    "    universe = utils.drop_st(universe, selection_date)\n",
    "    # 剔除上市小于60天\n",
    "    universe = utils.drop_recently_listed(universe, selection_date, 60)\n",
    "    # 获得因子分数\n",
    "    scores = utils.get_factor(universe, factor, selection_date, selection_date)\n",
    "    # 返回需要买入的股票\n",
    "    return utils.select_top_N_percent(\n",
    "        universe, selection_date, scores, percent_selected, ascending, min_selected,\n",
    "        grouper=utils.get_industry,\n",
    "    )\n",
    "\n",
    "\n",
    "def get_target_portfolio(context, **optimization_args):\n",
    "    # 返回每只股票的权重Series\n",
    "    # rqoptimizer 默认取date前一个交易日的数据\n",
    "    target_portfolio = rqo.portfolio_optimize(\n",
    "        context.target_stocks, context.now, **optimization_args\n",
    "    )\n",
    "    return target_portfolio.loc[lambda x: x != 0]\n",
    "\n",
    "\n",
    "\n",
    "def _should_rebalance(context):\n",
    "    \"\"\"判断今天是否调仓\"\"\"\n",
    "    # 获得上一个交易日\n",
    "    prev_trading_day = rqd.get_previous_trading_date(context.now)\n",
    "    # 判断是否是月初, 是月初返回True\n",
    "    is_month_start = (prev_trading_day.month != context.now.month)\n",
    "    return is_month_start\n",
    "\n",
    "def rebalance(context, bar_dict):\n",
    "    # 先清空不在目标组合里面的股票\n",
    "    positions = context.stock_account.positions\n",
    "    for order_book_id in positions:\n",
    "        if order_book_id not in context.target_portfolio:\n",
    "            rqa.api.order_to(order_book_id, 0)\n",
    "\n",
    "    # 对每个股票计算目标权重和当前权重的差值\n",
    "    # 差值为正的是买单, 反之为卖单\n",
    "    capital = context.stock_account.total_value * (1 - context.cash_cushion)\n",
    "    to_sell, to_buy = {}, {}\n",
    "    for order_book_id, weight in context.target_portfolio.items():\n",
    "        # 股票目标价值\n",
    "        target_value = capital * weight\n",
    "        # 目标和现有之差\n",
    "        gap = target_value - positions[order_book_id].market_value\n",
    "        if gap > 0:\n",
    "            to_buy[order_book_id] = gap\n",
    "        else:\n",
    "            to_sell[order_book_id] = gap\n",
    "\n",
    "    # to avoid liquidity issue, sell first, buy second\n",
    "    _money_for_one_lot = lambda order_book_id: bar_dict[order_book_id].close * 100\n",
    "    # 先卖\n",
    "    for order_book_id, value in to_sell.items():\n",
    "        # 要卖出的至少大于1手股票价值\n",
    "        if abs(value) > _money_for_one_lot(order_book_id):\n",
    "            # value为负\n",
    "            rqa.api.order_value(order_book_id, value)\n",
    "    # 后买\n",
    "    for order_book_id, value in to_buy.items():\n",
    "        # 要买入的至少大于1手股票价值\n",
    "        if abs(value) > _money_for_one_lot(order_book_id):\n",
    "            rqa.api.order_value(order_book_id, value)\n",
    "            \n",
    "def init(context):\n",
    "    pass     \n",
    "\n",
    "\n",
    "def handle_bar(context, bar_dict):\n",
    "    # 如果是False(不是月初),直接返回\n",
    "    if not _should_rebalance(context):\n",
    "        return\n",
    "    print(context.now)\n",
    "    context.target_stocks = get_target_stocks(context, **context.stock_selection_args)\n",
    "    context.target_portfolio = get_target_portfolio(context, **context.optimization_args)\n",
    "    rebalance(context, bar_dict)\n"
   ]
  },
  {
   "cell_type": "code",
   "execution_count": 5,
   "metadata": {},
   "outputs": [],
   "source": [
    "MILLION = 1_000_000\n",
    "BILLION = 1000 * MILLION\n",
    "\n",
    "config = {\n",
    "    \"base\": {\n",
    "        \"matching_type\": \"current_bar\",\n",
    "        \"start_date\": '2020-01-01',\n",
    "        \"end_date\": '2020-07-20',\n",
    "        \"frequency\": '1d',\n",
    "        \"accounts\": {\"stock\": 0.1 * BILLION},\n",
    "    },\n",
    "\n",
    "    \"mod\": {\n",
    "        \"sys_analyser\": {\n",
    "            \"enabled\": True, \n",
    "            \"plot\": True,  \n",
    "            \"benchmark\": \"000905.XSHG\",\n",
    "        },\n",
    "    },\n",
    "\n",
    "    \"extra\": {\n",
    "        \"log_level\": 'info',\n",
    "        \"context_vars\": {\n",
    "            'cash_cushion': 0.005,\n",
    "            'benchmark_symbol': '000985.XSHG',\n",
    "            'industry': None,\n",
    "            'stock_selection_args': {\n",
    "                'factor': None,\n",
    "                'ascending': True ,\n",
    "                'percent_selected': 0.1,\n",
    "                'min_selected': 10,\n",
    "            },\n",
    "\n",
    "            'optimization_args': {\n",
    "                'benchmark': '000985.XSHG',\n",
    "                'objective': rqo.MinTrackingError(),\n",
    "                'cons': [rqo.WildcardIndustryConstraint(lower_limit=-0.05, upper_limit=0.05,relative=True)],\n",
    "                'bnds': {'*': (0, 0.1)},\n",
    "            },\n",
    "        },\n",
    "    },\n",
    "}"
   ]
  },
  {
   "cell_type": "code",
   "execution_count": 6,
   "metadata": {
    "scrolled": true
   },
   "outputs": [
    {
     "name": "stderr",
     "output_type": "stream",
     "text": [
      "[2020-01-02 15:00:00.000000] INFO: user_log: 2020-01-02 15:00:00\n",
      "[2020-01-02 15:00:00.000000] ERROR: user_system_log: 策略运行产生异常\n",
      "Traceback (most recent call last):\n",
      "  File \"F:\\anaconda\\lib\\site-packages\\rqalpha\\core\\strategy.py\", line 97, in handle_bar\n",
      "    self._handle_bar(self._user_context, bar_dict)\n",
      "  File \"<ipython-input-4-84d5e3cad6d3>\", line 88, in handle_bar\n",
      "    context.target_stocks = get_target_stocks(context, **context.stock_selection_args)\n",
      "TypeError: get_target_stocks() missing 1 required positional argument: 'industry'\n",
      "\n",
      "During handling of the above exception, another exception occurred:\n",
      "\n",
      "Traceback (most recent call last):\n",
      "  File \"F:\\anaconda\\lib\\site-packages\\rqalpha\\main.py\", line 207, in run\n",
      "    executor.run(bar_dict)\n",
      "  File \"F:\\anaconda\\lib\\site-packages\\rqalpha\\core\\executor.py\", line 47, in run\n",
      "    self._split_and_publish(event)\n",
      "  File \"F:\\anaconda\\lib\\site-packages\\rqalpha\\core\\executor.py\", line 98, in _split_and_publish\n",
      "    self._env.event_bus.publish_event(e)\n",
      "  File \"F:\\anaconda\\lib\\site-packages\\rqalpha\\events.py\", line 42, in publish_event\n",
      "    if listener(event):\n",
      "  File \"F:\\anaconda\\lib\\site-packages\\rqalpha\\core\\strategy.py\", line 34, in wrapper\n",
      "    return func(*args, **kwargs)\n",
      "  File \"F:\\anaconda\\lib\\site-packages\\rqalpha\\core\\strategy.py\", line 97, in handle_bar\n",
      "    self._handle_bar(self._user_context, bar_dict)\n",
      "  File \"F:\\anaconda\\lib\\site-packages\\rqalpha\\execution_context.py\", line 93, in __exit__\n",
      "    raise user_exc\n",
      "rqalpha.utils.exception.CustomException: get_target_stocks() missing 1 required positional argument: 'industry'\n"
     ]
    }
   ],
   "source": [
    "backtest_result = rqa.run_func(init=init,handle_bar=handle_bar, config=config)"
   ]
  },
  {
   "cell_type": "markdown",
   "metadata": {},
   "source": [
    "----------"
   ]
  },
  {
   "cell_type": "code",
   "execution_count": 7,
   "metadata": {},
   "outputs": [],
   "source": [
    "# performance analysis\n",
    "\n",
    "def cumulative_excess_return(backtest_result):\n",
    "    \"\"\"累计超额收益\"\"\"\n",
    "    # 投资组合中每日现金、权益、市值、净值等数据\n",
    "    strat_portf = backtest_result['sys_analyser']['portfolio']\n",
    "    benchmark_portf = backtest_result['sys_analyser']['benchmark_portfolio']\n",
    "    # 单位净值计算出的每日收益率\n",
    "    strat_return = strat_portf['unit_net_value'].pct_change()\n",
    "    # benchmark的每日收益率\n",
    "    benchmark_return = benchmark_portf['unit_net_value'].pct_change()\n",
    "    # 每日超额收益率\n",
    "    excess_return = strat_return - benchmark_return\n",
    "    \n",
    "    return (excess_return).cumsum()+1\n",
    "    \n",
    "\n",
    "def average_turnover(backtest_result):\n",
    "    sell_trades = backtest_result['sys_analyser']['trades'].query(\"side == 'SELL'\")\n",
    "    portfolio = backtest_result['sys_analyser']['portfolio']\n",
    "    \n",
    "    total_trade_value = lambda df: (df['last_price'] * df['last_quantity']).sum()\n",
    "    value_sold = sell_trades.groupby(sell_trades.index, group_keys=False).apply(total_trade_value)\n",
    "    value_sold.index = pd.to_datetime(value_sold.index).date\n",
    "    \n",
    "    capital = portfolio.loc[value_sold.index, 'total_value']\n",
    "    \n",
    "    return (value_sold / capital).mean()\n",
    "\n",
    "def stock_position_stats(backtest_result):\n",
    "    market_value = backtest_result['sys_analyser']['stock_account']['market_value']\n",
    "    total_value = backtest_result['sys_analyser']['stock_account']['total_value']\n",
    "    percentage = market_value / total_value\n",
    "    num_holdings = backtest_result['sys_analyser']['stock_positions'].groupby(level='date').size()\n",
    "    return pd.DataFrame(\n",
    "        {'market_value': market_value, \n",
    "         'total_value': total_value,\n",
    "         'percentage': percentage,\n",
    "         'num_holdings': num_holdings,\n",
    "        })"
   ]
  },
  {
   "cell_type": "code",
   "execution_count": 8,
   "metadata": {},
   "outputs": [
    {
     "ename": "TypeError",
     "evalue": "'NoneType' object is not subscriptable",
     "output_type": "error",
     "traceback": [
      "\u001b[1;31m---------------------------------------------------------------------------\u001b[0m",
      "\u001b[1;31mTypeError\u001b[0m                                 Traceback (most recent call last)",
      "\u001b[1;32mF:\\anaconda\\lib\\site-packages\\rqalpha\\user_module.py\u001b[0m in \u001b[0;36m<module>\u001b[1;34m\u001b[0m\n\u001b[1;32m----> 1\u001b[1;33m \u001b[0mcumulative_excess_return\u001b[0m\u001b[1;33m(\u001b[0m\u001b[0mbacktest_result\u001b[0m\u001b[1;33m)\u001b[0m\u001b[1;33m.\u001b[0m\u001b[0mplot\u001b[0m\u001b[1;33m(\u001b[0m\u001b[0mtitle\u001b[0m\u001b[1;33m=\u001b[0m\u001b[1;34m'Cumulative Excess Return'\u001b[0m\u001b[1;33m,\u001b[0m \u001b[0mfigsize\u001b[0m\u001b[1;33m=\u001b[0m\u001b[1;33m(\u001b[0m\u001b[1;36m18\u001b[0m\u001b[1;33m,\u001b[0m \u001b[1;36m6\u001b[0m\u001b[1;33m)\u001b[0m\u001b[1;33m)\u001b[0m\u001b[1;33m\u001b[0m\u001b[1;33m\u001b[0m\u001b[0m\n\u001b[0m\u001b[0;32m      2\u001b[0m \u001b[0mprint\u001b[0m\u001b[1;33m(\u001b[0m\u001b[1;34mf'Average Turnover: {average_turnover(backtest_result)}'\u001b[0m\u001b[1;33m)\u001b[0m\u001b[1;33m\u001b[0m\u001b[1;33m\u001b[0m\u001b[0m\n",
      "\u001b[1;32mF:\\anaconda\\lib\\site-packages\\rqalpha\\user_module.py\u001b[0m in \u001b[0;36mcumulative_excess_return\u001b[1;34m(backtest_result)\u001b[0m\n\u001b[0;32m      4\u001b[0m     \u001b[1;34m\"\"\"累计超额收益\"\"\"\u001b[0m\u001b[1;33m\u001b[0m\u001b[1;33m\u001b[0m\u001b[0m\n\u001b[0;32m      5\u001b[0m     \u001b[1;31m# 投资组合中每日现金、权益、市值、净值等数据\u001b[0m\u001b[1;33m\u001b[0m\u001b[1;33m\u001b[0m\u001b[1;33m\u001b[0m\u001b[0m\n\u001b[1;32m----> 6\u001b[1;33m     \u001b[0mstrat_portf\u001b[0m \u001b[1;33m=\u001b[0m \u001b[0mbacktest_result\u001b[0m\u001b[1;33m[\u001b[0m\u001b[1;34m'sys_analyser'\u001b[0m\u001b[1;33m]\u001b[0m\u001b[1;33m[\u001b[0m\u001b[1;34m'portfolio'\u001b[0m\u001b[1;33m]\u001b[0m\u001b[1;33m\u001b[0m\u001b[1;33m\u001b[0m\u001b[0m\n\u001b[0m\u001b[0;32m      7\u001b[0m     \u001b[0mbenchmark_portf\u001b[0m \u001b[1;33m=\u001b[0m \u001b[0mbacktest_result\u001b[0m\u001b[1;33m[\u001b[0m\u001b[1;34m'sys_analyser'\u001b[0m\u001b[1;33m]\u001b[0m\u001b[1;33m[\u001b[0m\u001b[1;34m'benchmark_portfolio'\u001b[0m\u001b[1;33m]\u001b[0m\u001b[1;33m\u001b[0m\u001b[1;33m\u001b[0m\u001b[0m\n\u001b[0;32m      8\u001b[0m     \u001b[1;31m# 单位净值计算出的每日收益率\u001b[0m\u001b[1;33m\u001b[0m\u001b[1;33m\u001b[0m\u001b[1;33m\u001b[0m\u001b[0m\n",
      "\u001b[1;31mTypeError\u001b[0m: 'NoneType' object is not subscriptable"
     ]
    }
   ],
   "source": [
    "cumulative_excess_return(backtest_result).plot(title='Cumulative Excess Return', figsize=(18, 6))\n",
    "print(f'Average Turnover: {average_turnover(backtest_result)}')"
   ]
  },
  {
   "cell_type": "code",
   "execution_count": null,
   "metadata": {},
   "outputs": [],
   "source": [
    "stock_position_stats(backtest_result)['percentage'].plot(figsize=(18, 6))"
   ]
  },
  {
   "cell_type": "code",
   "execution_count": null,
   "metadata": {},
   "outputs": [],
   "source": [
    "stock_position_stats(backtest_result)['num_holdings'].plot(figsize=(18, 6))"
   ]
  },
  {
   "cell_type": "code",
   "execution_count": null,
   "metadata": {},
   "outputs": [],
   "source": []
  },
  {
   "cell_type": "code",
   "execution_count": null,
   "metadata": {},
   "outputs": [],
   "source": [
    "rqd.get_industry('医药', source='citics', date=None, market='cn')"
   ]
  },
  {
   "cell_type": "code",
   "execution_count": null,
   "metadata": {},
   "outputs": [],
   "source": []
  }
 ],
 "metadata": {
  "kernelspec": {
   "display_name": "Python 3",
   "language": "python",
   "name": "python3"
  },
  "language_info": {
   "codemirror_mode": {
    "name": "ipython",
    "version": 3
   },
   "file_extension": ".py",
   "mimetype": "text/x-python",
   "name": "python",
   "nbconvert_exporter": "python",
   "pygments_lexer": "ipython3",
   "version": "3.7.3"
  },
  "toc": {
   "base_numbering": 1,
   "nav_menu": {},
   "number_sections": true,
   "sideBar": true,
   "skip_h1_title": false,
   "title_cell": "Table of Contents",
   "title_sidebar": "Contents",
   "toc_cell": false,
   "toc_position": {},
   "toc_section_display": true,
   "toc_window_display": false
  },
  "varInspector": {
   "cols": {
    "lenName": 16,
    "lenType": 16,
    "lenVar": 40
   },
   "kernels_config": {
    "python": {
     "delete_cmd_postfix": "",
     "delete_cmd_prefix": "del ",
     "library": "var_list.py",
     "varRefreshCmd": "print(var_dic_list())"
    },
    "r": {
     "delete_cmd_postfix": ") ",
     "delete_cmd_prefix": "rm(",
     "library": "var_list.r",
     "varRefreshCmd": "cat(var_dic_list()) "
    }
   },
   "types_to_exclude": [
    "module",
    "function",
    "builtin_function_or_method",
    "instance",
    "_Feature"
   ],
   "window_display": false
  }
 },
 "nbformat": 4,
 "nbformat_minor": 4
}

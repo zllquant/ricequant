{
 "cells": [
  {
   "cell_type": "code",
   "execution_count": 11,
   "metadata": {},
   "outputs": [
    {
     "name": "stderr",
     "output_type": "stream",
     "text": [
      "F:\\anaconda\\envs\\ricequant\\lib\\site-packages\\rqdatac\\client.py:190: UserWarning: rqdatac is already inited. Settings will be changed.\n",
      "  warnings.warn(\"rqdatac is already inited. Settings will be changed.\", stacklevel=0)\n"
     ]
    }
   ],
   "source": [
    "import pandas as pd\n",
    "from datetime import datetime\n",
    "import rqalpha as rqa\n",
    "import rqalpha_plus\n",
    "import rqdatac as rqd\n",
    "import rqoptimizer as rqo\n",
    "\n",
    "rqd.init()"
   ]
  },
  {
   "cell_type": "code",
   "execution_count": 8,
   "metadata": {},
   "outputs": [],
   "source": [
    "def get_300_enhanced_universe(date,stock_num):\n",
    "    score = get_alpha_score(date)\n",
    "     # 中证800成分股\n",
    "    component = rqd.index_components('000906.XSHG', date)\n",
    "    score_index = score.index.tolist()\n",
    "    # 取交集\n",
    "    score = score.loc[list(set(component).intersection(score_index))]\n",
    "    target_stock = score.sort_values(ascending=False)[:stock_num].index.tolist()\n",
    "    return target_stock, score"
   ]
  },
  {
   "cell_type": "code",
   "execution_count": 9,
   "metadata": {},
   "outputs": [],
   "source": [
    "def get_300_enhanced_portfolio(target_stock,date,score,benchmark='000300.XSHG'):\n",
    "    \n",
    "    # define objective and constrains according to specification\n",
    "    objective = ...\n",
    "    \n",
    "    # industry constraints\n",
    "    industry_constraints = ...\n",
    "    \n",
    "    # style constraints\n",
    "    style_constraints = ...\n",
    "    \n",
    "    # turnover constraints\n",
    "    current_holding = context.positions \n",
    "    turnover_contraints = rqo.TurnoverLimit(current_holding, ...)\n",
    "    \n",
    "    constraints = [industry_constraints, style_constraints, turnover_contraints]\n",
    "    \n",
    "    portfolio = rqo.portfolio_optimize(date, benchmark, objective, constraints, ...) \n",
    "    return portfolio.loc[lambda x:x!=0]\n",
    "\n",
    "\n",
    "# for backtest\n",
    "def handle_bar_300_enhanced(context, bar_dict):\n",
    "    if not _should_rebalance(context):\n",
    "        return\n",
    "    today = context.now.strftime('%Y%m%d')\n",
    "    # 目标股和分数\n",
    "    target_stock,score = get_300_enhanced_universe(today,context.stock_num)\n",
    "    # 目标权重\n",
    "    target_portfolio = get_300_enhanced_portfolio(target_stock,today,score)\n",
    "    # 调仓函数\n",
    "    rebalance(context,bar_dict,target_portfolio)"
   ]
  },
  {
   "cell_type": "code",
   "execution_count": 19,
   "metadata": {},
   "outputs": [],
   "source": []
  },
  {
   "cell_type": "code",
   "execution_count": null,
   "metadata": {},
   "outputs": [],
   "source": [
    "# 假设股票得分在当日开盘前能获取\n",
    "def before_trading(context):\n",
    "    score = get_alpha_score(context.now.date(), context.alpha_score_path)\n",
    "    \n",
    "    # 若当日的读取的alpha分数非空, 则执行调仓\n",
    "    should_rebalance = (not score.empty)\n",
    "    if should_rebalance:\n",
    "        # 对于股票回测, 执行before_trading时, 当前时间是早上8:00\n",
    "        # 在此刻通过context获取的持仓权重, 是基于上一天收盘价计算得到的\n",
    "        context.target_portfolio = get_300_enhanced_portfolio(context)\n",
    "    else:\n",
    "        context.target_portfolio = None\n",
    "        \n",
    "        \n",
    "def handle_bar(context, bar_dict):\n",
    "    # 对于股票回测, 执行handle_bar, 当前时间是15:00\n",
    "    # 在此刻通过context获取的持仓权重, 是基于当前这根bar的收盘价计算得到的\n",
    "    if context.target_portfolio is not None:\n",
    "        rebalance()"
   ]
  }
 ],
 "metadata": {
  "kernelspec": {
   "display_name": "Python [conda env:ricequant]",
   "language": "python",
   "name": "conda-env-ricequant-py"
  },
  "language_info": {
   "codemirror_mode": {
    "name": "ipython",
    "version": 3
   },
   "file_extension": ".py",
   "mimetype": "text/x-python",
   "name": "python",
   "nbconvert_exporter": "python",
   "pygments_lexer": "ipython3",
   "version": "3.7.7"
  },
  "toc": {
   "base_numbering": 1,
   "nav_menu": {},
   "number_sections": true,
   "sideBar": true,
   "skip_h1_title": false,
   "title_cell": "Table of Contents",
   "title_sidebar": "Contents",
   "toc_cell": false,
   "toc_position": {},
   "toc_section_display": true,
   "toc_window_display": false
  },
  "varInspector": {
   "cols": {
    "lenName": 16,
    "lenType": 16,
    "lenVar": 40
   },
   "kernels_config": {
    "python": {
     "delete_cmd_postfix": "",
     "delete_cmd_prefix": "del ",
     "library": "var_list.py",
     "varRefreshCmd": "print(var_dic_list())"
    },
    "r": {
     "delete_cmd_postfix": ") ",
     "delete_cmd_prefix": "rm(",
     "library": "var_list.r",
     "varRefreshCmd": "cat(var_dic_list()) "
    }
   },
   "types_to_exclude": [
    "module",
    "function",
    "builtin_function_or_method",
    "instance",
    "_Feature"
   ],
   "window_display": false
  }
 },
 "nbformat": 4,
 "nbformat_minor": 4
}

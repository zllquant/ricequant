{
 "cells": [
  {
   "cell_type": "markdown",
   "metadata": {},
   "source": [
    "# 导入模块"
   ]
  },
  {
   "cell_type": "code",
   "execution_count": 4,
   "metadata": {},
   "outputs": [],
   "source": [
    "import pandas as pd\n",
    "from datetime import datetime\n",
    "import rqalpha as rqa\n",
    "import rqalpha_plus\n",
    "import rqdatac as rqd\n",
    "import rqoptimizer as rqo\n",
    "from rqoptimizer.utils import stock_select,TotalStockCountTarget\n",
    "\n",
    "rqd.init()"
   ]
  },
  {
   "cell_type": "markdown",
   "metadata": {},
   "source": [
    "# 回测"
   ]
  },
  {
   "cell_type": "code",
   "execution_count": 17,
   "metadata": {},
   "outputs": [],
   "source": [
    "_ALPHA_SCORE_CACHE = None\n",
    "\n",
    "\n",
    "def get_alpha_score(date, path=None):\n",
    "    \"\"\"从本地文件读取指定日期的alpha分数\"\"\"\n",
    "    # 以一个全局变量作为缓存, 一次性将所有数据读入, 减少文件IO\n",
    "    global _ALPHA_SCORE_CACHE\n",
    "    if _ALPHA_SCORE_CACHE is None:\n",
    "        _ALPHA_SCORE_CACHE = pd.read_csv(path, header=None)\n",
    "        _ALPHA_SCORE_CACHE[0] = _ALPHA_SCORE_CACHE[0].astype(str)\n",
    "        _ALPHA_SCORE_CACHE.columns = ['date', 'code', 'factor']\n",
    "        _ALPHA_SCORE_CACHE['code'] = _ALPHA_SCORE_CACHE['code'].map(\n",
    "            lambda x: x.replace('SZ', 'XSHE') if x[-2:] == 'SZ' else x.replace('SH', 'XSHG'))\n",
    "        _ALPHA_SCORE_CACHE.set_index(['date', 'code'], inplace=True)\n",
    "    if date in _ALPHA_SCORE_CACHE.index.levels[0]:\n",
    "        return _ALPHA_SCORE_CACHE.loc[date].squeeze()\n",
    "    return None\n",
    "\n",
    "\n",
    "def init(context):\n",
    "    pass\n",
    "\n",
    "\n",
    "def _should_rebalance(context):\n",
    "    \"\"\"判断当日是否需要调仓\"\"\"\n",
    "    today = context.now.strftime('%Y%m%d')\n",
    "    score = get_alpha_score(today, context.alpha_score_path)\n",
    "    # 若当日的读取的alpha分数非空, 则执行调仓\n",
    "    return score\n",
    "\n",
    "\n",
    "def handle_bar(context, bar_dict):\n",
    "    if _should_rebalance(context) is None:\n",
    "        return\n",
    "    today = context.now.strftime('%Y%m%d')\n",
    "     # 目标股和分数\n",
    "    target_stock,score = get_universe(today,context.stock_num)\n",
    "    # 目标权重\n",
    "    target_portfolio = get_portfolio(context,target_stock,today,score,context.benchmark)\n",
    "    # 调仓函数\n",
    "    rebalance(context,bar_dict,target_portfolio)\n",
    "\n",
    "\n",
    "def get_universe(date,stock_num):\n",
    "    score = get_alpha_score(date)\n",
    "     # 红利成分股\n",
    "    component = rqd.index_components('000922.XSHG', date)\n",
    "    score_index = score.index.tolist()\n",
    "    # 取交集\n",
    "    score = score.loc[list(set(component).intersection(score_index))]\n",
    "\n",
    "    # 优先级都相同,设为0\n",
    "    pool = pd.Series(0,index=score.index)\n",
    "    targets = [TotalStockCountTarget(stock_num)]\n",
    "    target_stock = stock_select(pool, targets, date, score, benchmark=None)\n",
    "    return target_stock, score\n",
    "\n",
    "\n",
    "def get_portfolio(context,target_stock,date,score,benchmark):\n",
    "    \n",
    "    # define objective and constrains according to specification\n",
    "    objective = rqo.MaxIndicator(score)\n",
    "    \n",
    "    # industry constraints\n",
    "    industry_constraints = rqo.WildcardIndustryConstraint(\n",
    "                                exclude=None,\n",
    "                                lower_limit=-0.03,\n",
    "                                upper_limit=0.03,\n",
    "                                relative=True,\n",
    "                                hard=False,\n",
    "                                classification=rqo.IndustryClassification.ZX)\n",
    "    \n",
    "    # trackingerror constraints\n",
    "    trackingerro_constraints = rqo.TrackingErrorLimit(upper_limit=0.05, hard=False)\n",
    "    # turnover constraints\n",
    "    current_holding = pd.Series({k:v.value_percent for k,v in context.portfolio.positions.items()})\n",
    "    turnover_contraints = rqo.TurnoverLimit(current_holding, upper_limit=0.35, hard=False)\n",
    "    \n",
    "    constraints = [industry_constraints, trackingerro_constraints,turnover_contraints]\n",
    "    # weight of single stock constraints\n",
    "    bnds = {'*':(0,0.03)}\n",
    "    target_portfolio = rqo.portfolio_optimize(target_stock,date, \n",
    "                                       benchmark=benchmark, \n",
    "                                       objective=objective,\n",
    "                                       cons=constraints,\n",
    "                                       bnds=bnds) \n",
    "    \n",
    "    return target_portfolio.loc[lambda x:x!=0]\n",
    "\n",
    "\n",
    "def rebalance(context, bar_dict, target_portfolio):\n",
    "\n",
    "    positions = context.stock_account.positions\n",
    "    for order_book_id in positions:\n",
    "        if order_book_id not in target_portfolio:\n",
    "            rqa.api.order_to(order_book_id, 0)\n",
    "\n",
    "    # 对每个股票计算目标价值和当前价值的差值\n",
    "    # 差值为正的是买单, 反之为卖单\n",
    "    capital = context.stock_account.total_value * (1 - context.cash_cushion)\n",
    "    to_sell, to_buy = {}, {}\n",
    "\n",
    "    def _money_for_one_lot(\n",
    "        order_book_id): return bar_dict[order_book_id].close * 100\n",
    "\n",
    "    for order_book_id, weight in target_portfolio.items():\n",
    "        # 股票目标价值\n",
    "        target_value = capital * weight\n",
    "        # 目标和现有之差\n",
    "        gap = target_value - positions[order_book_id].market_value\n",
    "        # 买卖至少大于1手股票价值\n",
    "        if abs(gap) < _money_for_one_lot(order_book_id):\n",
    "            continue\n",
    "        elif gap > 0:\n",
    "            to_buy[order_book_id] = gap\n",
    "        else:\n",
    "            to_sell[order_book_id] = gap\n",
    "\n",
    "    # to avoid liquidity issue, sell first, buy second\n",
    "    for order_book_id, value in to_sell.items():\n",
    "        rqa.api.order_value(order_book_id, value)\n",
    "    for order_book_id, value in to_buy.items():\n",
    "        rqa.api.order_value(order_book_id, value)"
   ]
  },
  {
   "cell_type": "markdown",
   "metadata": {},
   "source": [
    "---"
   ]
  },
  {
   "cell_type": "markdown",
   "metadata": {},
   "source": [
    "## 参数"
   ]
  },
  {
   "cell_type": "code",
   "execution_count": 18,
   "metadata": {},
   "outputs": [],
   "source": [
    "config = {\n",
    "    \"base\": {\n",
    "        \"matching_type\": \"current_bar\",\n",
    "        \"start_date\": '2017-01-26',\n",
    "        \"end_date\": '2020-08-04',\n",
    "        \"frequency\": '1d',\n",
    "        \"accounts\": {\"stock\": 1e8},\n",
    "        \"data_bundle_path\": r'C:\\Users\\Administrator\\.rqalpha-plus\\bundle'  # 读入bundle数据路径\n",
    "    },\n",
    "\n",
    "    \"mod\": {\n",
    "        \"sys_analyser\": {\n",
    "            \"enabled\": True,\n",
    "            \"plot\": True,\n",
    "            \"benchmark\": '000922.XSHG',\n",
    "        },\n",
    "    },\n",
    "\n",
    "    \"extra\": {\n",
    "        \"log_level\": 'error',\n",
    "        \"context_vars\": {\n",
    "            'alpha_score_path':'alphaAx_ZZHLE_F42.csv',\n",
    "            'cash_cushion': 0.005,\n",
    "            'stock_num': 60,\n",
    "            'benchmark':'000922.XSHG'\n",
    "        },\n",
    "    },\n",
    "}"
   ]
  },
  {
   "cell_type": "code",
   "execution_count": 19,
   "metadata": {},
   "outputs": [
    {
     "name": "stderr",
     "output_type": "stream",
     "text": [
      "F:\\anaconda\\envs\\ricequant\\lib\\site-packages\\rqdatac\\client.py:190: UserWarning: rqdatac is already inited. Settings will be changed.\n",
      "  warnings.warn(\"rqdatac is already inited. Settings will be changed.\", stacklevel=0)\n",
      "F:\\anaconda\\envs\\ricequant\\lib\\site-packages\\rqalpha\\core\\strategy.py:92: OptimizerWarning: 候选股票池中没有 非银行金融 行业，相应约束忽略\n",
      "  self._handle_bar(self._user_context, bar_dict)\n",
      "F:\\anaconda\\envs\\ricequant\\lib\\site-packages\\rqalpha\\core\\strategy.py:92: OptimizerWarning: 候选股票池中没有 钢铁 行业，相应约束忽略\n",
      "  self._handle_bar(self._user_context, bar_dict)\n"
     ]
    },
    {
     "name": "stdout",
     "output_type": "stream",
     "text": [
      "WARN: aa_init returned NULL, no acceleration applied.\n",
      "WARN: aa_init returned NULL, no acceleration applied.\n"
     ]
    },
    {
     "name": "stderr",
     "output_type": "stream",
     "text": [
      "F:\\anaconda\\envs\\ricequant\\lib\\site-packages\\rqalpha\\user_module.py:39: OptimizerWarning: 约束无法满足，放弃所有软约束重试\n",
      "F:\\anaconda\\envs\\ricequant\\lib\\site-packages\\rqalpha\\core\\strategy.py:92: OptimizerWarning: 候选股票池中没有 钢铁 行业，相应约束忽略\n",
      "  self._handle_bar(self._user_context, bar_dict)\n",
      "F:\\anaconda\\envs\\ricequant\\lib\\site-packages\\rqalpha\\core\\strategy.py:92: OptimizerWarning: 候选股票池中没有 机械 行业，相应约束忽略\n",
      "  self._handle_bar(self._user_context, bar_dict)\n"
     ]
    },
    {
     "name": "stdout",
     "output_type": "stream",
     "text": [
      "WARN: aa_init returned NULL, no acceleration applied.\n",
      "WARN: aa_init returned NULL, no acceleration applied.\n"
     ]
    },
    {
     "name": "stderr",
     "output_type": "stream",
     "text": [
      "F:\\anaconda\\envs\\ricequant\\lib\\site-packages\\rqalpha\\core\\strategy.py:92: OptimizerWarning: 候选股票池中没有 电力设备 行业，相应约束忽略\n",
      "  self._handle_bar(self._user_context, bar_dict)\n",
      "F:\\anaconda\\envs\\ricequant\\lib\\site-packages\\rqalpha\\core\\strategy.py:92: OptimizerWarning: 候选股票池中没有 基础化工 行业，相应约束忽略\n",
      "  self._handle_bar(self._user_context, bar_dict)\n"
     ]
    },
    {
     "name": "stdout",
     "output_type": "stream",
     "text": [
      "WARN: aa_init returned NULL, no acceleration applied.\n",
      "WARN: aa_init returned NULL, no acceleration applied.\n",
      "WARN: aa_init returned NULL, no acceleration applied.\n"
     ]
    },
    {
     "name": "stderr",
     "output_type": "stream",
     "text": [
      "F:\\anaconda\\envs\\ricequant\\lib\\site-packages\\rqalpha\\user_module.py:39: OptimizerWarning: 约束无法满足，放弃所有软约束重试\n",
      "F:\\anaconda\\envs\\ricequant\\lib\\site-packages\\rqalpha\\core\\strategy.py:92: OptimizerWarning: 候选股票池中没有 煤炭 行业，相应约束忽略\n",
      "  self._handle_bar(self._user_context, bar_dict)\n",
      "F:\\anaconda\\envs\\ricequant\\lib\\site-packages\\rqalpha\\core\\strategy.py:92: OptimizerWarning: 候选股票池中没有 医药 行业，相应约束忽略\n",
      "  self._handle_bar(self._user_context, bar_dict)\n"
     ]
    },
    {
     "name": "stdout",
     "output_type": "stream",
     "text": [
      "WARN: aa_init returned NULL, no acceleration applied.\n"
     ]
    },
    {
     "name": "stderr",
     "output_type": "stream",
     "text": [
      "F:\\anaconda\\envs\\ricequant\\lib\\site-packages\\rqalpha\\core\\strategy.py:92: OptimizerWarning: 候选股票池中没有 煤炭 行业，相应约束忽略\n",
      "  self._handle_bar(self._user_context, bar_dict)\n"
     ]
    },
    {
     "name": "stdout",
     "output_type": "stream",
     "text": [
      "WARN: aa_init returned NULL, no acceleration applied.\n"
     ]
    },
    {
     "name": "stderr",
     "output_type": "stream",
     "text": [
      "F:\\anaconda\\envs\\ricequant\\lib\\site-packages\\rqalpha\\core\\strategy.py:92: OptimizerWarning: 候选股票池中没有 煤炭 行业，相应约束忽略\n",
      "  self._handle_bar(self._user_context, bar_dict)\n"
     ]
    },
    {
     "name": "stdout",
     "output_type": "stream",
     "text": [
      "WARN: aa_init returned NULL, no acceleration applied.\n",
      "WARN: aa_init returned NULL, no acceleration applied.\n",
      "WARN: aa_init returned NULL, no acceleration applied.\n"
     ]
    },
    {
     "name": "stderr",
     "output_type": "stream",
     "text": [
      "F:\\anaconda\\envs\\ricequant\\lib\\site-packages\\rqalpha\\user_module.py:39: OptimizerWarning: 约束无法满足，放弃所有软约束重试\n"
     ]
    },
    {
     "name": "stdout",
     "output_type": "stream",
     "text": [
      "WARN: aa_init returned NULL, no acceleration applied.\n",
      "WARN: aa_init returned NULL, no acceleration applied.\n"
     ]
    },
    {
     "name": "stderr",
     "output_type": "stream",
     "text": [
      "F:\\anaconda\\envs\\ricequant\\lib\\site-packages\\rqalpha\\user_module.py:39: OptimizerWarning: 约束无法满足，放弃所有软约束重试\n",
      "F:\\anaconda\\envs\\ricequant\\lib\\site-packages\\rqalpha\\core\\strategy.py:92: OptimizerWarning: 候选股票池中没有 商贸零售 行业，相应约束忽略\n",
      "  self._handle_bar(self._user_context, bar_dict)\n"
     ]
    },
    {
     "name": "stdout",
     "output_type": "stream",
     "text": [
      "WARN: aa_init returned NULL, no acceleration applied.\n"
     ]
    },
    {
     "name": "stderr",
     "output_type": "stream",
     "text": [
      "F:\\anaconda\\envs\\ricequant\\lib\\site-packages\\rqalpha\\core\\strategy.py:92: OptimizerWarning: 候选股票池中没有 石油石化 行业，相应约束忽略\n",
      "  self._handle_bar(self._user_context, bar_dict)\n",
      "F:\\anaconda\\envs\\ricequant\\lib\\site-packages\\rqalpha\\core\\strategy.py:92: OptimizerWarning: 候选股票池中没有 建筑 行业，相应约束忽略\n",
      "  self._handle_bar(self._user_context, bar_dict)\n",
      "F:\\anaconda\\envs\\ricequant\\lib\\site-packages\\rqalpha\\core\\strategy.py:92: OptimizerWarning: 候选股票池中没有 机械 行业，相应约束忽略\n",
      "  self._handle_bar(self._user_context, bar_dict)\n",
      "F:\\anaconda\\envs\\ricequant\\lib\\site-packages\\rqalpha\\core\\strategy.py:92: OptimizerWarning: 候选股票池中没有 基础化工 行业，相应约束忽略\n",
      "  self._handle_bar(self._user_context, bar_dict)\n"
     ]
    },
    {
     "name": "stdout",
     "output_type": "stream",
     "text": [
      "WARN: aa_init returned NULL, no acceleration applied.\n",
      "WARN: aa_init returned NULL, no acceleration applied.\n"
     ]
    },
    {
     "name": "stderr",
     "output_type": "stream",
     "text": [
      "F:\\anaconda\\envs\\ricequant\\lib\\site-packages\\rqalpha\\user_module.py:39: OptimizerWarning: 约束无法满足，放弃所有软约束重试\n",
      "F:\\anaconda\\envs\\ricequant\\lib\\site-packages\\rqalpha\\core\\strategy.py:92: OptimizerWarning: 候选股票池中没有 建筑 行业，相应约束忽略\n",
      "  self._handle_bar(self._user_context, bar_dict)\n"
     ]
    },
    {
     "name": "stdout",
     "output_type": "stream",
     "text": [
      "WARN: aa_init returned NULL, no acceleration applied.\n",
      "WARN: aa_init returned NULL, no acceleration applied.\n"
     ]
    },
    {
     "name": "stderr",
     "output_type": "stream",
     "text": [
      "F:\\anaconda\\envs\\ricequant\\lib\\site-packages\\rqalpha\\user_module.py:39: OptimizerWarning: 约束无法满足，放弃所有软约束重试\n",
      "F:\\anaconda\\envs\\ricequant\\lib\\site-packages\\rqalpha\\core\\strategy.py:92: OptimizerWarning: 候选股票池中没有 综合 行业，相应约束忽略\n",
      "  self._handle_bar(self._user_context, bar_dict)\n",
      "F:\\anaconda\\envs\\ricequant\\lib\\site-packages\\rqalpha\\core\\strategy.py:92: OptimizerWarning: 候选股票池中没有 建筑 行业，相应约束忽略\n",
      "  self._handle_bar(self._user_context, bar_dict)\n",
      "F:\\anaconda\\envs\\ricequant\\lib\\site-packages\\rqalpha\\core\\strategy.py:92: OptimizerWarning: 候选股票池中没有 商贸零售 行业，相应约束忽略\n",
      "  self._handle_bar(self._user_context, bar_dict)\n"
     ]
    },
    {
     "name": "stdout",
     "output_type": "stream",
     "text": [
      "WARN: aa_init returned NULL, no acceleration applied.\n",
      "WARN: aa_init returned NULL, no acceleration applied.\n"
     ]
    },
    {
     "name": "stderr",
     "output_type": "stream",
     "text": [
      "F:\\anaconda\\envs\\ricequant\\lib\\site-packages\\rqalpha\\user_module.py:39: OptimizerWarning: 约束无法满足，放弃所有软约束重试\n",
      "F:\\anaconda\\envs\\ricequant\\lib\\site-packages\\rqalpha\\core\\strategy.py:92: OptimizerWarning: 候选股票池中没有 建筑 行业，相应约束忽略\n",
      "  self._handle_bar(self._user_context, bar_dict)\n"
     ]
    },
    {
     "name": "stdout",
     "output_type": "stream",
     "text": [
      "WARN: aa_init returned NULL, no acceleration applied.\n",
      "WARN: aa_init returned NULL, no acceleration applied.\n"
     ]
    },
    {
     "name": "stderr",
     "output_type": "stream",
     "text": [
      "F:\\anaconda\\envs\\ricequant\\lib\\site-packages\\rqalpha\\user_module.py:39: OptimizerWarning: 约束无法满足，放弃所有软约束重试\n",
      "F:\\anaconda\\envs\\ricequant\\lib\\site-packages\\rqalpha\\core\\strategy.py:92: OptimizerWarning: 候选股票池中没有 综合 行业，相应约束忽略\n",
      "  self._handle_bar(self._user_context, bar_dict)\n",
      "F:\\anaconda\\envs\\ricequant\\lib\\site-packages\\rqalpha\\core\\strategy.py:92: OptimizerWarning: 候选股票池中没有 机械 行业，相应约束忽略\n",
      "  self._handle_bar(self._user_context, bar_dict)\n",
      "F:\\anaconda\\envs\\ricequant\\lib\\site-packages\\rqalpha\\core\\strategy.py:92: OptimizerWarning: 候选股票池中没有 纺织服装 行业，相应约束忽略\n",
      "  self._handle_bar(self._user_context, bar_dict)\n"
     ]
    },
    {
     "name": "stdout",
     "output_type": "stream",
     "text": [
      "WARN: aa_init returned NULL, no acceleration applied.\n",
      "WARN: aa_init returned NULL, no acceleration applied.\n"
     ]
    },
    {
     "name": "stderr",
     "output_type": "stream",
     "text": [
      "F:\\anaconda\\envs\\ricequant\\lib\\site-packages\\rqalpha\\user_module.py:39: OptimizerWarning: 约束无法满足，放弃所有软约束重试\n"
     ]
    },
    {
     "name": "stdout",
     "output_type": "stream",
     "text": [
      "WARN: aa_init returned NULL, no acceleration applied.\n"
     ]
    },
    {
     "name": "stderr",
     "output_type": "stream",
     "text": [
      "F:\\anaconda\\envs\\ricequant\\lib\\site-packages\\rqalpha\\user_module.py:39: OptimizerWarning: 达到最大迭代次数，但仍未达到所需精度，可能会导致某些约束不能满足\n",
      "F:\\anaconda\\envs\\ricequant\\lib\\site-packages\\rqalpha\\core\\strategy.py:92: OptimizerWarning: 候选股票池中没有 轻工制造 行业，相应约束忽略\n",
      "  self._handle_bar(self._user_context, bar_dict)\n"
     ]
    },
    {
     "name": "stdout",
     "output_type": "stream",
     "text": [
      "WARN: aa_init returned NULL, no acceleration applied.\n"
     ]
    },
    {
     "name": "stderr",
     "output_type": "stream",
     "text": [
      "F:\\anaconda\\envs\\ricequant\\lib\\site-packages\\rqalpha\\user_module.py:39: OptimizerWarning: 达到最大迭代次数，但仍未达到所需精度，可能会导致某些约束不能满足\n",
      "F:\\anaconda\\envs\\ricequant\\lib\\site-packages\\rqalpha\\core\\strategy.py:92: OptimizerWarning: 候选股票池中没有 轻工制造 行业，相应约束忽略\n",
      "  self._handle_bar(self._user_context, bar_dict)\n"
     ]
    },
    {
     "name": "stdout",
     "output_type": "stream",
     "text": [
      "WARN: aa_init returned NULL, no acceleration applied.\n"
     ]
    },
    {
     "name": "stderr",
     "output_type": "stream",
     "text": [
      "F:\\anaconda\\envs\\ricequant\\lib\\site-packages\\rqalpha\\user_module.py:39: OptimizerWarning: 达到最大迭代次数，但仍未达到所需精度，可能会导致某些约束不能满足\n",
      "F:\\anaconda\\envs\\ricequant\\lib\\site-packages\\rqalpha\\core\\strategy.py:92: OptimizerWarning: 候选股票池中没有 综合 行业，相应约束忽略\n",
      "  self._handle_bar(self._user_context, bar_dict)\n",
      "F:\\anaconda\\envs\\ricequant\\lib\\site-packages\\rqalpha\\core\\strategy.py:92: OptimizerWarning: 候选股票池中没有 建筑 行业，相应约束忽略\n",
      "  self._handle_bar(self._user_context, bar_dict)\n",
      "F:\\anaconda\\envs\\ricequant\\lib\\site-packages\\rqalpha\\core\\strategy.py:92: OptimizerWarning: 候选股票池中没有 农林牧渔 行业，相应约束忽略\n",
      "  self._handle_bar(self._user_context, bar_dict)\n"
     ]
    },
    {
     "name": "stdout",
     "output_type": "stream",
     "text": [
      "WARN: aa_init returned NULL, no acceleration applied.\n"
     ]
    },
    {
     "name": "stderr",
     "output_type": "stream",
     "text": [
      "F:\\anaconda\\envs\\ricequant\\lib\\site-packages\\rqalpha\\user_module.py:39: OptimizerWarning: 达到最大迭代次数，但仍未达到所需精度，可能会导致某些约束不能满足\n",
      "F:\\anaconda\\envs\\ricequant\\lib\\site-packages\\rqalpha\\core\\strategy.py:92: OptimizerWarning: 候选股票池中没有 综合 行业，相应约束忽略\n",
      "  self._handle_bar(self._user_context, bar_dict)\n",
      "F:\\anaconda\\envs\\ricequant\\lib\\site-packages\\rqalpha\\core\\strategy.py:92: OptimizerWarning: 候选股票池中没有 农林牧渔 行业，相应约束忽略\n",
      "  self._handle_bar(self._user_context, bar_dict)\n",
      "F:\\anaconda\\envs\\ricequant\\lib\\site-packages\\rqalpha\\core\\strategy.py:92: OptimizerWarning: 候选股票池中没有 家电 行业，相应约束忽略\n",
      "  self._handle_bar(self._user_context, bar_dict)\n"
     ]
    },
    {
     "name": "stdout",
     "output_type": "stream",
     "text": [
      "WARN: aa_init returned NULL, no acceleration applied.\n"
     ]
    },
    {
     "name": "stderr",
     "output_type": "stream",
     "text": [
      "F:\\anaconda\\envs\\ricequant\\lib\\site-packages\\rqalpha\\core\\strategy.py:92: OptimizerWarning: 候选股票池中没有 建筑 行业，相应约束忽略\n",
      "  self._handle_bar(self._user_context, bar_dict)\n",
      "F:\\anaconda\\envs\\ricequant\\lib\\site-packages\\rqalpha\\core\\strategy.py:92: OptimizerWarning: 候选股票池中没有 农林牧渔 行业，相应约束忽略\n",
      "  self._handle_bar(self._user_context, bar_dict)\n",
      "F:\\anaconda\\envs\\ricequant\\lib\\site-packages\\rqalpha\\core\\strategy.py:92: OptimizerWarning: 候选股票池中没有 家电 行业，相应约束忽略\n",
      "  self._handle_bar(self._user_context, bar_dict)\n"
     ]
    },
    {
     "name": "stdout",
     "output_type": "stream",
     "text": [
      "WARN: aa_init returned NULL, no acceleration applied.\n"
     ]
    },
    {
     "name": "stderr",
     "output_type": "stream",
     "text": [
      "F:\\anaconda\\envs\\ricequant\\lib\\site-packages\\rqalpha\\user_module.py:39: OptimizerWarning: 达到最大迭代次数，但仍未达到所需精度，可能会导致某些约束不能满足\n",
      "F:\\anaconda\\envs\\ricequant\\lib\\site-packages\\rqalpha\\core\\strategy.py:92: OptimizerWarning: 候选股票池中没有 建筑 行业，相应约束忽略\n",
      "  self._handle_bar(self._user_context, bar_dict)\n",
      "F:\\anaconda\\envs\\ricequant\\lib\\site-packages\\rqalpha\\core\\strategy.py:92: OptimizerWarning: 候选股票池中没有 农林牧渔 行业，相应约束忽略\n",
      "  self._handle_bar(self._user_context, bar_dict)\n"
     ]
    },
    {
     "name": "stdout",
     "output_type": "stream",
     "text": [
      "WARN: aa_init returned NULL, no acceleration applied.\n"
     ]
    },
    {
     "name": "stderr",
     "output_type": "stream",
     "text": [
      "F:\\anaconda\\envs\\ricequant\\lib\\site-packages\\rqalpha\\user_module.py:39: OptimizerWarning: 达到最大迭代次数，但仍未达到所需精度，可能会导致某些约束不能满足\n",
      "F:\\anaconda\\envs\\ricequant\\lib\\site-packages\\rqalpha\\core\\strategy.py:92: OptimizerWarning: 候选股票池中没有 综合 行业，相应约束忽略\n",
      "  self._handle_bar(self._user_context, bar_dict)\n",
      "F:\\anaconda\\envs\\ricequant\\lib\\site-packages\\rqalpha\\core\\strategy.py:92: OptimizerWarning: 候选股票池中没有 建筑 行业，相应约束忽略\n",
      "  self._handle_bar(self._user_context, bar_dict)\n",
      "F:\\anaconda\\envs\\ricequant\\lib\\site-packages\\rqalpha\\core\\strategy.py:92: OptimizerWarning: 候选股票池中没有 农林牧渔 行业，相应约束忽略\n",
      "  self._handle_bar(self._user_context, bar_dict)\n",
      "F:\\anaconda\\envs\\ricequant\\lib\\site-packages\\rqalpha\\core\\strategy.py:92: OptimizerWarning: 候选股票池中没有 纺织服装 行业，相应约束忽略\n",
      "  self._handle_bar(self._user_context, bar_dict)\n",
      "F:\\anaconda\\envs\\ricequant\\lib\\site-packages\\rqalpha\\core\\strategy.py:92: OptimizerWarning: 候选股票池中没有 轻工制造 行业，相应约束忽略\n",
      "  self._handle_bar(self._user_context, bar_dict)\n"
     ]
    },
    {
     "name": "stdout",
     "output_type": "stream",
     "text": [
      "WARN: aa_init returned NULL, no acceleration applied.\n"
     ]
    },
    {
     "name": "stderr",
     "output_type": "stream",
     "text": [
      "F:\\anaconda\\envs\\ricequant\\lib\\site-packages\\rqalpha\\user_module.py:39: OptimizerWarning: 达到最大迭代次数，但仍未达到所需精度，可能会导致某些约束不能满足\n",
      "F:\\anaconda\\envs\\ricequant\\lib\\site-packages\\rqalpha\\core\\strategy.py:92: OptimizerWarning: 候选股票池中没有 农林牧渔 行业，相应约束忽略\n",
      "  self._handle_bar(self._user_context, bar_dict)\n",
      "F:\\anaconda\\envs\\ricequant\\lib\\site-packages\\rqalpha\\core\\strategy.py:92: OptimizerWarning: 候选股票池中没有 轻工制造 行业，相应约束忽略\n",
      "  self._handle_bar(self._user_context, bar_dict)\n"
     ]
    },
    {
     "name": "stdout",
     "output_type": "stream",
     "text": [
      "WARN: aa_init returned NULL, no acceleration applied.\n"
     ]
    },
    {
     "name": "stderr",
     "output_type": "stream",
     "text": [
      "F:\\anaconda\\envs\\ricequant\\lib\\site-packages\\rqalpha\\user_module.py:39: OptimizerWarning: 达到最大迭代次数，但仍未达到所需精度，可能会导致某些约束不能满足\n",
      "F:\\anaconda\\envs\\ricequant\\lib\\site-packages\\rqalpha\\core\\strategy.py:92: OptimizerWarning: 候选股票池中没有 农林牧渔 行业，相应约束忽略\n",
      "  self._handle_bar(self._user_context, bar_dict)\n",
      "F:\\anaconda\\envs\\ricequant\\lib\\site-packages\\rqalpha\\core\\strategy.py:92: OptimizerWarning: 候选股票池中没有 非银行金融 行业，相应约束忽略\n",
      "  self._handle_bar(self._user_context, bar_dict)\n",
      "F:\\anaconda\\envs\\ricequant\\lib\\site-packages\\rqalpha\\core\\strategy.py:92: OptimizerWarning: 候选股票池中没有 家电 行业，相应约束忽略\n",
      "  self._handle_bar(self._user_context, bar_dict)\n",
      "F:\\anaconda\\envs\\ricequant\\lib\\site-packages\\rqalpha\\core\\strategy.py:92: OptimizerWarning: 候选股票池中没有 轻工制造 行业，相应约束忽略\n",
      "  self._handle_bar(self._user_context, bar_dict)\n"
     ]
    },
    {
     "name": "stdout",
     "output_type": "stream",
     "text": [
      "WARN: aa_init returned NULL, no acceleration applied.\n",
      "WARN: aa_init returned NULL, no acceleration applied.\n"
     ]
    },
    {
     "name": "stderr",
     "output_type": "stream",
     "text": [
      "F:\\anaconda\\envs\\ricequant\\lib\\site-packages\\rqalpha\\user_module.py:39: OptimizerWarning: 约束无法满足，放弃所有软约束重试\n",
      "F:\\anaconda\\envs\\ricequant\\lib\\site-packages\\rqalpha\\core\\strategy.py:92: OptimizerWarning: 候选股票池中没有 农林牧渔 行业，相应约束忽略\n",
      "  self._handle_bar(self._user_context, bar_dict)\n",
      "F:\\anaconda\\envs\\ricequant\\lib\\site-packages\\rqalpha\\core\\strategy.py:92: OptimizerWarning: 候选股票池中没有 轻工制造 行业，相应约束忽略\n",
      "  self._handle_bar(self._user_context, bar_dict)\n"
     ]
    },
    {
     "name": "stdout",
     "output_type": "stream",
     "text": [
      "WARN: aa_init returned NULL, no acceleration applied.\n",
      "WARN: aa_init returned NULL, no acceleration applied.\n"
     ]
    },
    {
     "name": "stderr",
     "output_type": "stream",
     "text": [
      "F:\\anaconda\\envs\\ricequant\\lib\\site-packages\\rqalpha\\user_module.py:39: OptimizerWarning: 约束无法满足，放弃所有软约束重试\n",
      "F:\\anaconda\\envs\\ricequant\\lib\\site-packages\\rqalpha\\core\\strategy.py:92: OptimizerWarning: 候选股票池中没有 电力设备 行业，相应约束忽略\n",
      "  self._handle_bar(self._user_context, bar_dict)\n",
      "F:\\anaconda\\envs\\ricequant\\lib\\site-packages\\rqalpha\\core\\strategy.py:92: OptimizerWarning: 候选股票池中没有 电子元器件 行业，相应约束忽略\n",
      "  self._handle_bar(self._user_context, bar_dict)\n",
      "F:\\anaconda\\envs\\ricequant\\lib\\site-packages\\rqalpha\\core\\strategy.py:92: OptimizerWarning: 候选股票池中没有 轻工制造 行业，相应约束忽略\n",
      "  self._handle_bar(self._user_context, bar_dict)\n",
      "F:\\anaconda\\envs\\ricequant\\lib\\site-packages\\rqalpha\\core\\strategy.py:92: OptimizerWarning: 候选股票池中没有 医药 行业，相应约束忽略\n",
      "  self._handle_bar(self._user_context, bar_dict)\n"
     ]
    },
    {
     "name": "stdout",
     "output_type": "stream",
     "text": [
      "WARN: aa_init returned NULL, no acceleration applied.\n",
      "WARN: aa_init returned NULL, no acceleration applied.\n"
     ]
    },
    {
     "name": "stderr",
     "output_type": "stream",
     "text": [
      "F:\\anaconda\\envs\\ricequant\\lib\\site-packages\\rqalpha\\user_module.py:39: OptimizerWarning: 约束无法满足，放弃所有软约束重试\n",
      "F:\\anaconda\\envs\\ricequant\\lib\\site-packages\\rqalpha\\core\\strategy.py:92: OptimizerWarning: 候选股票池中没有 农林牧渔 行业，相应约束忽略\n",
      "  self._handle_bar(self._user_context, bar_dict)\n",
      "F:\\anaconda\\envs\\ricequant\\lib\\site-packages\\rqalpha\\core\\strategy.py:92: OptimizerWarning: 候选股票池中没有 电力设备 行业，相应约束忽略\n",
      "  self._handle_bar(self._user_context, bar_dict)\n",
      "F:\\anaconda\\envs\\ricequant\\lib\\site-packages\\rqalpha\\core\\strategy.py:92: OptimizerWarning: 候选股票池中没有 轻工制造 行业，相应约束忽略\n",
      "  self._handle_bar(self._user_context, bar_dict)\n",
      "F:\\anaconda\\envs\\ricequant\\lib\\site-packages\\rqalpha\\core\\strategy.py:92: OptimizerWarning: 候选股票池中没有 医药 行业，相应约束忽略\n",
      "  self._handle_bar(self._user_context, bar_dict)\n"
     ]
    },
    {
     "name": "stdout",
     "output_type": "stream",
     "text": [
      "WARN: aa_init returned NULL, no acceleration applied.\n",
      "WARN: aa_init returned NULL, no acceleration applied.\n"
     ]
    },
    {
     "name": "stderr",
     "output_type": "stream",
     "text": [
      "F:\\anaconda\\envs\\ricequant\\lib\\site-packages\\rqalpha\\user_module.py:39: OptimizerWarning: 约束无法满足，放弃所有软约束重试\n",
      "F:\\anaconda\\envs\\ricequant\\lib\\site-packages\\rqalpha\\core\\strategy.py:92: OptimizerWarning: 候选股票池中没有 电力设备 行业，相应约束忽略\n",
      "  self._handle_bar(self._user_context, bar_dict)\n",
      "F:\\anaconda\\envs\\ricequant\\lib\\site-packages\\rqalpha\\core\\strategy.py:92: OptimizerWarning: 候选股票池中没有 轻工制造 行业，相应约束忽略\n",
      "  self._handle_bar(self._user_context, bar_dict)\n",
      "F:\\anaconda\\envs\\ricequant\\lib\\site-packages\\rqalpha\\core\\strategy.py:92: OptimizerWarning: 候选股票池中没有 医药 行业，相应约束忽略\n",
      "  self._handle_bar(self._user_context, bar_dict)\n"
     ]
    },
    {
     "name": "stdout",
     "output_type": "stream",
     "text": [
      "WARN: aa_init returned NULL, no acceleration applied.\n",
      "WARN: aa_init returned NULL, no acceleration applied.\n"
     ]
    },
    {
     "name": "stderr",
     "output_type": "stream",
     "text": [
      "F:\\anaconda\\envs\\ricequant\\lib\\site-packages\\rqalpha\\user_module.py:39: OptimizerWarning: 约束无法满足，放弃所有软约束重试\n",
      "F:\\anaconda\\envs\\ricequant\\lib\\site-packages\\rqalpha\\core\\strategy.py:92: OptimizerWarning: 候选股票池中没有 综合 行业，相应约束忽略\n",
      "  self._handle_bar(self._user_context, bar_dict)\n",
      "F:\\anaconda\\envs\\ricequant\\lib\\site-packages\\rqalpha\\core\\strategy.py:92: OptimizerWarning: 候选股票池中没有 农林牧渔 行业，相应约束忽略\n",
      "  self._handle_bar(self._user_context, bar_dict)\n",
      "F:\\anaconda\\envs\\ricequant\\lib\\site-packages\\rqalpha\\core\\strategy.py:92: OptimizerWarning: 候选股票池中没有 轻工制造 行业，相应约束忽略\n",
      "  self._handle_bar(self._user_context, bar_dict)\n"
     ]
    },
    {
     "name": "stdout",
     "output_type": "stream",
     "text": [
      "WARN: aa_init returned NULL, no acceleration applied.\n",
      "WARN: aa_init returned NULL, no acceleration applied.\n"
     ]
    },
    {
     "name": "stderr",
     "output_type": "stream",
     "text": [
      "F:\\anaconda\\envs\\ricequant\\lib\\site-packages\\rqalpha\\user_module.py:39: OptimizerWarning: 约束无法满足，放弃所有软约束重试\n",
      "F:\\anaconda\\envs\\ricequant\\lib\\site-packages\\rqalpha\\core\\strategy.py:92: OptimizerWarning: 候选股票池中没有 石油石化 行业，相应约束忽略\n",
      "  self._handle_bar(self._user_context, bar_dict)\n",
      "F:\\anaconda\\envs\\ricequant\\lib\\site-packages\\rqalpha\\core\\strategy.py:92: OptimizerWarning: 候选股票池中没有 农林牧渔 行业，相应约束忽略\n",
      "  self._handle_bar(self._user_context, bar_dict)\n",
      "F:\\anaconda\\envs\\ricequant\\lib\\site-packages\\rqalpha\\core\\strategy.py:92: OptimizerWarning: 候选股票池中没有 基础化工 行业，相应约束忽略\n",
      "  self._handle_bar(self._user_context, bar_dict)\n",
      "F:\\anaconda\\envs\\ricequant\\lib\\site-packages\\rqalpha\\core\\strategy.py:92: OptimizerWarning: 候选股票池中没有 轻工制造 行业，相应约束忽略\n",
      "  self._handle_bar(self._user_context, bar_dict)\n"
     ]
    },
    {
     "name": "stdout",
     "output_type": "stream",
     "text": [
      "WARN: aa_init returned NULL, no acceleration applied.\n",
      "WARN: aa_init returned NULL, no acceleration applied.\n"
     ]
    },
    {
     "name": "stderr",
     "output_type": "stream",
     "text": [
      "F:\\anaconda\\envs\\ricequant\\lib\\site-packages\\rqalpha\\user_module.py:39: OptimizerWarning: 约束无法满足，放弃所有软约束重试\n",
      "F:\\anaconda\\envs\\ricequant\\lib\\site-packages\\rqalpha\\core\\strategy.py:92: OptimizerWarning: 候选股票池中没有 农林牧渔 行业，相应约束忽略\n",
      "  self._handle_bar(self._user_context, bar_dict)\n",
      "F:\\anaconda\\envs\\ricequant\\lib\\site-packages\\rqalpha\\core\\strategy.py:92: OptimizerWarning: 候选股票池中没有 基础化工 行业，相应约束忽略\n",
      "  self._handle_bar(self._user_context, bar_dict)\n",
      "F:\\anaconda\\envs\\ricequant\\lib\\site-packages\\rqalpha\\core\\strategy.py:92: OptimizerWarning: 候选股票池中没有 轻工制造 行业，相应约束忽略\n",
      "  self._handle_bar(self._user_context, bar_dict)\n"
     ]
    },
    {
     "name": "stdout",
     "output_type": "stream",
     "text": [
      "WARN: aa_init returned NULL, no acceleration applied.\n",
      "WARN: aa_init returned NULL, no acceleration applied.\n"
     ]
    },
    {
     "name": "stderr",
     "output_type": "stream",
     "text": [
      "F:\\anaconda\\envs\\ricequant\\lib\\site-packages\\rqalpha\\user_module.py:39: OptimizerWarning: 约束无法满足，放弃所有软约束重试\n",
      "F:\\anaconda\\envs\\ricequant\\lib\\site-packages\\rqalpha\\core\\strategy.py:92: OptimizerWarning: 候选股票池中没有 石油石化 行业，相应约束忽略\n",
      "  self._handle_bar(self._user_context, bar_dict)\n",
      "F:\\anaconda\\envs\\ricequant\\lib\\site-packages\\rqalpha\\core\\strategy.py:92: OptimizerWarning: 候选股票池中没有 农林牧渔 行业，相应约束忽略\n",
      "  self._handle_bar(self._user_context, bar_dict)\n",
      "F:\\anaconda\\envs\\ricequant\\lib\\site-packages\\rqalpha\\core\\strategy.py:92: OptimizerWarning: 候选股票池中没有 商贸零售 行业，相应约束忽略\n",
      "  self._handle_bar(self._user_context, bar_dict)\n",
      "F:\\anaconda\\envs\\ricequant\\lib\\site-packages\\rqalpha\\core\\strategy.py:92: OptimizerWarning: 候选股票池中没有 轻工制造 行业，相应约束忽略\n",
      "  self._handle_bar(self._user_context, bar_dict)\n"
     ]
    },
    {
     "name": "stdout",
     "output_type": "stream",
     "text": [
      "WARN: aa_init returned NULL, no acceleration applied.\n"
     ]
    },
    {
     "name": "stderr",
     "output_type": "stream",
     "text": [
      "F:\\anaconda\\envs\\ricequant\\lib\\site-packages\\rqalpha\\user_module.py:39: OptimizerWarning: 达到最大迭代次数，但仍未达到所需精度，可能会导致某些约束不能满足\n",
      "F:\\anaconda\\envs\\ricequant\\lib\\site-packages\\rqalpha\\core\\strategy.py:92: OptimizerWarning: 候选股票池中没有 农林牧渔 行业，相应约束忽略\n",
      "  self._handle_bar(self._user_context, bar_dict)\n",
      "F:\\anaconda\\envs\\ricequant\\lib\\site-packages\\rqalpha\\core\\strategy.py:92: OptimizerWarning: 候选股票池中没有 商贸零售 行业，相应约束忽略\n",
      "  self._handle_bar(self._user_context, bar_dict)\n",
      "F:\\anaconda\\envs\\ricequant\\lib\\site-packages\\rqalpha\\core\\strategy.py:92: OptimizerWarning: 候选股票池中没有 轻工制造 行业，相应约束忽略\n",
      "  self._handle_bar(self._user_context, bar_dict)\n"
     ]
    },
    {
     "name": "stdout",
     "output_type": "stream",
     "text": [
      "WARN: aa_init returned NULL, no acceleration applied.\n"
     ]
    },
    {
     "name": "stderr",
     "output_type": "stream",
     "text": [
      "F:\\anaconda\\envs\\ricequant\\lib\\site-packages\\rqalpha\\core\\strategy.py:92: OptimizerWarning: 候选股票池中没有 石油石化 行业，相应约束忽略\n",
      "  self._handle_bar(self._user_context, bar_dict)\n",
      "F:\\anaconda\\envs\\ricequant\\lib\\site-packages\\rqalpha\\core\\strategy.py:92: OptimizerWarning: 候选股票池中没有 农林牧渔 行业，相应约束忽略\n",
      "  self._handle_bar(self._user_context, bar_dict)\n",
      "F:\\anaconda\\envs\\ricequant\\lib\\site-packages\\rqalpha\\core\\strategy.py:92: OptimizerWarning: 候选股票池中没有 商贸零售 行业，相应约束忽略\n",
      "  self._handle_bar(self._user_context, bar_dict)\n",
      "F:\\anaconda\\envs\\ricequant\\lib\\site-packages\\rqalpha\\core\\strategy.py:92: OptimizerWarning: 候选股票池中没有 轻工制造 行业，相应约束忽略\n",
      "  self._handle_bar(self._user_context, bar_dict)\n",
      "F:\\anaconda\\envs\\ricequant\\lib\\site-packages\\rqalpha\\core\\strategy.py:92: OptimizerWarning: 候选股票池中没有 医药 行业，相应约束忽略\n",
      "  self._handle_bar(self._user_context, bar_dict)\n"
     ]
    },
    {
     "name": "stdout",
     "output_type": "stream",
     "text": [
      "WARN: aa_init returned NULL, no acceleration applied.\n"
     ]
    },
    {
     "name": "stderr",
     "output_type": "stream",
     "text": [
      "F:\\anaconda\\envs\\ricequant\\lib\\site-packages\\rqalpha\\user_module.py:39: OptimizerWarning: 达到最大迭代次数，但仍未达到所需精度，可能会导致某些约束不能满足\n",
      "F:\\anaconda\\envs\\ricequant\\lib\\site-packages\\rqalpha\\core\\strategy.py:92: OptimizerWarning: 候选股票池中没有 商贸零售 行业，相应约束忽略\n",
      "  self._handle_bar(self._user_context, bar_dict)\n",
      "F:\\anaconda\\envs\\ricequant\\lib\\site-packages\\rqalpha\\core\\strategy.py:92: OptimizerWarning: 候选股票池中没有 轻工制造 行业，相应约束忽略\n",
      "  self._handle_bar(self._user_context, bar_dict)\n",
      "F:\\anaconda\\envs\\ricequant\\lib\\site-packages\\rqalpha\\core\\strategy.py:92: OptimizerWarning: 候选股票池中没有 医药 行业，相应约束忽略\n",
      "  self._handle_bar(self._user_context, bar_dict)\n",
      "F:\\anaconda\\envs\\ricequant\\lib\\site-packages\\rqalpha\\core\\strategy.py:92: OptimizerWarning: 候选股票池中没有 传媒 行业，相应约束忽略\n",
      "  self._handle_bar(self._user_context, bar_dict)\n"
     ]
    },
    {
     "name": "stdout",
     "output_type": "stream",
     "text": [
      "WARN: aa_init returned NULL, no acceleration applied.\n",
      "WARN: aa_init returned NULL, no acceleration applied.\n"
     ]
    },
    {
     "name": "stderr",
     "output_type": "stream",
     "text": [
      "F:\\anaconda\\envs\\ricequant\\lib\\site-packages\\rqalpha\\user_module.py:39: OptimizerWarning: 约束无法满足，放弃所有软约束重试\n",
      "F:\\anaconda\\envs\\ricequant\\lib\\site-packages\\rqalpha\\core\\strategy.py:92: OptimizerWarning: 候选股票池中没有 建筑 行业，相应约束忽略\n",
      "  self._handle_bar(self._user_context, bar_dict)\n",
      "F:\\anaconda\\envs\\ricequant\\lib\\site-packages\\rqalpha\\core\\strategy.py:92: OptimizerWarning: 候选股票池中没有 商贸零售 行业，相应约束忽略\n",
      "  self._handle_bar(self._user_context, bar_dict)\n",
      "F:\\anaconda\\envs\\ricequant\\lib\\site-packages\\rqalpha\\core\\strategy.py:92: OptimizerWarning: 候选股票池中没有 轻工制造 行业，相应约束忽略\n",
      "  self._handle_bar(self._user_context, bar_dict)\n",
      "F:\\anaconda\\envs\\ricequant\\lib\\site-packages\\rqalpha\\core\\strategy.py:92: OptimizerWarning: 候选股票池中没有 传媒 行业，相应约束忽略\n",
      "  self._handle_bar(self._user_context, bar_dict)\n"
     ]
    },
    {
     "name": "stdout",
     "output_type": "stream",
     "text": [
      "WARN: aa_init returned NULL, no acceleration applied.\n"
     ]
    },
    {
     "name": "stderr",
     "output_type": "stream",
     "text": [
      "F:\\anaconda\\envs\\ricequant\\lib\\site-packages\\rqalpha\\user_module.py:39: OptimizerWarning: 达到最大迭代次数，但仍未达到所需精度，可能会导致某些约束不能满足\n",
      "F:\\anaconda\\envs\\ricequant\\lib\\site-packages\\rqalpha\\core\\strategy.py:92: OptimizerWarning: 候选股票池中没有 非银行金融 行业，相应约束忽略\n",
      "  self._handle_bar(self._user_context, bar_dict)\n",
      "F:\\anaconda\\envs\\ricequant\\lib\\site-packages\\rqalpha\\core\\strategy.py:92: OptimizerWarning: 候选股票池中没有 商贸零售 行业，相应约束忽略\n",
      "  self._handle_bar(self._user_context, bar_dict)\n"
     ]
    },
    {
     "name": "stdout",
     "output_type": "stream",
     "text": [
      "WARN: aa_init returned NULL, no acceleration applied.\n"
     ]
    },
    {
     "name": "stderr",
     "output_type": "stream",
     "text": [
      "F:\\anaconda\\envs\\ricequant\\lib\\site-packages\\rqalpha\\user_module.py:39: OptimizerWarning: 达到最大迭代次数，但仍未达到所需精度，可能会导致某些约束不能满足\n",
      "F:\\anaconda\\envs\\ricequant\\lib\\site-packages\\rqalpha\\core\\strategy.py:92: OptimizerWarning: 候选股票池中没有 石油石化 行业，相应约束忽略\n",
      "  self._handle_bar(self._user_context, bar_dict)\n",
      "F:\\anaconda\\envs\\ricequant\\lib\\site-packages\\rqalpha\\core\\strategy.py:92: OptimizerWarning: 候选股票池中没有 综合 行业，相应约束忽略\n",
      "  self._handle_bar(self._user_context, bar_dict)\n",
      "F:\\anaconda\\envs\\ricequant\\lib\\site-packages\\rqalpha\\core\\strategy.py:92: OptimizerWarning: 候选股票池中没有 电力设备 行业，相应约束忽略\n",
      "  self._handle_bar(self._user_context, bar_dict)\n",
      "F:\\anaconda\\envs\\ricequant\\lib\\site-packages\\rqalpha\\core\\strategy.py:92: OptimizerWarning: 候选股票池中没有 商贸零售 行业，相应约束忽略\n",
      "  self._handle_bar(self._user_context, bar_dict)\n"
     ]
    },
    {
     "name": "stdout",
     "output_type": "stream",
     "text": [
      "WARN: aa_init returned NULL, no acceleration applied.\n"
     ]
    },
    {
     "name": "stderr",
     "output_type": "stream",
     "text": [
      "F:\\anaconda\\envs\\ricequant\\lib\\site-packages\\rqalpha\\user_module.py:39: OptimizerWarning: 达到最大迭代次数，但仍未达到所需精度，可能会导致某些约束不能满足\n",
      "F:\\anaconda\\envs\\ricequant\\lib\\site-packages\\rqalpha\\core\\strategy.py:92: OptimizerWarning: 候选股票池中没有 石油石化 行业，相应约束忽略\n",
      "  self._handle_bar(self._user_context, bar_dict)\n",
      "F:\\anaconda\\envs\\ricequant\\lib\\site-packages\\rqalpha\\core\\strategy.py:92: OptimizerWarning: 候选股票池中没有 商贸零售 行业，相应约束忽略\n",
      "  self._handle_bar(self._user_context, bar_dict)\n"
     ]
    },
    {
     "name": "stdout",
     "output_type": "stream",
     "text": [
      "WARN: aa_init returned NULL, no acceleration applied.\n"
     ]
    },
    {
     "name": "stderr",
     "output_type": "stream",
     "text": [
      "F:\\anaconda\\envs\\ricequant\\lib\\site-packages\\rqalpha\\user_module.py:39: OptimizerWarning: 达到最大迭代次数，但仍未达到所需精度，可能会导致某些约束不能满足\n",
      "F:\\anaconda\\envs\\ricequant\\lib\\site-packages\\rqalpha\\core\\strategy.py:92: OptimizerWarning: 候选股票池中没有 石油石化 行业，相应约束忽略\n",
      "  self._handle_bar(self._user_context, bar_dict)\n",
      "F:\\anaconda\\envs\\ricequant\\lib\\site-packages\\rqalpha\\core\\strategy.py:92: OptimizerWarning: 候选股票池中没有 商贸零售 行业，相应约束忽略\n",
      "  self._handle_bar(self._user_context, bar_dict)\n",
      "F:\\anaconda\\envs\\ricequant\\lib\\site-packages\\rqalpha\\core\\strategy.py:92: OptimizerWarning: 候选股票池中没有 纺织服装 行业，相应约束忽略\n",
      "  self._handle_bar(self._user_context, bar_dict)\n"
     ]
    },
    {
     "name": "stdout",
     "output_type": "stream",
     "text": [
      "WARN: aa_init returned NULL, no acceleration applied.\n",
      "WARN: aa_init returned NULL, no acceleration applied.\n"
     ]
    },
    {
     "name": "stderr",
     "output_type": "stream",
     "text": [
      "F:\\anaconda\\envs\\ricequant\\lib\\site-packages\\rqalpha\\user_module.py:39: OptimizerWarning: 约束无法满足，放弃所有软约束重试\n",
      "F:\\anaconda\\envs\\ricequant\\lib\\site-packages\\rqalpha\\core\\strategy.py:92: OptimizerWarning: 候选股票池中没有 石油石化 行业，相应约束忽略\n",
      "  self._handle_bar(self._user_context, bar_dict)\n",
      "F:\\anaconda\\envs\\ricequant\\lib\\site-packages\\rqalpha\\core\\strategy.py:92: OptimizerWarning: 候选股票池中没有 综合 行业，相应约束忽略\n",
      "  self._handle_bar(self._user_context, bar_dict)\n",
      "F:\\anaconda\\envs\\ricequant\\lib\\site-packages\\rqalpha\\core\\strategy.py:92: OptimizerWarning: 候选股票池中没有 电力设备 行业，相应约束忽略\n",
      "  self._handle_bar(self._user_context, bar_dict)\n",
      "F:\\anaconda\\envs\\ricequant\\lib\\site-packages\\rqalpha\\core\\strategy.py:92: OptimizerWarning: 候选股票池中没有 通信 行业，相应约束忽略\n",
      "  self._handle_bar(self._user_context, bar_dict)\n",
      "F:\\anaconda\\envs\\ricequant\\lib\\site-packages\\rqalpha\\core\\strategy.py:92: OptimizerWarning: 候选股票池中没有 商贸零售 行业，相应约束忽略\n",
      "  self._handle_bar(self._user_context, bar_dict)\n",
      "F:\\anaconda\\envs\\ricequant\\lib\\site-packages\\rqalpha\\core\\strategy.py:92: OptimizerWarning: 候选股票池中没有 纺织服装 行业，相应约束忽略\n",
      "  self._handle_bar(self._user_context, bar_dict)\n"
     ]
    },
    {
     "name": "stdout",
     "output_type": "stream",
     "text": [
      "WARN: aa_init returned NULL, no acceleration applied.\n",
      "WARN: aa_init returned NULL, no acceleration applied.\n"
     ]
    },
    {
     "name": "stderr",
     "output_type": "stream",
     "text": [
      "F:\\anaconda\\envs\\ricequant\\lib\\site-packages\\rqalpha\\user_module.py:39: OptimizerWarning: 约束无法满足，放弃所有软约束重试\n",
      "F:\\anaconda\\envs\\ricequant\\lib\\site-packages\\rqalpha\\mod\\rqalpha_mod_sys_analyser\\plot.py:188: UserWarning: FixedFormatter should only be used together with FixedLocator\n",
      "  ax.set_yticklabels(['{:3.2f}%'.format(x * 100) for x in vals])\n"
     ]
    },
    {
     "data": {
      "image/png": "[encoded data removed]",
      "text/plain": [
       "<Figure size 1296x432 with 3 Axes>"
      ]
     },
     "metadata": {},
     "output_type": "display_data"
    }
   ],
   "source": [
    "backtest_results = rqalpha_plus.run_func(init=init, handle_bar=handle_bar, config=config)"
   ]
  },
  {
   "cell_type": "code",
   "execution_count": null,
   "metadata": {},
   "outputs": [],
   "source": []
  },
  {
   "cell_type": "code",
   "execution_count": null,
   "metadata": {},
   "outputs": [],
   "source": []
  }
 ],
 "metadata": {
  "kernelspec": {
   "display_name": "Python [conda env:ricequant]",
   "language": "python",
   "name": "conda-env-ricequant-py"
  },
  "language_info": {
   "codemirror_mode": {
    "name": "ipython",
    "version": 3
   },
   "file_extension": ".py",
   "mimetype": "text/x-python",
   "name": "python",
   "nbconvert_exporter": "python",
   "pygments_lexer": "ipython3",
   "version": "3.7.7"
  },
  "toc": {
   "base_numbering": 1,
   "nav_menu": {},
   "number_sections": true,
   "sideBar": true,
   "skip_h1_title": false,
   "title_cell": "Table of Contents",
   "title_sidebar": "Contents",
   "toc_cell": false,
   "toc_position": {},
   "toc_section_display": true,
   "toc_window_display": false
  },
  "varInspector": {
   "cols": {
    "lenName": 16,
    "lenType": 16,
    "lenVar": 40
   },
   "kernels_config": {
    "python": {
     "delete_cmd_postfix": "",
     "delete_cmd_prefix": "del ",
     "library": "var_list.py",
     "varRefreshCmd": "print(var_dic_list())"
    },
    "r": {
     "delete_cmd_postfix": ") ",
     "delete_cmd_prefix": "rm(",
     "library": "var_list.r",
     "varRefreshCmd": "cat(var_dic_list()) "
    }
   },
   "types_to_exclude": [
    "module",
    "function",
    "builtin_function_or_method",
    "instance",
    "_Feature"
   ],
   "window_display": false
  }
 },
 "nbformat": 4,
 "nbformat_minor": 4
}

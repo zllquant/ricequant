{
 "cells": [
  {
   "cell_type": "code",
   "execution_count": null,
   "metadata": {},
   "outputs": [],
   "source": []
  },
  {
   "cell_type": "code",
   "execution_count": null,
   "metadata": {},
   "outputs": [],
   "source": [
    "def get_target_portfolio(..., **optimization_args):\n",
    "        raw_bnds = optimization_args.get('bnds', None)\n",
    "        bnds = _parse_bnds_setting(universe, date, benchmark, raw_bnds)\n",
    "        rqo.portfolio_optimize(..., bnds, **optimization_args)\n",
    "        \n",
    "def _parse_bnds_setting(universe, date, benchmark, raw_bnds):\n",
    "    # 当前版本的rqoptimizer暂未支持相对基准设置个股权重\n",
    "    # 对此情形需动态生成权重设定\n",
    "    if raw_bnds is None:\n",
    "        return None\n",
    "    mode, b = raw_bnds\n",
    "    if mode == 'relative':\n",
    "        index_weights = rqd.index_weights(benchmark, date)\n",
    "        # 基于index weights 加减\n",
    "        \n",
    "        # 处理 '*' 的情形\n",
    "        ...\n",
    "        \n",
    "        # 处理 非'*'的情形\n",
    "        ...\n",
    "        \n",
    "        \n",
    "configs = {\n",
    "    ......\n",
    "    \n",
    "    'optimization_args': ['relative', {'*': -0.03, 0.03}]\n",
    "    \n",
    "}"
   ]
  }
 ],
 "metadata": {
  "kernelspec": {
   "display_name": "Python [conda env:ricequant]",
   "language": "python",
   "name": "conda-env-ricequant-py"
  },
  "language_info": {
   "codemirror_mode": {
    "name": "ipython",
    "version": 3
   },
   "file_extension": ".py",
   "mimetype": "text/x-python",
   "name": "python",
   "nbconvert_exporter": "python",
   "pygments_lexer": "ipython3",
   "version": "3.7.7"
  },
  "toc": {
   "base_numbering": 1,
   "nav_menu": {},
   "number_sections": true,
   "sideBar": true,
   "skip_h1_title": false,
   "title_cell": "Table of Contents",
   "title_sidebar": "Contents",
   "toc_cell": false,
   "toc_position": {},
   "toc_section_display": true,
   "toc_window_display": false
  },
  "varInspector": {
   "cols": {
    "lenName": 16,
    "lenType": 16,
    "lenVar": 40
   },
   "kernels_config": {
    "python": {
     "delete_cmd_postfix": "",
     "delete_cmd_prefix": "del ",
     "library": "var_list.py",
     "varRefreshCmd": "print(var_dic_list())"
    },
    "r": {
     "delete_cmd_postfix": ") ",
     "delete_cmd_prefix": "rm(",
     "library": "var_list.r",
     "varRefreshCmd": "cat(var_dic_list()) "
    }
   },
   "types_to_exclude": [
    "module",
    "function",
    "builtin_function_or_method",
    "instance",
    "_Feature"
   ],
   "window_display": false
  }
 },
 "nbformat": 4,
 "nbformat_minor": 2
}

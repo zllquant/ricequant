{
 "cells": [
  {
   "cell_type": "code",
   "execution_count": null,
   "metadata": {},
   "outputs": [],
   "source": [
    "import rqalpha as rqa\n",
    "import rqalpha_plus\n",
    "import rqdatac as rqd\n",
    "import rqoptimizer as rqo\n",
    "import datetime\n",
    "import pickle\n",
    "import os\n",
    "import pprint\n",
    "rqd.init()"
   ]
  },
  {
   "cell_type": "code",
   "execution_count": null,
   "metadata": {},
   "outputs": [],
   "source": [
    "path = r'D:\\jpnb\\ricequant\\ricequant实习项目\\ricequant\\backtest-results\\shenwan-28-industry'\n",
    "\n",
    "dirlist = [i for i in os.listdir(path) if os.path.splitext(i)[-1]=='.INDX']\n",
    "\n",
    "for dir_ in dirlist[4:]:\n",
    "    path1 = path+'\\\\'+dir_\n",
    "    for pkl in [i for i in os.listdir(path1) if i in ['pb_ratio_ttm.pkl','pe_ratio_ttm.pkl','ps_ratio_ttm.pkl']][2:]:\n",
    "        path2 = path1+'\\\\'+pkl\n",
    "        with open(path2,'rb') as pf:\n",
    "            result = pickle.load(pf)\n",
    "        config,backtest = result[0],result[1]\n",
    "        summary = backtest['sys_analyser']['trades']\n",
    "        print(config)\n",
    "        print()\n",
    "        print(summary)\n",
    "        break\n",
    "    break"
   ]
  },
  {
   "cell_type": "code",
   "execution_count": null,
   "metadata": {},
   "outputs": [],
   "source": []
  },
  {
   "cell_type": "code",
   "execution_count": null,
   "metadata": {},
   "outputs": [],
   "source": []
  }
 ],
 "metadata": {
  "kernelspec": {
   "display_name": "Python [conda env:py27]",
   "language": "python",
   "name": "conda-env-py27-py"
  },
  "language_info": {
   "codemirror_mode": {
    "name": "ipython",
    "version": 3
   },
   "file_extension": ".py",
   "mimetype": "text/x-python",
   "name": "python",
   "nbconvert_exporter": "python",
   "pygments_lexer": "ipython3",
   "version": "3.7.3"
  },
  "toc": {
   "base_numbering": 1,
   "nav_menu": {},
   "number_sections": true,
   "sideBar": true,
   "skip_h1_title": false,
   "title_cell": "Table of Contents",
   "title_sidebar": "Contents",
   "toc_cell": false,
   "toc_position": {},
   "toc_section_display": true,
   "toc_window_display": false
  },
  "varInspector": {
   "cols": {
    "lenName": 16,
    "lenType": 16,
    "lenVar": 40
   },
   "kernels_config": {
    "python": {
     "delete_cmd_postfix": "",
     "delete_cmd_prefix": "del ",
     "library": "var_list.py",
     "varRefreshCmd": "print(var_dic_list())"
    },
    "r": {
     "delete_cmd_postfix": ") ",
     "delete_cmd_prefix": "rm(",
     "library": "var_list.r",
     "varRefreshCmd": "cat(var_dic_list()) "
    }
   },
   "types_to_exclude": [
    "module",
    "function",
    "builtin_function_or_method",
    "instance",
    "_Feature"
   ],
   "window_display": false
  }
 },
 "nbformat": 4,
 "nbformat_minor": 2
}

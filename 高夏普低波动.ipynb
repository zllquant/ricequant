{
 "cells": [
  {
   "cell_type": "code",
   "execution_count": 7,
   "metadata": {},
   "outputs": [],
   "source": [
    "import rqdatac as rqd\n",
    "import utils"
   ]
  },
  {
   "cell_type": "code",
   "execution_count": 2,
   "metadata": {},
   "outputs": [],
   "source": [
    "rqd.init()"
   ]
  },
  {
   "cell_type": "code",
   "execution_count": 8,
   "metadata": {},
   "outputs": [],
   "source": [
    "universe = utils.get_universe('20201101')"
   ]
  },
  {
   "cell_type": "code",
   "execution_count": 13,
   "metadata": {},
   "outputs": [],
   "source": [
    "universe = [i for i in universe if i[:3]!='688']"
   ]
  },
  {
   "cell_type": "code",
   "execution_count": 14,
   "metadata": {},
   "outputs": [],
   "source": [
    "data = rqd.get_price(universe,20190101,20201101,fields=['close'],expect_df=True)"
   ]
  },
  {
   "cell_type": "code",
   "execution_count": 52,
   "metadata": {},
   "outputs": [],
   "source": [
    "ret = data.groupby(level=0).apply(lambda x:(x.iloc[-1]/x.iloc[0]-1)/len(x)*252 if len(x)>252 else None)"
   ]
  },
  {
   "cell_type": "code",
   "execution_count": 53,
   "metadata": {},
   "outputs": [],
   "source": [
    "codes = ret.sort_values('close',ascending=False)[:100].index.tolist()"
   ]
  },
  {
   "cell_type": "code",
   "execution_count": 54,
   "metadata": {},
   "outputs": [],
   "source": [
    "std = data.loc[codes].groupby(level=0).apply(lambda x:x.pct_change().std()).sort_values('close',ascending=True)"
   ]
  },
  {
   "cell_type": "code",
   "execution_count": 60,
   "metadata": {},
   "outputs": [],
   "source": [
    "std = std*(252**0.5)"
   ]
  },
  {
   "cell_type": "code",
   "execution_count": 61,
   "metadata": {},
   "outputs": [],
   "source": [
    "ret_100 = ret.loc[codes]"
   ]
  },
  {
   "cell_type": "code",
   "execution_count": 62,
   "metadata": {},
   "outputs": [],
   "source": [
    "ret_100['std'] = std"
   ]
  },
  {
   "cell_type": "code",
   "execution_count": 64,
   "metadata": {},
   "outputs": [],
   "source": [
    "ret_100['sharpe'] = ret_100['close']/ret_100['std']"
   ]
  },
  {
   "cell_type": "code",
   "execution_count": 69,
   "metadata": {},
   "outputs": [
    {
     "data": {
      "text/plain": [
       "['300782.XSHE',\n",
       " '002791.XSHE',\n",
       " '601865.XSHG',\n",
       " '300677.XSHE',\n",
       " '603129.XSHG',\n",
       " '300759.XSHE',\n",
       " '603737.XSHG',\n",
       " '600809.XSHG',\n",
       " '002568.XSHE',\n",
       " '601100.XSHG',\n",
       " '603613.XSHG',\n",
       " '300573.XSHE',\n",
       " '300661.XSHE',\n",
       " '002475.XSHE',\n",
       " '300792.XSHE',\n",
       " '002607.XSHE',\n",
       " '002847.XSHE',\n",
       " '000799.XSHE',\n",
       " '000858.XSHE',\n",
       " '002241.XSHE']"
      ]
     },
     "execution_count": 69,
     "metadata": {},
     "output_type": "execute_result"
    }
   ],
   "source": [
    "ret_100.sort_values('sharpe',ascending=False).index.tolist()[:20]"
   ]
  },
  {
   "cell_type": "code",
   "execution_count": 71,
   "metadata": {},
   "outputs": [
    {
     "data": {
      "text/plain": [
       "['300595.XSHE',\n",
       " '603737.XSHG',\n",
       " '300122.XSHE',\n",
       " '600882.XSHG',\n",
       " '603456.XSHG',\n",
       " '002541.XSHE',\n",
       " '002475.XSHE',\n",
       " '603882.XSHG',\n",
       " '002847.XSHE',\n",
       " '002709.XSHE',\n",
       " '002568.XSHE',\n",
       " '002705.XSHE',\n",
       " '300601.XSHE',\n",
       " '000799.XSHE',\n",
       " '002214.XSHE',\n",
       " '002791.XSHE',\n",
       " '002459.XSHE',\n",
       " '300151.XSHE',\n",
       " '600988.XSHG',\n",
       " '300702.XSHE',\n",
       " '603208.XSHG',\n",
       " '002803.XSHE',\n",
       " '002683.XSHE',\n",
       " '300729.XSHE',\n",
       " '603129.XSHG',\n",
       " '603267.XSHG',\n",
       " '002030.XSHE',\n",
       " '603520.XSHG',\n",
       " '300677.XSHE',\n",
       " '002241.XSHE',\n",
       " '002919.XSHE',\n",
       " '300274.XSHE',\n",
       " '600211.XSHG',\n",
       " '300759.XSHE',\n",
       " '603317.XSHG',\n",
       " '300225.XSHE',\n",
       " '300014.XSHE',\n",
       " '300502.XSHE',\n",
       " '002959.XSHE',\n",
       " '300433.XSHE',\n",
       " '601236.XSHG',\n",
       " '603501.XSHG',\n",
       " '601066.XSHG',\n",
       " '300492.XSHE',\n",
       " '002371.XSHE',\n",
       " '603301.XSHG',\n",
       " '300489.XSHE',\n",
       " '603986.XSHG',\n",
       " '600584.XSHG',\n",
       " '300363.XSHE',\n",
       " '600745.XSHG',\n",
       " '300661.XSHE',\n",
       " '002481.XSHE',\n",
       " '603236.XSHG',\n",
       " '300062.XSHE',\n",
       " '603005.XSHG',\n",
       " '002351.XSHE',\n",
       " '300767.XSHE',\n",
       " '300552.XSHE',\n",
       " '300777.XSHE',\n",
       " '300763.XSHE',\n",
       " '002600.XSHE',\n",
       " '002291.XSHE',\n",
       " '300573.XSHE',\n",
       " '603613.XSHG',\n",
       " '300397.XSHE',\n",
       " '300318.XSHE',\n",
       " '601698.XSHG',\n",
       " '300792.XSHE',\n",
       " '601865.XSHG',\n",
       " '002961.XSHE',\n",
       " '300782.XSHE',\n",
       " '300346.XSHE',\n",
       " '300775.XSHE',\n",
       " '603976.XSHG',\n",
       " '300785.XSHE',\n",
       " '300526.XSHE',\n",
       " '300722.XSHE',\n",
       " '300576.XSHE',\n",
       " '300598.XSHE']"
      ]
     },
     "execution_count": 71,
     "metadata": {},
     "output_type": "execute_result"
    }
   ],
   "source": [
    "ret_100.sort_values('std').index.tolist()[20:]"
   ]
  },
  {
   "cell_type": "code",
   "execution_count": null,
   "metadata": {},
   "outputs": [],
   "source": []
  }
 ],
 "metadata": {
  "kernelspec": {
   "display_name": "Python [conda env:ricequant]",
   "language": "python",
   "name": "conda-env-ricequant-py"
  },
  "language_info": {
   "codemirror_mode": {
    "name": "ipython",
    "version": 3
   },
   "file_extension": ".py",
   "mimetype": "text/x-python",
   "name": "python",
   "nbconvert_exporter": "python",
   "pygments_lexer": "ipython3",
   "version": "3.7.7"
  }
 },
 "nbformat": 4,
 "nbformat_minor": 4
}
